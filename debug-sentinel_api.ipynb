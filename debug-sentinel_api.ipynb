{
 "cells": [
  {
   "cell_type": "code",
   "execution_count": 1,
   "id": "54a825ad-1ed1-4079-9162-90a9c4cf4eb8",
   "metadata": {},
   "outputs": [],
   "source": [
    "import logging\n",
    "from sentinelhub import MimeType, CRS, BBox, DataCollection, bbox_to_dimensions\n",
    "from sentinelhub import SHConfig, SentinelHubRequest\n",
    "from oauthlib.oauth2 import BackendApplicationClient\n",
    "from requests_oauthlib import OAuth2Session\n",
    "\n",
    "from tools import bbox_geometry_calculator\n",
    "\n",
    "import numpy as np\n",
    "from matplotlib import pyplot as plt\n",
    "from PIL import Image\n",
    "import os"
   ]
  },
  {
   "cell_type": "markdown",
   "id": "fe17b938",
   "metadata": {},
   "source": [
    "### Logging in sentinel account"
   ]
  },
  {
   "cell_type": "code",
   "execution_count": 2,
   "id": "99e6d1e1",
   "metadata": {},
   "outputs": [],
   "source": [
    "logging.basicConfig(level=logging.INFO)\n",
    "\n",
    "# Your client credentials\n",
    "client_id = 'e0b127dc-fbb5-4151-8946-96d8728003c7'\n",
    "client_secret = '4Xy2[Bc#?&L!xbha(XB6*%Xbry,BU-cZA0Dd9n,W'\n",
    "\n",
    "# Create a session\n",
    "# client = BackendApplicationClient(client_id=client_id)\n",
    "# oauth = OAuth2Session(client=client)\n",
    "\n",
    "config = SHConfig(instance_id='',\n",
    "         sh_client_id = client_id,\n",
    "         sh_client_secret = client_secret,\n",
    "         sh_base_url='https://services.sentinel-hub.com',\n",
    "         sh_token_url='https://services.sentinel-hub.com/oauth/token',)\n",
    "\n",
    "# Get token for the session\n",
    "# token = oauth.fetch_token(token_url='https://services.sentinel-hub.com/oauth/token',\n",
    "#                           client_secret=client_secret)\n",
    "\n",
    "# # All requests using this session will have an access token automatically added\n",
    "# resp = oauth.get(\"https://services.sentinel-hub.com/oauth/tokeninfo\")\n",
    "# print(resp.content)"
   ]
  },
  {
   "cell_type": "code",
   "execution_count": 3,
   "id": "2f0fbb82",
   "metadata": {},
   "outputs": [],
   "source": [
    "# save sentinel config\n",
    "# config.instance_id = \"my-instance-id\"\n",
    "# config.save(\"my-profile\")"
   ]
  },
  {
   "cell_type": "markdown",
   "id": "f718f6c9",
   "metadata": {},
   "source": [
    "### Get images from sentinel API"
   ]
  },
  {
   "cell_type": "code",
   "execution_count": 4,
   "id": "cc015a2a",
   "metadata": {},
   "outputs": [],
   "source": [
    "def get_sentinel_image(bbox, timeline, config, data_collection=DataCollection.SENTINEL2_L2A, maxcc=0.8, mosaicking_order = 'mostRecent', resolution=10,\n",
    "                       img_size=None,\n",
    "                    #    save_images=False, data_folder=\"sentinel-hub\"\n",
    "                       ):\n",
    "    evalscript_true_color = \"\"\"\n",
    "        //VERSION=3\n",
    "\n",
    "        function setup() {\n",
    "            return {\n",
    "                input: [{\n",
    "                    bands: [\"B02\", \"B03\", \"B04\"]\n",
    "                }],\n",
    "                output: {\n",
    "                    bands: 3\n",
    "                }\n",
    "            };\n",
    "        }\n",
    "\n",
    "        function evaluatePixel(sample) {\n",
    "            return [3.5*sample.B04, 3.5*sample.B03, 3.5*sample.B02];\n",
    "\n",
    "        }\n",
    "    \"\"\"\n",
    "    # Set resolution and region bb/size.\n",
    "    region_bbox = BBox(bbox = bbox, crs = CRS.WGS84)\n",
    "    if img_size == None:\n",
    "        region_size = bbox_to_dimensions(region_bbox, resolution = resolution)\n",
    "    else:\n",
    "        region_size = img_size\n",
    "    print(f'Requesting images with {resolution}m resolution and region size of {region_size} pixels')\n",
    "    # Build the request.\n",
    "    request_true_color = SentinelHubRequest(\n",
    "        # data_folder = data_folder,\n",
    "        evalscript = evalscript_true_color,\n",
    "        input_data = [\n",
    "            SentinelHubRequest.input_data(\n",
    "                data_collection = data_collection,\n",
    "                time_interval = timeline,\n",
    "                mosaicking_order = mosaicking_order,\n",
    "                # maxcc = maxcc,\n",
    "            )\n",
    "        ], \n",
    "        responses = [\n",
    "            SentinelHubRequest.output_response('default', MimeType.PNG)\n",
    "        ],\n",
    "        bbox = region_bbox,\n",
    "        # resolution = 10,\n",
    "        size = region_size,\n",
    "        config = config,\n",
    "    )\n",
    "\n",
    "    # By construction, only one image at time is returned.\n",
    "    true_color_imgs = request_true_color.get_data(save_data=False)\n",
    "    image = Image.fromarray(true_color_imgs[0].astype('uint8')).convert('RGB')\n",
    "    \n",
    "    return image"
   ]
  },
  {
   "cell_type": "code",
   "execution_count": null,
   "id": "7c5b36d2",
   "metadata": {},
   "outputs": [],
   "source": [
    "bbox = [58.488808, 23.630371, 58.573265, 23.699550]\n",
    "# bbox = [15.0000, -30.0000, 15.1000, -30.1000]\n",
    "w, h, area = bbox_geometry_calculator(bbox)\n",
    "print(f\"w: {w:,.0f}, h: {h:,.0f}, area: {area:,.0f}\")\n",
    "timeline = ('2023-07-05', '2023-09-25')\n",
    "\n",
    "# Parameters\n",
    "mosaicking_order_modes = ['mostRecent', 'leastCC', 'leastRecent']\n",
    "data_collection_modes = [DataCollection.SENTINEL2_L2A, DataCollection.SENTINEL2_L1C]\n",
    "\n",
    "img = get_sentinel_image(bbox, timeline, config=config, data_collection=data_collection_modes[1], mosaicking_order = mosaicking_order_modes[0], resolution=10, maxcc=0.8, img_size=(2500,2500),)\n",
    "img.save(r\"C:\\Users\\user2\\Desktop\\sentinel-3.png\")\n",
    "img"
   ]
  },
  {
   "cell_type": "code",
   "execution_count": 5,
   "id": "0f732b1e",
   "metadata": {},
   "outputs": [],
   "source": [
    "from tools import bbox_geometry_calculator, bbox_divide\n",
    "import cv2\n",
    "\n",
    "def sentinel_get_area(bbox_coords, timeline, config, data_collection=DataCollection.SENTINEL2_L2A, mosaicking_order = 'mostRecent', maxcc=0.8,\n",
    "                      resolution=5, img_size=(2500,2500), save_images=False, data_folder=\"sentinel-hub\", subfolder_name=\"default\"):\n",
    "    w, h, area = bbox_geometry_calculator(bbox_coords)\n",
    "    print(f\"w: {w:,.0f}, h: {h:,.0f}, area: {area:,.0f}\")\n",
    "    bboxes = bbox_divide(bbox_coords)\n",
    "    images = []\n",
    "    for bbox_row in bboxes:\n",
    "        images_row = []\n",
    "        for bbox in bbox_row:\n",
    "            print(bbox)\n",
    "            img = get_sentinel_image(bbox, timeline, config, data_collection=data_collection, maxcc=maxcc, mosaicking_order = mosaicking_order,\n",
    "                                     resolution=resolution, img_size=img_size,)\n",
    "            images_row.append(img)\n",
    "        images_row.append(images)\n",
    "        \n",
    "    images_horizontally = []\n",
    "    for images_row in images:\n",
    "        im_v = cv2.vconcat(images_row)\n",
    "        images_horizontally.append(im_v)\n",
    "        \n",
    "    final_image = cv2.hconcat(images_horizontally) \n",
    "                \n",
    "    # if save_images:\n",
    "    #     if not os.path.exists(data_folder):\n",
    "    #         os.makedirs(data_folder)\n",
    "    # if subfolder_name == \"default\": \n",
    "    #     subfolder_name = f\"{timeline[0]}_to_{timeline[1]-{bbox}-{mosaicking_order}-{data_collection.catalog_id}}\"\n",
    "    # output_path = os.path.join(subfolder_name, data_folder)\n",
    "    # if not os.path.exists(output_path):\n",
    "    #     os.makedirs(output_path)\n",
    "    return final_image\n",
    "    "
   ]
  },
  {
   "cell_type": "code",
   "execution_count": 7,
   "id": "e6c8b002",
   "metadata": {},
   "outputs": [
    {
     "name": "stdout",
     "output_type": "stream",
     "text": [
      "w: 30,568, h: 33,358, area: 1,019,717,312\n",
      "[58.5, 23.6, 58.55, 23.65]\n",
      "Requesting images with 10m resolution and region size of (504, 559) pixels\n",
      "[58.55, 23.6, 58.6, 23.65]\n",
      "Requesting images with 10m resolution and region size of (504, 559) pixels\n",
      "[58.65, 23.6, 58.7, 23.65]\n",
      "Requesting images with 10m resolution and region size of (504, 560) pixels\n",
      "[58.8, 23.6, 58.85, 23.65]\n",
      "Requesting images with 10m resolution and region size of (503, 560) pixels\n",
      "[59.0, 23.6, 59.05, 23.65]\n",
      "Requesting images with 10m resolution and region size of (502, 561) pixels\n",
      "[59.0, 23.65, 59.05, 23.7]\n",
      "Requesting images with 10m resolution and region size of (502, 561) pixels\n",
      "[59.05, 23.65, 59.1, 23.7]\n",
      "Requesting images with 10m resolution and region size of (502, 561) pixels\n",
      "[59.15, 23.65, 59.2, 23.7]\n",
      "Requesting images with 10m resolution and region size of (502, 562) pixels\n",
      "[59.3, 23.65, 59.35, 23.7]\n",
      "Requesting images with 10m resolution and region size of (501, 562) pixels\n",
      "[59.5, 23.65, 59.55, 23.7]\n",
      "Requesting images with 10m resolution and region size of (500, 563) pixels\n",
      "[59.5, 23.75, 59.55, 23.8]\n",
      "Requesting images with 10m resolution and region size of (500, 563) pixels\n",
      "[59.55, 23.75, 59.6, 23.8]\n",
      "Requesting images with 10m resolution and region size of (500, 563) pixels\n",
      "[59.65, 23.75, 59.7, 23.8]\n",
      "Requesting images with 10m resolution and region size of (499, 564) pixels\n",
      "[59.8, 23.75, 59.85, 23.8]\n",
      "Requesting images with 10m resolution and region size of (499, 564) pixels\n",
      "[60.0, 23.75, 60.05, 23.8]\n",
      "Requesting images with 10m resolution and region size of (522, 543) pixels\n",
      "[60.0, 23.9, 60.05, 23.95]\n",
      "Requesting images with 10m resolution and region size of (521, 543) pixels\n",
      "[60.05, 23.9, 60.1, 23.95]\n",
      "Requesting images with 10m resolution and region size of (521, 543) pixels\n",
      "[60.15, 23.9, 60.2, 23.95]\n",
      "Requesting images with 10m resolution and region size of (520, 544) pixels\n",
      "[60.3, 23.9, 60.35, 23.95]\n",
      "Requesting images with 10m resolution and region size of (520, 544) pixels\n",
      "[60.5, 23.9, 60.55, 23.95]\n",
      "Requesting images with 10m resolution and region size of (519, 545) pixels\n",
      "[60.5, 24.1, 60.55, 24.15]\n",
      "Requesting images with 10m resolution and region size of (518, 545) pixels\n",
      "[60.55, 24.1, 60.6, 24.15]\n",
      "Requesting images with 10m resolution and region size of (518, 545) pixels\n",
      "[60.65, 24.1, 60.7, 24.15]\n",
      "Requesting images with 10m resolution and region size of (518, 545) pixels\n",
      "[60.8, 24.1, 60.85, 24.15]\n",
      "Requesting images with 10m resolution and region size of (517, 546) pixels\n",
      "[61.0, 24.1, 61.05, 24.15]\n",
      "Requesting images with 10m resolution and region size of (516, 547) pixels\n"
     ]
    }
   ],
   "source": [
    "bbox_coords = [58.5, 23.6, 58.8, 23.9]\n",
    "timeline = ('2023-07-05', '2023-09-25')\n",
    "\n",
    "# Parameters\n",
    "mosaicking_order_modes = ['mostRecent', 'leastCC', 'leastRecent']\n",
    "data_collection_modes = [DataCollection.SENTINEL2_L2A, DataCollection.SENTINEL2_L1C]\n",
    "\n",
    "res = sentinel_get_area(bbox_coords, timeline, config, data_collection=DataCollection.SENTINEL2_L2A, mosaicking_order = 'mostRecent', maxcc=0.8,\n",
    "                      resolution=10, save_images=False, data_folder=\"sentinel-hub\", subfolder_name=\"default\")"
   ]
  },
  {
   "cell_type": "code",
   "execution_count": 9,
   "id": "23e64ce4",
   "metadata": {},
   "outputs": [
    {
     "name": "stdout",
     "output_type": "stream",
     "text": [
      "None\n"
     ]
    }
   ],
   "source": [
    "print(res)"
   ]
  },
  {
   "cell_type": "code",
   "execution_count": null,
   "id": "8975c5f7",
   "metadata": {},
   "outputs": [],
   "source": []
  },
  {
   "cell_type": "code",
   "execution_count": null,
   "id": "715da3f5",
   "metadata": {},
   "outputs": [],
   "source": []
  },
  {
   "cell_type": "code",
   "execution_count": null,
   "id": "27bd8d55",
   "metadata": {},
   "outputs": [],
   "source": []
  },
  {
   "cell_type": "markdown",
   "id": "52a30bf4",
   "metadata": {},
   "source": [
    "### Drafts"
   ]
  },
  {
   "cell_type": "code",
   "execution_count": null,
   "id": "5f8afbdc-b73e-42ac-8439-272c9cb1f5e6",
   "metadata": {},
   "outputs": [],
   "source": [
    "logging.basicConfig(level=logging.INFO)"
   ]
  },
  {
   "cell_type": "code",
   "execution_count": null,
   "id": "88b44f52-a26d-42c5-827e-ae87b2e28d54",
   "metadata": {},
   "outputs": [],
   "source": [
    "# Load configuration for sentinel-hub API.\n",
    "config = SHConfig()\n",
    "\n",
    "config = SHConfig(instance_id='',\n",
    "         sh_client_id='e0b127dc-fbb5-4151-8946-96d8728003c7',\n",
    "         sh_client_secret='4Xy2[Bc#?&L!xbha(XB6*%Xbry,BU-cZA0Dd9n,W',\n",
    "         sh_base_url='https://services.sentinel-hub.com',\n",
    "         sh_token_url='https://services.sentinel-hub.com/oauth/token',\n",
    ")"
   ]
  },
  {
   "cell_type": "code",
   "execution_count": null,
   "id": "2f57a65c-e90b-4c59-8688-81adb91313db",
   "metadata": {},
   "outputs": [],
   "source": [
    "# config = SHConfig()\n",
    "config.instance_id = \"my-instance-id\"\n",
    "config.save(\"my-profile\")"
   ]
  },
  {
   "cell_type": "code",
   "execution_count": null,
   "id": "af7375ba-9423-465b-97dc-a96947110580",
   "metadata": {},
   "outputs": [],
   "source": [
    "from oauthlib.oauth2 import BackendApplicationClient\n",
    "from requests_oauthlib import OAuth2Session\n",
    "\n",
    "# Your client credentials\n",
    "client_id = 'e0b127dc-fbb5-4151-8946-96d8728003c7'\n",
    "client_secret = '4Xy2[Bc#?&L!xbha(XB6*%Xbry,BU-cZA0Dd9n,W'\n",
    "\n",
    "# Create a session\n",
    "client = BackendApplicationClient(client_id=client_id)\n",
    "oauth = OAuth2Session(client=client)\n",
    "\n",
    "# Get token for the session\n",
    "token = oauth.fetch_token(token_url='https://services.sentinel-hub.com/oauth/token',\n",
    "                          client_secret=client_secret)\n",
    "\n",
    "# All requests using this session will have an access token automatically added\n",
    "resp = oauth.get(\"https://services.sentinel-hub.com/oauth/tokeninfo\")\n",
    "print(resp.content)"
   ]
  },
  {
   "cell_type": "code",
   "execution_count": null,
   "id": "79ecf277-a91c-4985-87a8-7ce515899f1e",
   "metadata": {},
   "outputs": [],
   "source": [
    "# Bands are set in reverse order.\n",
    "evalscript_true_color = \"\"\"\n",
    "    //VERSION=3\n",
    "\n",
    "    function setup() {\n",
    "        return {\n",
    "            input: [{\n",
    "                bands: [\"B02\", \"B03\", \"B04\"]\n",
    "            }],\n",
    "            output: {\n",
    "                bands: 3\n",
    "            }\n",
    "        };\n",
    "    }\n",
    "\n",
    "    function evaluatePixel(sample) {\n",
    "        return [3.5*sample.B04, 3.5*sample.B03, 3.5*sample.B02];\n",
    "\n",
    "    }\n",
    "\"\"\""
   ]
  },
  {
   "cell_type": "code",
   "execution_count": null,
   "id": "dbd46199-f932-4b77-a67f-5c8ac4d8514e",
   "metadata": {},
   "outputs": [],
   "source": [
    "def request_images(coords_wgs84, timeline):\n",
    "    \"\"\"\n",
    "    Arguments:\n",
    "        coords_wgs84: WGS84 coordinates (e.g. bboxfinder.com)\n",
    "        timeline: List of time intervals represented as \"yyyy-mm-dd\"\n",
    "\n",
    "    Returns:\n",
    "        List of images represented as NxMx3 Numpy arrays\n",
    "    \"\"\"\n",
    "\n",
    "    # Set resolution and region bb/size.\n",
    "    resolution = 10\n",
    "    region_bbox = BBox(bbox = coords_wgs84, crs = CRS.WGS84)\n",
    "    region_size = bbox_to_dimensions(region_bbox, resolution = resolution)\n",
    "    print(f'Requesting images with {resolution}m resolution and region size of {region_size} pixels')\n",
    "\n",
    "    images = []\n",
    "    for time_int in timeline:\n",
    "\n",
    "        # Build the request.\n",
    "        request_true_color = SentinelHubRequest(\n",
    "            data_folder='sentinel-hub',\n",
    "            #resolution = resolution,\n",
    "            evalscript = evalscript_true_color,\n",
    "            input_data = [\n",
    "                SentinelHubRequest.input_data(\n",
    "                    data_collection = DataCollection.SENTINEL2_L1C,\n",
    "                    time_interval = time_int,\n",
    "                    mosaicking_order = 'leastCC'\n",
    "                )\n",
    "            ],\n",
    "            responses = [\n",
    "                SentinelHubRequest.output_response('default', MimeType.PNG)\n",
    "            ],\n",
    "            bbox = region_bbox,\n",
    "            size = region_size,\n",
    "            config = config\n",
    "        )\n",
    "        # By construction, only one image at time is returned.\n",
    "        true_color_imgs = request_true_color.get_data(save_data=True)\n",
    "        images.append(true_color_imgs[0])\n",
    "\n",
    "    return images"
   ]
  },
  {
   "cell_type": "code",
   "execution_count": null,
   "id": "a5f009fd-f2b2-4557-8f83-605fce29d1ae",
   "metadata": {},
   "outputs": [],
   "source": [
    "bbox = [58.488808,23.630371,58.573265,23.699550]\n",
    "time_interval = ['2023-07-05', '2023-09-25']"
   ]
  },
  {
   "cell_type": "code",
   "execution_count": null,
   "id": "32504136-9ccc-4dac-baae-acdaae546b82",
   "metadata": {},
   "outputs": [],
   "source": [
    "images = request_images(coords_wgs84=bbox, timeline=time_interval)"
   ]
  },
  {
   "cell_type": "code",
   "execution_count": null,
   "id": "42d9489b-db4a-460e-828e-cf3b6edf1c9a",
   "metadata": {},
   "outputs": [],
   "source": [
    "from inference_modular import ship_detection\n",
    "\n",
    "# images_dir = r\"D:\\NLP 1\\Sat_object_detection\\debug_images_2\"\n",
    "# images_dir = r\"D:\\NLP 1\\Sat_object_detection\\debug_images_3\"\n",
    "# images_dir = r\"D:\\NLP 1\\Sat_object_detection\\inference_images\"\n",
    "images_dir = r\"C:\\Users\\user2\\Desktop\\test\"\n",
    "\n",
    "# coord = {\"0c0d90d8d.jpg\": [58.4893887115, 23.6396684794, 58.4961460224, 23.6487324542],\n",
    "#          \"2d1b074cb.jpg\": [47.3562147890, 26.3220918742, 47.3646843251, 26.3311658917],}\n",
    "\n",
    "result = ship_detection(images=images_dir, annotations=[\"length\", \"coord\"], nms_iou_threshold=0.15, scale_down_factor= 1,\n",
    "                        adaptive_scale_down_parameters = {'a': 0.2, 'b': 0.5, 'threshold': 3}, model_input_dim=768, confidence_threshold=0.7, sahi_overlap_ratio=0.33,\n",
    "                        output_annotated_image=True, save_annotated_image=True, annotation_font_size=15, annotation_bbox_width=1, output_original_image=True)"
   ]
  },
  {
   "cell_type": "code",
   "execution_count": null,
   "id": "e926adb0-d54d-42ed-825c-dd831a8914d2",
   "metadata": {},
   "outputs": [],
   "source": []
  }
 ],
 "metadata": {
  "kernelspec": {
   "display_name": "Python 3 (ipykernel)",
   "language": "python",
   "name": "python3"
  },
  "language_info": {
   "codemirror_mode": {
    "name": "ipython",
    "version": 3
   },
   "file_extension": ".py",
   "mimetype": "text/x-python",
   "name": "python",
   "nbconvert_exporter": "python",
   "pygments_lexer": "ipython3",
   "version": "3.11.4"
  }
 },
 "nbformat": 4,
 "nbformat_minor": 5
}
