{
 "cells": [
  {
   "cell_type": "code",
   "execution_count": 1,
   "metadata": {},
   "outputs": [
    {
     "name": "stderr",
     "output_type": "stream",
     "text": [
      "D:\\NLP 1\\venv\\Lib\\site-packages\\torchvision\\datapoints\\__init__.py:12: UserWarning: The torchvision.datapoints and torchvision.transforms.v2 namespaces are still Beta. While we do not expect major breaking changes, some APIs may still change according to user feedback. Please submit any feedback you may have in this issue: https://github.com/pytorch/vision/issues/6753, and you can also check out https://github.com/pytorch/vision/issues/7319 to learn more about the APIs that we suspect might involve future changes. You can silence this warning by calling torchvision.disable_beta_transforms_warning().\n",
      "  warnings.warn(_BETA_TRANSFORMS_WARNING)\n",
      "D:\\NLP 1\\venv\\Lib\\site-packages\\torchvision\\transforms\\v2\\__init__.py:54: UserWarning: The torchvision.datapoints and torchvision.transforms.v2 namespaces are still Beta. While we do not expect major breaking changes, some APIs may still change according to user feedback. Please submit any feedback you may have in this issue: https://github.com/pytorch/vision/issues/6753, and you can also check out https://github.com/pytorch/vision/issues/7319 to learn more about the APIs that we suspect might involve future changes. You can silence this warning by calling torchvision.disable_beta_transforms_warning().\n",
      "  warnings.warn(_BETA_TRANSFORMS_WARNING)\n"
     ]
    }
   ],
   "source": [
    "import os, math\n",
    "from slicing_inference import sahi_slicing_inference\n",
    "from inference_modular import ship_detection, ship_detection_bulk\n",
    "from PIL import Image \n",
    "import numpy as np\n",
    "from imageutils import resize_img\n",
    "import torch"
   ]
  },
  {
   "cell_type": "code",
   "execution_count": 4,
   "metadata": {},
   "outputs": [],
   "source": [
    "image_path=r\"D:\\NLP 1\\Sat_object_detection\\debug_images\\2.jpg\"\n",
    "image_path=r\"D:\\NLP 1\\Sat_object_detection\\inference_images\\dd4ffcb5c.jpg\"\n",
    "\n",
    "image = Image.open(image_path).convert(\"RGB\")\n",
    "\n",
    "# model = torch.load('models/best_model.pth', map_location = 'cuda')"
   ]
  },
  {
   "cell_type": "code",
   "execution_count": 5,
   "metadata": {},
   "outputs": [
    {
     "ename": "NameError",
     "evalue": "name 'ship_detection_sahi' is not defined",
     "output_type": "error",
     "traceback": [
      "\u001b[1;31m---------------------------------------------------------------------------\u001b[0m",
      "\u001b[1;31mNameError\u001b[0m                                 Traceback (most recent call last)",
      "\u001b[1;32md:\\NLP 1\\Sat_object_detection\\debug.ipynb Cell 3\u001b[0m line \u001b[0;36m2\n\u001b[0;32m      <a href='vscode-notebook-cell:/d%3A/NLP%201/Sat_object_detection/debug.ipynb#W2sZmlsZQ%3D%3D?line=0'>1</a>\u001b[0m bbox_coord \u001b[39m=\u001b[39m [\u001b[39m53.996172\u001b[39m, \u001b[39m16.951560\u001b[39m, \u001b[39m54.010077\u001b[39m, \u001b[39m16.963793\u001b[39m]\n\u001b[1;32m----> <a href='vscode-notebook-cell:/d%3A/NLP%201/Sat_object_detection/debug.ipynb#W2sZmlsZQ%3D%3D?line=1'>2</a>\u001b[0m result \u001b[39m=\u001b[39m ship_detection_sahi(image\u001b[39m=\u001b[39mimage, bbox_coord_wgs84\u001b[39m=\u001b[39mbbox_coord)\n",
      "\u001b[1;31mNameError\u001b[0m: name 'ship_detection_sahi' is not defined"
     ]
    }
   ],
   "source": [
    "bbox_coord = [53.996172, 16.951560, 54.010077, 16.963793]\n",
    "result = ship_detection_sahi(image=image, bbox_coord_wgs84=bbox_coord)"
   ]
  },
  {
   "cell_type": "code",
   "execution_count": null,
   "metadata": {},
   "outputs": [
    {
     "data": {
      "text/plain": [
       "{'res_object': <sahi.prediction.PredictionResult at 0x22e7fd434d0>,\n",
       " 'n_obj': 3,\n",
       " 'bboxes': array([[ 73.13797 , 639.82117 , 124.770706, 741.1826  ],\n",
       "        [ 37.490547, 137.97885 ,  99.83393 , 229.94489 ],\n",
       "        [579.8303  , 552.79254 , 610.90784 , 606.02045 ]], dtype=float32),\n",
       " 'scores': array([0.99949455, 0.9990532 , 0.99712497], dtype=float32),\n",
       " 'sahi_scaled_down_image': <PIL.Image.Image image mode=RGB size=768x768>,\n",
       " 'ships_coord': [(53.997963614676, 16.962558580268),\n",
       "  (53.997415162024, 16.95449021554),\n",
       "  (54.006951436265, 16.960789009952)],\n",
       " 'ships_length': [205.2, 202.4, 111.7],\n",
       " 'ships_bbox_dimensions': [(179.5, 99.4), (162.9, 120.1), (94.3, 59.8)]}"
      ]
     },
     "execution_count": 4,
     "metadata": {},
     "output_type": "execute_result"
    }
   ],
   "source": [
    "result\n",
    "# result['prediction'].export_visuals(export_dir=\"demo_data/\", hide_labels=True,)"
   ]
  },
  {
   "cell_type": "code",
   "execution_count": null,
   "metadata": {},
   "outputs": [],
   "source": [
    "import os\n",
    "path = r\"D:\\NLP 1\\Sat_object_detection\\inference_images\"\n",
    "# raw_path = r\"{0}\".format(path)\n",
    "# path.encode()\n",
    "# os.path.exists(path)"
   ]
  },
  {
   "cell_type": "code",
   "execution_count": null,
   "metadata": {},
   "outputs": [
    {
     "data": {
      "text/plain": [
       "True"
      ]
     },
     "execution_count": 16,
     "metadata": {},
     "output_type": "execute_result"
    }
   ],
   "source": [
    "image_ext = ('.jpg','.jpeg', '.png', '.jp2', '.jfif', '.pjpeg', '.webp', '.tiff', '.tif')\n",
    "filename = r\"D:\\NLP1\\Sat_object_detection\\inference_images\\fsdf.png\"\n",
    "# filename = fr\"{filename}\"\n",
    "filename.endswith(image_ext)"
   ]
  },
  {
   "cell_type": "code",
   "execution_count": null,
   "metadata": {},
   "outputs": [
    {
     "data": {
      "text/plain": [
       "'D:\\\\NLP1\\\\Sat_object_detection\\\\inference_images\\\\fsdf_pred.png'"
      ]
     },
     "execution_count": 23,
     "metadata": {},
     "output_type": "execute_result"
    }
   ],
   "source": [
    "mask_filename = \"{}_pred{}\".format(os.path.splitext(filename)[0], os.path.splitext(filename)[1])\n",
    "mask_filename"
   ]
  },
  {
   "cell_type": "code",
   "execution_count": null,
   "metadata": {},
   "outputs": [
    {
     "data": {
      "text/plain": [
       "1262285"
      ]
     },
     "execution_count": 26,
     "metadata": {},
     "output_type": "execute_result"
    }
   ],
   "source": [
    "size = os.path.getsize(r\"D:\\NLP 1\\Sat_object_detection\\debug_images\\2.jpg\")\n",
    "size"
   ]
  },
  {
   "cell_type": "code",
   "execution_count": null,
   "metadata": {},
   "outputs": [
    {
     "data": {
      "text/plain": [
       "1262285"
      ]
     },
     "execution_count": 33,
     "metadata": {},
     "output_type": "execute_result"
    }
   ],
   "source": [
    "stat = os.stat(r\"D:\\NLP 1\\Sat_object_detection\\debug_images\\2.jpg\")\n",
    "stat.st_size\n"
   ]
  },
  {
   "cell_type": "code",
   "execution_count": null,
   "metadata": {},
   "outputs": [],
   "source": [
    "from exifread import process_file\n",
    "def get_image_dimensions(file_path):\n",
    "    with open(file_path, 'rb') as f:\n",
    "        tags = process_file(f, details=True)\n",
    "        return tags"
   ]
  },
  {
   "cell_type": "code",
   "execution_count": null,
   "metadata": {},
   "outputs": [
    {
     "ename": "NameError",
     "evalue": "name 'get_image_dimensions' is not defined",
     "output_type": "error",
     "traceback": [
      "\u001b[1;31m---------------------------------------------------------------------------\u001b[0m",
      "\u001b[1;31mNameError\u001b[0m                                 Traceback (most recent call last)",
      "\u001b[1;32md:\\NLP 1\\Sat_object_detection\\debug.ipynb Cell 11\u001b[0m line \u001b[0;36m2\n\u001b[0;32m      <a href='vscode-notebook-cell:/d%3A/NLP%201/Sat_object_detection/debug.ipynb#X13sZmlsZQ%3D%3D?line=0'>1</a>\u001b[0m image_path \u001b[39m=\u001b[39m \u001b[39mr\u001b[39m\u001b[39m\"\u001b[39m\u001b[39mD:\u001b[39m\u001b[39m\\\u001b[39m\u001b[39mNLP 1\u001b[39m\u001b[39m\\\u001b[39m\u001b[39mSat_object_detection\u001b[39m\u001b[39m\\\u001b[39m\u001b[39minference_images\u001b[39m\u001b[39m\\\u001b[39m\u001b[39m1.jpg\u001b[39m\u001b[39m\"\u001b[39m\n\u001b[1;32m----> <a href='vscode-notebook-cell:/d%3A/NLP%201/Sat_object_detection/debug.ipynb#X13sZmlsZQ%3D%3D?line=1'>2</a>\u001b[0m d \u001b[39m=\u001b[39m get_image_dimensions(image_path)\n\u001b[0;32m      <a href='vscode-notebook-cell:/d%3A/NLP%201/Sat_object_detection/debug.ipynb#X13sZmlsZQ%3D%3D?line=2'>3</a>\u001b[0m d\n",
      "\u001b[1;31mNameError\u001b[0m: name 'get_image_dimensions' is not defined"
     ]
    }
   ],
   "source": [
    "image_path = r\"D:\\NLP 1\\Sat_object_detection\\inference_images\\2.jpg\"\n",
    "d = get_image_dimensions(image_path)\n",
    "d"
   ]
  },
  {
   "cell_type": "code",
   "execution_count": null,
   "metadata": {},
   "outputs": [],
   "source": [
    "from get_image_size import *"
   ]
  },
  {
   "cell_type": "code",
   "execution_count": null,
   "metadata": {},
   "outputs": [
    {
     "name": "stdout",
     "output_type": "stream",
     "text": [
      "132\n",
      "[['011409565.jpg', '011409565_pred.jpg', (768, 768)], ['012473874.jpg', '012473874_pred.jpg', (768, 768)], ['01f13f599.jpg', '01f13f599_pred.jpg', (768, 768)], ['032610514.jpg', '032610514_pred.jpg', (768, 768)], ['037367901.jpg', '037367901_pred.jpg', (768, 768)], ['03a75a583.jpg', '03a75a583_pred.jpg', (768, 768)], ['041409351.jpg', '041409351_pred.jpg', (768, 768)], ['058358044.jpg', '058358044_pred.jpg', (768, 768)], ['065080198.jpg', '065080198_pred.jpg', (768, 768)], ['078464555.jpg', '078464555_pred.jpg', (768, 768)], ['08229754b.jpg', '08229754b_pred.jpg', (768, 768)], ['084269309.jpg', '084269309_pred.jpg', (768, 768)], ['0aba8fa6f.jpg', '0aba8fa6f_pred.jpg', (768, 768)], ['0b7359c38.jpg', '0b7359c38_pred.jpg', (768, 768)], ['0c0d90d8d.jpg', '0c0d90d8d_pred.jpg', (768, 768)], ['0c24ec954.jpg', '0c24ec954_pred.jpg', (768, 768)], ['0e40b3a5b.jpg', '0e40b3a5b_pred.jpg', (768, 768)], ['0ec10921f.jpg', '0ec10921f_pred.jpg', (768, 768)], ['1.jpg', '1_pred.jpg', (2000, 1467)], ['12572286c.jpg', '12572286c_pred.jpg', (768, 768)], ['14013864b.jpg', '14013864b_pred.jpg', (768, 768)], ['18609713e.jpg', '18609713e_pred.jpg', (768, 768)], ['1b5fd69bc.jpg', '1b5fd69bc_pred.jpg', (768, 768)], ['1ca44d679.jpg', '1ca44d679_pred.jpg', (768, 768)], ['1d0f400ee.jpg', '1d0f400ee_pred.jpg', (768, 768)], ['1_2.jpg', '1_2_pred.jpg', (1467, 1467)], ['1_3.jpg', '1_3_pred.jpg', (1467, 1467)], ['2.jpg', '2_pred.jpg', (8313, 5513)], ['26095039a.jpg', '26095039a_pred.jpg', (768, 768)], ['26823809a.jpg', '26823809a_pred.jpg', (768, 768)], ['2bf540ab6.jpg', '2bf540ab6_pred.jpg', (768, 768)], ['2c65c3125.jpg', '2c65c3125_pred.jpg', (768, 768)], ['2cb5d47a2.jpg', '2cb5d47a2_pred.jpg', (768, 768)], ['2d1a6f1d7.jpg', '2d1a6f1d7_pred.jpg', (768, 768)], ['2d1b074cb.jpg', '2d1b074cb_pred.jpg', (768, 768)], ['2ec80a085.jpg', '2ec80a085_pred.jpg', (768, 768)], ['2f444438d.jpg', '2f444438d_pred.jpg', (768, 768)], ['2_1.jpg', '2_1_pred.jpg', (5513, 5513)], ['2_2.jpg', '2_2_pred.jpg', (4670, 4670)], ['31745469d.jpg', '31745469d_pred.jpg', (768, 768)], ['33925893c.jpg', '33925893c_pred.jpg', (768, 768)], ['34899620c.jpg', '34899620c_pred.jpg', (768, 768)], ['38168248b.jpg', '38168248b_pred.jpg', (768, 768)], ['38237658a.jpg', '38237658a_pred.jpg', (768, 768)], ['38988163c.jpg', '38988163c_pred.jpg', (768, 768)], ['3b0d1d4b2.jpg', '3b0d1d4b2_pred.jpg', (768, 768)], ['3b1539a5d.jpg', '3b1539a5d_pred.jpg', (768, 768)], ['3b1554d64.jpg', '3b1554d64_pred.jpg', (768, 768)], ['3b3ed2440.jpg', '3b3ed2440_pred.jpg', (768, 768)], ['42648574d.jpg', '42648574d_pred.jpg', (768, 768)], ['43347542c.jpg', '43347542c_pred.jpg', (768, 768)], ['44071141e.jpg', '44071141e_pred.jpg', (768, 768)], ['44175789d.jpg', '44175789d_pred.jpg', (768, 768)], ['44432557e.jpg', '44432557e_pred.jpg', (768, 768)], ['44584888f.jpg', '44584888f_pred.jpg', (768, 768)], ['44618001a.jpg', '44618001a_pred.jpg', (768, 768)], ['46653100b.jpg', '46653100b_pred.jpg', (768, 768)], ['52297959b.jpg', '52297959b_pred.jpg', (768, 768)], ['55236555e.jpg', '55236555e_pred.jpg', (768, 768)], ['56990455f.jpg', '56990455f_pred.jpg', (768, 768)], ['57390298a.jpg', '57390298a_pred.jpg', (768, 768)], ['58424055c.jpg', '58424055c_pred.jpg', (768, 768)], ['60295079a.jpg', '60295079a_pred.jpg', (768, 768)], ['61642962f.jpg', '61642962f_pred.jpg', (768, 768)], ['63867551e.jpg', '63867551e_pred.jpg', (768, 768)], ['68153896e.jpg', '68153896e_pred.jpg', (768, 768)], ['68797457b.jpg', '68797457b_pred.jpg', (768, 768)], ['71488764f.jpg', '71488764f_pred.jpg', (768, 768)], ['71519557b.jpg', '71519557b_pred.jpg', (768, 768)], ['72173304c.jpg', '72173304c_pred.jpg', (768, 768)], ['7221420a5.jpg', '7221420a5_pred.jpg', (768, 768)], ['7242578f3.jpg', '7242578f3_pred.jpg', (768, 768)], ['7272882ed.jpg', '7272882ed_pred.jpg', (768, 768)], ['73083966b.jpg', '73083966b_pred.jpg', (768, 768)], ['74121677d.jpg', '74121677d_pred.jpg', (768, 768)], ['7619476c2.jpg', '7619476c2_pred.jpg', (768, 768)], ['7787381d4.jpg', '7787381d4_pred.jpg', (768, 768)], ['7934318f9.jpg', '7934318f9_pred.jpg', (768, 768)], ['7937980e1.jpg', '7937980e1_pred.jpg', (768, 768)], ['8117518d5.jpg', '8117518d5_pred.jpg', (768, 768)], ['8166432c8.jpg', '8166432c8_pred.jpg', (768, 768)], ['82354952a.jpg', '82354952a_pred.jpg', (768, 768)], ['8316753c8.jpg', '8316753c8_pred.jpg', (768, 768)], ['83900351d.jpg', '83900351d_pred.jpg', (768, 768)], ['84827267c.jpg', '84827267c_pred.jpg', (768, 768)], ['85697245a.jpg', '85697245a_pred.jpg', (768, 768)], ['8591865ee.jpg', '8591865ee_pred.jpg', (768, 768)], ['8752531aa.jpg', '8752531aa_pred.jpg', (768, 768)], ['87677250b.jpg', '87677250b_pred.jpg', (768, 768)], ['8814042e0.jpg', '8814042e0_pred.jpg', (768, 768)], ['8849749b2.jpg', '8849749b2_pred.jpg', (768, 768)], ['90614385d.jpg', '90614385d_pred.jpg', (768, 768)], ['91297604d.jpg', '91297604d_pred.jpg', (768, 768)], ['9196798a9.jpg', '9196798a9_pred.jpg', (768, 768)], ['9279279fa.jpg', '9279279fa_pred.jpg', (768, 768)], ['9454131fb.jpg', '9454131fb_pred.jpg', (768, 768)], ['9842324d3.jpg', '9842324d3_pred.jpg', (768, 768)], ['9915044cb.jpg', '9915044cb_pred.jpg', (768, 768)], ['9996921bf.jpg', '9996921bf_pred.jpg', (768, 768)], ['d075491da.jpg', 'd075491da_pred.jpg', (768, 768)], ['d1602e5a1.jpg', 'd1602e5a1_pred.jpg', (768, 768)], ['d30dc6757.jpg', 'd30dc6757_pred.jpg', (768, 768)], ['d40740a01.jpg', 'd40740a01_pred.jpg', (768, 768)], ['d45265381.jpg', 'd45265381_pred.jpg', (768, 768)], ['d4837d743.jpg', 'd4837d743_pred.jpg', (768, 768)], ['d90024c22.jpg', 'd90024c22_pred.jpg', (768, 768)], ['da3c51637.jpg', 'da3c51637_pred.jpg', (768, 768)], ['da3e4cd65.jpg', 'da3e4cd65_pred.jpg', (768, 768)], ['da3ee2f80.jpg', 'da3ee2f80_pred.jpg', (768, 768)], ['da6084af7.jpg', 'da6084af7_pred.jpg', (768, 768)], ['dad047800.jpg', 'dad047800_pred.jpg', (768, 768)], ['db8c4b728.jpg', 'db8c4b728_pred.jpg', (768, 768)], ['dbbe8bc63.jpg', 'dbbe8bc63_pred.jpg', (768, 768)], ['dc007abd3.jpg', 'dc007abd3_pred.jpg', (768, 768)], ['dc0f2e22b.jpg', 'dc0f2e22b_pred.jpg', (768, 768)], ['dc1f36757.jpg', 'dc1f36757_pred.jpg', (768, 768)], ['dd4ffcb5c.jpg', 'dd4ffcb5c_pred.jpg', (768, 768)], ['de7517d54.jpg', 'de7517d54_pred.jpg', (768, 768)], ['df37cc1dc.jpg', 'df37cc1dc_pred.jpg', (768, 768)], ['df648f2f4.jpg', 'df648f2f4_pred.jpg', (768, 768)], ['df82736fc.jpg', 'df82736fc_pred.jpg', (768, 768)], ['df9d741cf.jpg', 'df9d741cf_pred.jpg', (768, 768)], ['dfdfc012a.jpg', 'dfdfc012a_pred.jpg', (768, 768)], ['dfe1d30a7.jpg', 'dfe1d30a7_pred.jpg', (768, 768)], ['dff7a31fc.jpg', 'dff7a31fc_pred.jpg', (768, 768)], ['e0b6f0185.jpg', 'e0b6f0185_pred.jpg', (768, 768)], ['e3adcb329.jpg', 'e3adcb329_pred.jpg', (768, 768)], ['e3da55562.jpg', 'e3da55562_pred.jpg', (768, 768)], ['e7dfaf709.jpg', 'e7dfaf709_pred.jpg', (768, 768)], ['e7e24507a.jpg', 'e7e24507a_pred.jpg', (768, 768)], ['e7e2c2aa6.jpg', 'e7e2c2aa6_pred.jpg', (768, 768)], ['e7f008fb4.jpg', 'e7f008fb4_pred.jpg', (768, 768)]]\n",
      "[['011409565.jpg', '011409565_pred.jpg', (768, 768), 1], ['012473874.jpg', '012473874_pred.jpg', (768, 768), 1], ['01f13f599.jpg', '01f13f599_pred.jpg', (768, 768), 1], ['032610514.jpg', '032610514_pred.jpg', (768, 768), 1], ['037367901.jpg', '037367901_pred.jpg', (768, 768), 1], ['03a75a583.jpg', '03a75a583_pred.jpg', (768, 768), 1], ['041409351.jpg', '041409351_pred.jpg', (768, 768), 1], ['058358044.jpg', '058358044_pred.jpg', (768, 768), 1], ['065080198.jpg', '065080198_pred.jpg', (768, 768), 1], ['078464555.jpg', '078464555_pred.jpg', (768, 768), 1], ['08229754b.jpg', '08229754b_pred.jpg', (768, 768), 1], ['084269309.jpg', '084269309_pred.jpg', (768, 768), 1], ['0aba8fa6f.jpg', '0aba8fa6f_pred.jpg', (768, 768), 1], ['0b7359c38.jpg', '0b7359c38_pred.jpg', (768, 768), 1], ['0c0d90d8d.jpg', '0c0d90d8d_pred.jpg', (768, 768), 1], ['0c24ec954.jpg', '0c24ec954_pred.jpg', (768, 768), 1], ['0e40b3a5b.jpg', '0e40b3a5b_pred.jpg', (768, 768), 1], ['0ec10921f.jpg', '0ec10921f_pred.jpg', (768, 768), 1], ['1.jpg', '1_pred.jpg', (2000, 1467), 1], ['12572286c.jpg', '12572286c_pred.jpg', (768, 768), 1], ['14013864b.jpg', '14013864b_pred.jpg', (768, 768), 1], ['18609713e.jpg', '18609713e_pred.jpg', (768, 768), 1], ['1b5fd69bc.jpg', '1b5fd69bc_pred.jpg', (768, 768), 1], ['1ca44d679.jpg', '1ca44d679_pred.jpg', (768, 768), 1], ['1d0f400ee.jpg', '1d0f400ee_pred.jpg', (768, 768), 1], ['1_2.jpg', '1_2_pred.jpg', (1467, 1467), 1], ['1_3.jpg', '1_3_pred.jpg', (1467, 1467), 1], ['2.jpg', '2_pred.jpg', (8313, 5513), 2], ['26095039a.jpg', '26095039a_pred.jpg', (768, 768), 1], ['26823809a.jpg', '26823809a_pred.jpg', (768, 768), 1], ['2bf540ab6.jpg', '2bf540ab6_pred.jpg', (768, 768), 1], ['2c65c3125.jpg', '2c65c3125_pred.jpg', (768, 768), 1], ['2cb5d47a2.jpg', '2cb5d47a2_pred.jpg', (768, 768), 1], ['2d1a6f1d7.jpg', '2d1a6f1d7_pred.jpg', (768, 768), 1], ['2d1b074cb.jpg', '2d1b074cb_pred.jpg', (768, 768), 1], ['2ec80a085.jpg', '2ec80a085_pred.jpg', (768, 768), 1], ['2f444438d.jpg', '2f444438d_pred.jpg', (768, 768), 1], ['2_1.jpg', '2_1_pred.jpg', (5513, 5513), 2], ['2_2.jpg', '2_2_pred.jpg', (4670, 4670), 1], ['31745469d.jpg', '31745469d_pred.jpg', (768, 768), 1], ['33925893c.jpg', '33925893c_pred.jpg', (768, 768), 1], ['34899620c.jpg', '34899620c_pred.jpg', (768, 768), 1], ['38168248b.jpg', '38168248b_pred.jpg', (768, 768), 1], ['38237658a.jpg', '38237658a_pred.jpg', (768, 768), 1], ['38988163c.jpg', '38988163c_pred.jpg', (768, 768), 1], ['3b0d1d4b2.jpg', '3b0d1d4b2_pred.jpg', (768, 768), 1], ['3b1539a5d.jpg', '3b1539a5d_pred.jpg', (768, 768), 1], ['3b1554d64.jpg', '3b1554d64_pred.jpg', (768, 768), 1], ['3b3ed2440.jpg', '3b3ed2440_pred.jpg', (768, 768), 1], ['42648574d.jpg', '42648574d_pred.jpg', (768, 768), 1], ['43347542c.jpg', '43347542c_pred.jpg', (768, 768), 1], ['44071141e.jpg', '44071141e_pred.jpg', (768, 768), 1], ['44175789d.jpg', '44175789d_pred.jpg', (768, 768), 1], ['44432557e.jpg', '44432557e_pred.jpg', (768, 768), 1], ['44584888f.jpg', '44584888f_pred.jpg', (768, 768), 1], ['44618001a.jpg', '44618001a_pred.jpg', (768, 768), 1], ['46653100b.jpg', '46653100b_pred.jpg', (768, 768), 1], ['52297959b.jpg', '52297959b_pred.jpg', (768, 768), 1], ['55236555e.jpg', '55236555e_pred.jpg', (768, 768), 1], ['56990455f.jpg', '56990455f_pred.jpg', (768, 768), 1], ['57390298a.jpg', '57390298a_pred.jpg', (768, 768), 1], ['58424055c.jpg', '58424055c_pred.jpg', (768, 768), 1], ['60295079a.jpg', '60295079a_pred.jpg', (768, 768), 1], ['61642962f.jpg', '61642962f_pred.jpg', (768, 768), 1], ['63867551e.jpg', '63867551e_pred.jpg', (768, 768), 1], ['68153896e.jpg', '68153896e_pred.jpg', (768, 768), 1], ['68797457b.jpg', '68797457b_pred.jpg', (768, 768), 1], ['71488764f.jpg', '71488764f_pred.jpg', (768, 768), 1], ['71519557b.jpg', '71519557b_pred.jpg', (768, 768), 1], ['72173304c.jpg', '72173304c_pred.jpg', (768, 768), 1], ['7221420a5.jpg', '7221420a5_pred.jpg', (768, 768), 1], ['7242578f3.jpg', '7242578f3_pred.jpg', (768, 768), 1], ['7272882ed.jpg', '7272882ed_pred.jpg', (768, 768), 1], ['73083966b.jpg', '73083966b_pred.jpg', (768, 768), 1], ['74121677d.jpg', '74121677d_pred.jpg', (768, 768), 1], ['7619476c2.jpg', '7619476c2_pred.jpg', (768, 768), 1], ['7787381d4.jpg', '7787381d4_pred.jpg', (768, 768), 1], ['7934318f9.jpg', '7934318f9_pred.jpg', (768, 768), 1], ['7937980e1.jpg', '7937980e1_pred.jpg', (768, 768), 1], ['8117518d5.jpg', '8117518d5_pred.jpg', (768, 768), 1], ['8166432c8.jpg', '8166432c8_pred.jpg', (768, 768), 1], ['82354952a.jpg', '82354952a_pred.jpg', (768, 768), 1], ['8316753c8.jpg', '8316753c8_pred.jpg', (768, 768), 1], ['83900351d.jpg', '83900351d_pred.jpg', (768, 768), 1], ['84827267c.jpg', '84827267c_pred.jpg', (768, 768), 1], ['85697245a.jpg', '85697245a_pred.jpg', (768, 768), 1], ['8591865ee.jpg', '8591865ee_pred.jpg', (768, 768), 1], ['8752531aa.jpg', '8752531aa_pred.jpg', (768, 768), 1], ['87677250b.jpg', '87677250b_pred.jpg', (768, 768), 1], ['8814042e0.jpg', '8814042e0_pred.jpg', (768, 768), 1], ['8849749b2.jpg', '8849749b2_pred.jpg', (768, 768), 1], ['90614385d.jpg', '90614385d_pred.jpg', (768, 768), 1], ['91297604d.jpg', '91297604d_pred.jpg', (768, 768), 1], ['9196798a9.jpg', '9196798a9_pred.jpg', (768, 768), 1], ['9279279fa.jpg', '9279279fa_pred.jpg', (768, 768), 1], ['9454131fb.jpg', '9454131fb_pred.jpg', (768, 768), 1], ['9842324d3.jpg', '9842324d3_pred.jpg', (768, 768), 1], ['9915044cb.jpg', '9915044cb_pred.jpg', (768, 768), 1], ['9996921bf.jpg', '9996921bf_pred.jpg', (768, 768), 1], ['d075491da.jpg', 'd075491da_pred.jpg', (768, 768), 1], ['d1602e5a1.jpg', 'd1602e5a1_pred.jpg', (768, 768), 1], ['d30dc6757.jpg', 'd30dc6757_pred.jpg', (768, 768), 1], ['d40740a01.jpg', 'd40740a01_pred.jpg', (768, 768), 1], ['d45265381.jpg', 'd45265381_pred.jpg', (768, 768), 1], ['d4837d743.jpg', 'd4837d743_pred.jpg', (768, 768), 1], ['d90024c22.jpg', 'd90024c22_pred.jpg', (768, 768), 1], ['da3c51637.jpg', 'da3c51637_pred.jpg', (768, 768), 1], ['da3e4cd65.jpg', 'da3e4cd65_pred.jpg', (768, 768), 1], ['da3ee2f80.jpg', 'da3ee2f80_pred.jpg', (768, 768), 1], ['da6084af7.jpg', 'da6084af7_pred.jpg', (768, 768), 1], ['dad047800.jpg', 'dad047800_pred.jpg', (768, 768), 1], ['db8c4b728.jpg', 'db8c4b728_pred.jpg', (768, 768), 1], ['dbbe8bc63.jpg', 'dbbe8bc63_pred.jpg', (768, 768), 1], ['dc007abd3.jpg', 'dc007abd3_pred.jpg', (768, 768), 1], ['dc0f2e22b.jpg', 'dc0f2e22b_pred.jpg', (768, 768), 1], ['dc1f36757.jpg', 'dc1f36757_pred.jpg', (768, 768), 1], ['dd4ffcb5c.jpg', 'dd4ffcb5c_pred.jpg', (768, 768), 1], ['de7517d54.jpg', 'de7517d54_pred.jpg', (768, 768), 1], ['df37cc1dc.jpg', 'df37cc1dc_pred.jpg', (768, 768), 1], ['df648f2f4.jpg', 'df648f2f4_pred.jpg', (768, 768), 1], ['df82736fc.jpg', 'df82736fc_pred.jpg', (768, 768), 1], ['df9d741cf.jpg', 'df9d741cf_pred.jpg', (768, 768), 1], ['dfdfc012a.jpg', 'dfdfc012a_pred.jpg', (768, 768), 1], ['dfe1d30a7.jpg', 'dfe1d30a7_pred.jpg', (768, 768), 1], ['dff7a31fc.jpg', 'dff7a31fc_pred.jpg', (768, 768), 1], ['e0b6f0185.jpg', 'e0b6f0185_pred.jpg', (768, 768), 1], ['e3adcb329.jpg', 'e3adcb329_pred.jpg', (768, 768), 1], ['e3da55562.jpg', 'e3da55562_pred.jpg', (768, 768), 1], ['e7dfaf709.jpg', 'e7dfaf709_pred.jpg', (768, 768), 1], ['e7e24507a.jpg', 'e7e24507a_pred.jpg', (768, 768), 1], ['e7e2c2aa6.jpg', 'e7e2c2aa6_pred.jpg', (768, 768), 1], ['e7f008fb4.jpg', 'e7f008fb4_pred.jpg', (768, 768), 1]]\n",
      "{1: [['011409565.jpg', '011409565_pred.jpg', (768, 768), 1], ['012473874.jpg', '012473874_pred.jpg', (768, 768), 1], ['01f13f599.jpg', '01f13f599_pred.jpg', (768, 768), 1], ['032610514.jpg', '032610514_pred.jpg', (768, 768), 1], ['037367901.jpg', '037367901_pred.jpg', (768, 768), 1], ['03a75a583.jpg', '03a75a583_pred.jpg', (768, 768), 1], ['041409351.jpg', '041409351_pred.jpg', (768, 768), 1], ['058358044.jpg', '058358044_pred.jpg', (768, 768), 1], ['065080198.jpg', '065080198_pred.jpg', (768, 768), 1], ['078464555.jpg', '078464555_pred.jpg', (768, 768), 1], ['08229754b.jpg', '08229754b_pred.jpg', (768, 768), 1], ['084269309.jpg', '084269309_pred.jpg', (768, 768), 1], ['0aba8fa6f.jpg', '0aba8fa6f_pred.jpg', (768, 768), 1], ['0b7359c38.jpg', '0b7359c38_pred.jpg', (768, 768), 1], ['0c0d90d8d.jpg', '0c0d90d8d_pred.jpg', (768, 768), 1], ['0c24ec954.jpg', '0c24ec954_pred.jpg', (768, 768), 1], ['0e40b3a5b.jpg', '0e40b3a5b_pred.jpg', (768, 768), 1], ['0ec10921f.jpg', '0ec10921f_pred.jpg', (768, 768), 1], ['1.jpg', '1_pred.jpg', (2000, 1467), 1], ['12572286c.jpg', '12572286c_pred.jpg', (768, 768), 1], ['14013864b.jpg', '14013864b_pred.jpg', (768, 768), 1], ['18609713e.jpg', '18609713e_pred.jpg', (768, 768), 1], ['1b5fd69bc.jpg', '1b5fd69bc_pred.jpg', (768, 768), 1], ['1ca44d679.jpg', '1ca44d679_pred.jpg', (768, 768), 1], ['1d0f400ee.jpg', '1d0f400ee_pred.jpg', (768, 768), 1], ['1_2.jpg', '1_2_pred.jpg', (1467, 1467), 1], ['1_3.jpg', '1_3_pred.jpg', (1467, 1467), 1], ['26095039a.jpg', '26095039a_pred.jpg', (768, 768), 1], ['26823809a.jpg', '26823809a_pred.jpg', (768, 768), 1], ['2bf540ab6.jpg', '2bf540ab6_pred.jpg', (768, 768), 1], ['2c65c3125.jpg', '2c65c3125_pred.jpg', (768, 768), 1], ['2cb5d47a2.jpg', '2cb5d47a2_pred.jpg', (768, 768), 1], ['2d1a6f1d7.jpg', '2d1a6f1d7_pred.jpg', (768, 768), 1], ['2d1b074cb.jpg', '2d1b074cb_pred.jpg', (768, 768), 1], ['2ec80a085.jpg', '2ec80a085_pred.jpg', (768, 768), 1], ['2f444438d.jpg', '2f444438d_pred.jpg', (768, 768), 1], ['2_2.jpg', '2_2_pred.jpg', (4670, 4670), 1], ['31745469d.jpg', '31745469d_pred.jpg', (768, 768), 1], ['33925893c.jpg', '33925893c_pred.jpg', (768, 768), 1], ['34899620c.jpg', '34899620c_pred.jpg', (768, 768), 1], ['38168248b.jpg', '38168248b_pred.jpg', (768, 768), 1], ['38237658a.jpg', '38237658a_pred.jpg', (768, 768), 1], ['38988163c.jpg', '38988163c_pred.jpg', (768, 768), 1], ['3b0d1d4b2.jpg', '3b0d1d4b2_pred.jpg', (768, 768), 1], ['3b1539a5d.jpg', '3b1539a5d_pred.jpg', (768, 768), 1], ['3b1554d64.jpg', '3b1554d64_pred.jpg', (768, 768), 1], ['3b3ed2440.jpg', '3b3ed2440_pred.jpg', (768, 768), 1], ['42648574d.jpg', '42648574d_pred.jpg', (768, 768), 1], ['43347542c.jpg', '43347542c_pred.jpg', (768, 768), 1], ['44071141e.jpg', '44071141e_pred.jpg', (768, 768), 1], ['44175789d.jpg', '44175789d_pred.jpg', (768, 768), 1], ['44432557e.jpg', '44432557e_pred.jpg', (768, 768), 1], ['44584888f.jpg', '44584888f_pred.jpg', (768, 768), 1], ['44618001a.jpg', '44618001a_pred.jpg', (768, 768), 1], ['46653100b.jpg', '46653100b_pred.jpg', (768, 768), 1], ['52297959b.jpg', '52297959b_pred.jpg', (768, 768), 1], ['55236555e.jpg', '55236555e_pred.jpg', (768, 768), 1], ['56990455f.jpg', '56990455f_pred.jpg', (768, 768), 1], ['57390298a.jpg', '57390298a_pred.jpg', (768, 768), 1], ['58424055c.jpg', '58424055c_pred.jpg', (768, 768), 1], ['60295079a.jpg', '60295079a_pred.jpg', (768, 768), 1], ['61642962f.jpg', '61642962f_pred.jpg', (768, 768), 1], ['63867551e.jpg', '63867551e_pred.jpg', (768, 768), 1], ['68153896e.jpg', '68153896e_pred.jpg', (768, 768), 1], ['68797457b.jpg', '68797457b_pred.jpg', (768, 768), 1], ['71488764f.jpg', '71488764f_pred.jpg', (768, 768), 1], ['71519557b.jpg', '71519557b_pred.jpg', (768, 768), 1], ['72173304c.jpg', '72173304c_pred.jpg', (768, 768), 1], ['7221420a5.jpg', '7221420a5_pred.jpg', (768, 768), 1], ['7242578f3.jpg', '7242578f3_pred.jpg', (768, 768), 1], ['7272882ed.jpg', '7272882ed_pred.jpg', (768, 768), 1], ['73083966b.jpg', '73083966b_pred.jpg', (768, 768), 1], ['74121677d.jpg', '74121677d_pred.jpg', (768, 768), 1], ['7619476c2.jpg', '7619476c2_pred.jpg', (768, 768), 1], ['7787381d4.jpg', '7787381d4_pred.jpg', (768, 768), 1], ['7934318f9.jpg', '7934318f9_pred.jpg', (768, 768), 1], ['7937980e1.jpg', '7937980e1_pred.jpg', (768, 768), 1], ['8117518d5.jpg', '8117518d5_pred.jpg', (768, 768), 1], ['8166432c8.jpg', '8166432c8_pred.jpg', (768, 768), 1], ['82354952a.jpg', '82354952a_pred.jpg', (768, 768), 1], ['8316753c8.jpg', '8316753c8_pred.jpg', (768, 768), 1], ['83900351d.jpg', '83900351d_pred.jpg', (768, 768), 1], ['84827267c.jpg', '84827267c_pred.jpg', (768, 768), 1], ['85697245a.jpg', '85697245a_pred.jpg', (768, 768), 1], ['8591865ee.jpg', '8591865ee_pred.jpg', (768, 768), 1], ['8752531aa.jpg', '8752531aa_pred.jpg', (768, 768), 1], ['87677250b.jpg', '87677250b_pred.jpg', (768, 768), 1], ['8814042e0.jpg', '8814042e0_pred.jpg', (768, 768), 1], ['8849749b2.jpg', '8849749b2_pred.jpg', (768, 768), 1], ['90614385d.jpg', '90614385d_pred.jpg', (768, 768), 1], ['91297604d.jpg', '91297604d_pred.jpg', (768, 768), 1], ['9196798a9.jpg', '9196798a9_pred.jpg', (768, 768), 1], ['9279279fa.jpg', '9279279fa_pred.jpg', (768, 768), 1], ['9454131fb.jpg', '9454131fb_pred.jpg', (768, 768), 1], ['9842324d3.jpg', '9842324d3_pred.jpg', (768, 768), 1], ['9915044cb.jpg', '9915044cb_pred.jpg', (768, 768), 1], ['9996921bf.jpg', '9996921bf_pred.jpg', (768, 768), 1], ['d075491da.jpg', 'd075491da_pred.jpg', (768, 768), 1], ['d1602e5a1.jpg', 'd1602e5a1_pred.jpg', (768, 768), 1], ['d30dc6757.jpg', 'd30dc6757_pred.jpg', (768, 768), 1], ['d40740a01.jpg', 'd40740a01_pred.jpg', (768, 768), 1], ['d45265381.jpg', 'd45265381_pred.jpg', (768, 768), 1], ['d4837d743.jpg', 'd4837d743_pred.jpg', (768, 768), 1], ['d90024c22.jpg', 'd90024c22_pred.jpg', (768, 768), 1], ['da3c51637.jpg', 'da3c51637_pred.jpg', (768, 768), 1], ['da3e4cd65.jpg', 'da3e4cd65_pred.jpg', (768, 768), 1], ['da3ee2f80.jpg', 'da3ee2f80_pred.jpg', (768, 768), 1], ['da6084af7.jpg', 'da6084af7_pred.jpg', (768, 768), 1], ['dad047800.jpg', 'dad047800_pred.jpg', (768, 768), 1], ['db8c4b728.jpg', 'db8c4b728_pred.jpg', (768, 768), 1], ['dbbe8bc63.jpg', 'dbbe8bc63_pred.jpg', (768, 768), 1], ['dc007abd3.jpg', 'dc007abd3_pred.jpg', (768, 768), 1], ['dc0f2e22b.jpg', 'dc0f2e22b_pred.jpg', (768, 768), 1], ['dc1f36757.jpg', 'dc1f36757_pred.jpg', (768, 768), 1], ['dd4ffcb5c.jpg', 'dd4ffcb5c_pred.jpg', (768, 768), 1], ['de7517d54.jpg', 'de7517d54_pred.jpg', (768, 768), 1], ['df37cc1dc.jpg', 'df37cc1dc_pred.jpg', (768, 768), 1], ['df648f2f4.jpg', 'df648f2f4_pred.jpg', (768, 768), 1], ['df82736fc.jpg', 'df82736fc_pred.jpg', (768, 768), 1], ['df9d741cf.jpg', 'df9d741cf_pred.jpg', (768, 768), 1], ['dfdfc012a.jpg', 'dfdfc012a_pred.jpg', (768, 768), 1], ['dfe1d30a7.jpg', 'dfe1d30a7_pred.jpg', (768, 768), 1], ['dff7a31fc.jpg', 'dff7a31fc_pred.jpg', (768, 768), 1], ['e0b6f0185.jpg', 'e0b6f0185_pred.jpg', (768, 768), 1], ['e3adcb329.jpg', 'e3adcb329_pred.jpg', (768, 768), 1], ['e3da55562.jpg', 'e3da55562_pred.jpg', (768, 768), 1], ['e7dfaf709.jpg', 'e7dfaf709_pred.jpg', (768, 768), 1], ['e7e24507a.jpg', 'e7e24507a_pred.jpg', (768, 768), 1], ['e7e2c2aa6.jpg', 'e7e2c2aa6_pred.jpg', (768, 768), 1], ['e7f008fb4.jpg', 'e7f008fb4_pred.jpg', (768, 768), 1]], 2: [['2.jpg', '2_pred.jpg', (8313, 5513), 2], ['2_1.jpg', '2_1_pred.jpg', (5513, 5513), 2]]}\n",
      "0.0151\n"
     ]
    }
   ],
   "source": [
    "from PIL import Image\n",
    "from time import time\n",
    "\n",
    "t1 = time()\n",
    "counter = 0\n",
    "images_data = []\n",
    "images_dir = r\"D:\\NLP 1\\Sat_object_detection\\inference_images\"\n",
    "# images_dir = r\"D:\\NLP 1\\Sat_object_detection\\large_images\"\n",
    "image_ext = ('.jpg','.jpeg', '.png', '.jp2', '.jfif', '.pjpeg', '.webp', '.tiff', '.tif')\n",
    "for filename in os.listdir(images_dir):\n",
    "    if filename.endswith(image_ext):\n",
    "        # print(filename)\n",
    "        img = filename\n",
    "        img_mask = \"{}_pred{}\".format(os.path.splitext(filename)[0], os.path.splitext(filename)[1])\n",
    "        img_size = Image.open(os.path.join(images_dir, filename)).size\n",
    "        images_data.append([img, img_mask, img_size])\n",
    "        counter += 1\n",
    "print(counter)\n",
    "print(images_data)\n",
    "\n",
    "model_input_dim = 768\n",
    "for img in images_data:\n",
    "    w, h = img[2]\n",
    "    p = (w * h) // (model_input_dim * model_input_dim)\n",
    "    if p > 10:\n",
    "        img_sahi_scale_down_factor = int(round(math.sqrt(p / 20), 0))\n",
    "    else:\n",
    "        img_sahi_scale_down_factor = 1\n",
    "    img.append(img_sahi_scale_down_factor)\n",
    "print(images_data)\n",
    "\n",
    "organized_images_by_scale_down_factor = {}\n",
    "for sublist in images_data:\n",
    "    last_element = sublist[-1]\n",
    "    if last_element not in organized_images_by_scale_down_factor:\n",
    "        organized_images_by_scale_down_factor[last_element] = []\n",
    "    organized_images_by_scale_down_factor[last_element].append(sublist)\n",
    "\n",
    "print(organized_images_by_scale_down_factor)\n",
    "print(f\"{time()-t1:.4f}\")"
   ]
  },
  {
   "cell_type": "code",
   "execution_count": null,
   "metadata": {},
   "outputs": [
    {
     "name": "stdout",
     "output_type": "stream",
     "text": [
      "1\n",
      "2\n"
     ]
    }
   ],
   "source": [
    "for i in organized_images_by_scale_down_factor.keys():\n",
    "    print(i)"
   ]
  },
  {
   "cell_type": "code",
   "execution_count": null,
   "metadata": {},
   "outputs": [
    {
     "name": "stdout",
     "output_type": "stream",
     "text": [
      "[['011409565.jpg', '011409565_pred.jpg', (768, 768), 1, 1], ['012473874.jpg', '012473874_pred.jpg', (768, 768), 1, 1], ['01f13f599.jpg', '01f13f599_pred.jpg', (768, 768), 1, 1], ['032610514.jpg', '032610514_pred.jpg', (768, 768), 1, 1], ['037367901.jpg', '037367901_pred.jpg', (768, 768), 1, 1], ['03a75a583.jpg', '03a75a583_pred.jpg', (768, 768), 1, 1], ['041409351.jpg', '041409351_pred.jpg', (768, 768), 1, 1], ['058358044.jpg', '058358044_pred.jpg', (768, 768), 1, 1], ['065080198.jpg', '065080198_pred.jpg', (768, 768), 1, 1], ['078464555.jpg', '078464555_pred.jpg', (768, 768), 1, 1], ['08229754b.jpg', '08229754b_pred.jpg', (768, 768), 1, 1], ['084269309.jpg', '084269309_pred.jpg', (768, 768), 1, 1], ['0aba8fa6f.jpg', '0aba8fa6f_pred.jpg', (768, 768), 1, 1], ['0b7359c38.jpg', '0b7359c38_pred.jpg', (768, 768), 1, 1], ['0c0d90d8d.jpg', '0c0d90d8d_pred.jpg', (768, 768), 1, 1], ['0c24ec954.jpg', '0c24ec954_pred.jpg', (768, 768), 1, 1], ['0e40b3a5b.jpg', '0e40b3a5b_pred.jpg', (768, 768), 1, 1], ['0ec10921f.jpg', '0ec10921f_pred.jpg', (768, 768), 1, 1], ['1.jpg', '1_pred.jpg', (2000, 1467), 1, 1], ['12572286c.jpg', '12572286c_pred.jpg', (768, 768), 1, 1], ['14013864b.jpg', '14013864b_pred.jpg', (768, 768), 1, 1], ['18609713e.jpg', '18609713e_pred.jpg', (768, 768), 1, 1], ['1b5fd69bc.jpg', '1b5fd69bc_pred.jpg', (768, 768), 1, 1], ['1ca44d679.jpg', '1ca44d679_pred.jpg', (768, 768), 1, 1], ['1d0f400ee.jpg', '1d0f400ee_pred.jpg', (768, 768), 1, 1], ['1_2.jpg', '1_2_pred.jpg', (1467, 1467), 1, 1], ['1_3.jpg', '1_3_pred.jpg', (1467, 1467), 1, 1], ['2.jpg', '2_pred.jpg', (8313, 5513), 2, 2], ['26095039a.jpg', '26095039a_pred.jpg', (768, 768), 1, 1], ['26823809a.jpg', '26823809a_pred.jpg', (768, 768), 1, 1], ['2bf540ab6.jpg', '2bf540ab6_pred.jpg', (768, 768), 1, 1], ['2c65c3125.jpg', '2c65c3125_pred.jpg', (768, 768), 1, 1], ['2cb5d47a2.jpg', '2cb5d47a2_pred.jpg', (768, 768), 1, 1], ['2d1a6f1d7.jpg', '2d1a6f1d7_pred.jpg', (768, 768), 1, 1], ['2d1b074cb.jpg', '2d1b074cb_pred.jpg', (768, 768), 1, 1], ['2ec80a085.jpg', '2ec80a085_pred.jpg', (768, 768), 1, 1], ['2f444438d.jpg', '2f444438d_pred.jpg', (768, 768), 1, 1], ['2_1.jpg', '2_1_pred.jpg', (5513, 5513), 2, 2], ['2_2.jpg', '2_2_pred.jpg', (4670, 4670), 1, 1], ['31745469d.jpg', '31745469d_pred.jpg', (768, 768), 1, 1], ['33925893c.jpg', '33925893c_pred.jpg', (768, 768), 1, 1], ['34899620c.jpg', '34899620c_pred.jpg', (768, 768), 1, 1], ['38168248b.jpg', '38168248b_pred.jpg', (768, 768), 1, 1], ['38237658a.jpg', '38237658a_pred.jpg', (768, 768), 1, 1], ['38988163c.jpg', '38988163c_pred.jpg', (768, 768), 1, 1], ['3b0d1d4b2.jpg', '3b0d1d4b2_pred.jpg', (768, 768), 1, 1], ['3b1539a5d.jpg', '3b1539a5d_pred.jpg', (768, 768), 1, 1], ['3b1554d64.jpg', '3b1554d64_pred.jpg', (768, 768), 1, 1], ['3b3ed2440.jpg', '3b3ed2440_pred.jpg', (768, 768), 1, 1], ['42648574d.jpg', '42648574d_pred.jpg', (768, 768), 1, 1], ['43347542c.jpg', '43347542c_pred.jpg', (768, 768), 1, 1], ['44071141e.jpg', '44071141e_pred.jpg', (768, 768), 1, 1], ['44175789d.jpg', '44175789d_pred.jpg', (768, 768), 1, 1], ['44432557e.jpg', '44432557e_pred.jpg', (768, 768), 1, 1], ['44584888f.jpg', '44584888f_pred.jpg', (768, 768), 1, 1], ['44618001a.jpg', '44618001a_pred.jpg', (768, 768), 1, 1], ['46653100b.jpg', '46653100b_pred.jpg', (768, 768), 1, 1], ['52297959b.jpg', '52297959b_pred.jpg', (768, 768), 1, 1], ['55236555e.jpg', '55236555e_pred.jpg', (768, 768), 1, 1], ['56990455f.jpg', '56990455f_pred.jpg', (768, 768), 1, 1], ['57390298a.jpg', '57390298a_pred.jpg', (768, 768), 1, 1], ['58424055c.jpg', '58424055c_pred.jpg', (768, 768), 1, 1], ['60295079a.jpg', '60295079a_pred.jpg', (768, 768), 1, 1], ['61642962f.jpg', '61642962f_pred.jpg', (768, 768), 1, 1], ['63867551e.jpg', '63867551e_pred.jpg', (768, 768), 1, 1], ['68153896e.jpg', '68153896e_pred.jpg', (768, 768), 1, 1], ['68797457b.jpg', '68797457b_pred.jpg', (768, 768), 1, 1], ['71488764f.jpg', '71488764f_pred.jpg', (768, 768), 1, 1], ['71519557b.jpg', '71519557b_pred.jpg', (768, 768), 1, 1], ['72173304c.jpg', '72173304c_pred.jpg', (768, 768), 1, 1], ['7221420a5.jpg', '7221420a5_pred.jpg', (768, 768), 1, 1], ['7242578f3.jpg', '7242578f3_pred.jpg', (768, 768), 1, 1], ['7272882ed.jpg', '7272882ed_pred.jpg', (768, 768), 1, 1], ['73083966b.jpg', '73083966b_pred.jpg', (768, 768), 1, 1], ['74121677d.jpg', '74121677d_pred.jpg', (768, 768), 1, 1], ['7619476c2.jpg', '7619476c2_pred.jpg', (768, 768), 1, 1], ['7787381d4.jpg', '7787381d4_pred.jpg', (768, 768), 1, 1], ['7934318f9.jpg', '7934318f9_pred.jpg', (768, 768), 1, 1], ['7937980e1.jpg', '7937980e1_pred.jpg', (768, 768), 1, 1], ['8117518d5.jpg', '8117518d5_pred.jpg', (768, 768), 1, 1], ['8166432c8.jpg', '8166432c8_pred.jpg', (768, 768), 1, 1], ['82354952a.jpg', '82354952a_pred.jpg', (768, 768), 1, 1], ['8316753c8.jpg', '8316753c8_pred.jpg', (768, 768), 1, 1], ['83900351d.jpg', '83900351d_pred.jpg', (768, 768), 1, 1], ['84827267c.jpg', '84827267c_pred.jpg', (768, 768), 1, 1], ['85697245a.jpg', '85697245a_pred.jpg', (768, 768), 1, 1], ['8591865ee.jpg', '8591865ee_pred.jpg', (768, 768), 1, 1], ['8752531aa.jpg', '8752531aa_pred.jpg', (768, 768), 1, 1], ['87677250b.jpg', '87677250b_pred.jpg', (768, 768), 1, 1], ['8814042e0.jpg', '8814042e0_pred.jpg', (768, 768), 1, 1], ['8849749b2.jpg', '8849749b2_pred.jpg', (768, 768), 1, 1], ['90614385d.jpg', '90614385d_pred.jpg', (768, 768), 1, 1], ['91297604d.jpg', '91297604d_pred.jpg', (768, 768), 1, 1], ['9196798a9.jpg', '9196798a9_pred.jpg', (768, 768), 1, 1], ['9279279fa.jpg', '9279279fa_pred.jpg', (768, 768), 1, 1], ['9454131fb.jpg', '9454131fb_pred.jpg', (768, 768), 1, 1], ['9842324d3.jpg', '9842324d3_pred.jpg', (768, 768), 1, 1], ['9915044cb.jpg', '9915044cb_pred.jpg', (768, 768), 1, 1], ['9996921bf.jpg', '9996921bf_pred.jpg', (768, 768), 1, 1], ['d075491da.jpg', 'd075491da_pred.jpg', (768, 768), 1, 1], ['d1602e5a1.jpg', 'd1602e5a1_pred.jpg', (768, 768), 1, 1], ['d30dc6757.jpg', 'd30dc6757_pred.jpg', (768, 768), 1, 1], ['d40740a01.jpg', 'd40740a01_pred.jpg', (768, 768), 1, 1], ['d45265381.jpg', 'd45265381_pred.jpg', (768, 768), 1, 1], ['d4837d743.jpg', 'd4837d743_pred.jpg', (768, 768), 1, 1], ['d90024c22.jpg', 'd90024c22_pred.jpg', (768, 768), 1, 1], ['da3c51637.jpg', 'da3c51637_pred.jpg', (768, 768), 1, 1], ['da3e4cd65.jpg', 'da3e4cd65_pred.jpg', (768, 768), 1, 1], ['da3ee2f80.jpg', 'da3ee2f80_pred.jpg', (768, 768), 1, 1], ['da6084af7.jpg', 'da6084af7_pred.jpg', (768, 768), 1, 1], ['dad047800.jpg', 'dad047800_pred.jpg', (768, 768), 1, 1], ['db8c4b728.jpg', 'db8c4b728_pred.jpg', (768, 768), 1, 1], ['dbbe8bc63.jpg', 'dbbe8bc63_pred.jpg', (768, 768), 1, 1], ['dc007abd3.jpg', 'dc007abd3_pred.jpg', (768, 768), 1, 1], ['dc0f2e22b.jpg', 'dc0f2e22b_pred.jpg', (768, 768), 1, 1], ['dc1f36757.jpg', 'dc1f36757_pred.jpg', (768, 768), 1, 1], ['dd4ffcb5c.jpg', 'dd4ffcb5c_pred.jpg', (768, 768), 1, 1], ['de7517d54.jpg', 'de7517d54_pred.jpg', (768, 768), 1, 1], ['df37cc1dc.jpg', 'df37cc1dc_pred.jpg', (768, 768), 1, 1], ['df648f2f4.jpg', 'df648f2f4_pred.jpg', (768, 768), 1, 1], ['df82736fc.jpg', 'df82736fc_pred.jpg', (768, 768), 1, 1], ['df9d741cf.jpg', 'df9d741cf_pred.jpg', (768, 768), 1, 1], ['dfdfc012a.jpg', 'dfdfc012a_pred.jpg', (768, 768), 1, 1], ['dfe1d30a7.jpg', 'dfe1d30a7_pred.jpg', (768, 768), 1, 1], ['dff7a31fc.jpg', 'dff7a31fc_pred.jpg', (768, 768), 1, 1], ['e0b6f0185.jpg', 'e0b6f0185_pred.jpg', (768, 768), 1, 1], ['e3adcb329.jpg', 'e3adcb329_pred.jpg', (768, 768), 1, 1], ['e3da55562.jpg', 'e3da55562_pred.jpg', (768, 768), 1, 1], ['e7dfaf709.jpg', 'e7dfaf709_pred.jpg', (768, 768), 1, 1], ['e7e24507a.jpg', 'e7e24507a_pred.jpg', (768, 768), 1, 1], ['e7e2c2aa6.jpg', 'e7e2c2aa6_pred.jpg', (768, 768), 1, 1], ['e7f008fb4.jpg', 'e7f008fb4_pred.jpg', (768, 768), 1, 1]]\n"
     ]
    }
   ],
   "source": [
    "model_input_dim = 768\n",
    "for img in images_data:\n",
    "    w, h = img[2]\n",
    "    p = (w * h) // (model_input_dim * model_input_dim)\n",
    "    if p > 10:\n",
    "        img_sahi_scale_down_factor = int(round(math.sqrt(p / 20), 0))\n",
    "    else:\n",
    "        img_sahi_scale_down_factor = 1\n",
    "    img.append(img_sahi_scale_down_factor)\n",
    "print(images_data)"
   ]
  },
  {
   "cell_type": "code",
   "execution_count": null,
   "metadata": {},
   "outputs": [
    {
     "name": "stdout",
     "output_type": "stream",
     "text": [
      "['2.jpg', '2_pred.jpg', (8313, 5513), 2]\n",
      "['2_1.jpg', '2_1_pred.jpg', (5513, 5513), 2]\n"
     ]
    }
   ],
   "source": [
    "for img in images_data:\n",
    "    if img[3] != 1:\n",
    "        print(img)"
   ]
  },
  {
   "cell_type": "code",
   "execution_count": null,
   "metadata": {},
   "outputs": [],
   "source": [
    "organized_images_by_scale_down_factor = {}\n",
    "for sublist in images_data:\n",
    "    last_element = sublist[-1]\n",
    "    if last_element not in organized_images_by_scale_down_factor:\n",
    "        organized_images_by_scale_down_factor[last_element] = []\n",
    "    organized_images_by_scale_down_factor[last_element].append(sublist)"
   ]
  },
  {
   "cell_type": "code",
   "execution_count": null,
   "metadata": {},
   "outputs": [
    {
     "data": {
      "text/plain": [
       "{1: [['011409565.jpg', '011409565_pred.jpg', (768, 768), 1],\n",
       "  ['012473874.jpg', '012473874_pred.jpg', (768, 768), 1],\n",
       "  ['01f13f599.jpg', '01f13f599_pred.jpg', (768, 768), 1],\n",
       "  ['032610514.jpg', '032610514_pred.jpg', (768, 768), 1],\n",
       "  ['037367901.jpg', '037367901_pred.jpg', (768, 768), 1],\n",
       "  ['03a75a583.jpg', '03a75a583_pred.jpg', (768, 768), 1],\n",
       "  ['041409351.jpg', '041409351_pred.jpg', (768, 768), 1],\n",
       "  ['058358044.jpg', '058358044_pred.jpg', (768, 768), 1],\n",
       "  ['065080198.jpg', '065080198_pred.jpg', (768, 768), 1],\n",
       "  ['078464555.jpg', '078464555_pred.jpg', (768, 768), 1],\n",
       "  ['08229754b.jpg', '08229754b_pred.jpg', (768, 768), 1],\n",
       "  ['084269309.jpg', '084269309_pred.jpg', (768, 768), 1],\n",
       "  ['0aba8fa6f.jpg', '0aba8fa6f_pred.jpg', (768, 768), 1],\n",
       "  ['0b7359c38.jpg', '0b7359c38_pred.jpg', (768, 768), 1],\n",
       "  ['0c0d90d8d.jpg', '0c0d90d8d_pred.jpg', (768, 768), 1],\n",
       "  ['0c24ec954.jpg', '0c24ec954_pred.jpg', (768, 768), 1],\n",
       "  ['0e40b3a5b.jpg', '0e40b3a5b_pred.jpg', (768, 768), 1],\n",
       "  ['0ec10921f.jpg', '0ec10921f_pred.jpg', (768, 768), 1],\n",
       "  ['1.jpg', '1_pred.jpg', (2000, 1467), 1],\n",
       "  ['12572286c.jpg', '12572286c_pred.jpg', (768, 768), 1],\n",
       "  ['14013864b.jpg', '14013864b_pred.jpg', (768, 768), 1],\n",
       "  ['18609713e.jpg', '18609713e_pred.jpg', (768, 768), 1],\n",
       "  ['1b5fd69bc.jpg', '1b5fd69bc_pred.jpg', (768, 768), 1],\n",
       "  ['1ca44d679.jpg', '1ca44d679_pred.jpg', (768, 768), 1],\n",
       "  ['1d0f400ee.jpg', '1d0f400ee_pred.jpg', (768, 768), 1],\n",
       "  ['1_2.jpg', '1_2_pred.jpg', (1467, 1467), 1],\n",
       "  ['1_3.jpg', '1_3_pred.jpg', (1467, 1467), 1],\n",
       "  ['26095039a.jpg', '26095039a_pred.jpg', (768, 768), 1],\n",
       "  ['26823809a.jpg', '26823809a_pred.jpg', (768, 768), 1],\n",
       "  ['2bf540ab6.jpg', '2bf540ab6_pred.jpg', (768, 768), 1],\n",
       "  ['2c65c3125.jpg', '2c65c3125_pred.jpg', (768, 768), 1],\n",
       "  ['2cb5d47a2.jpg', '2cb5d47a2_pred.jpg', (768, 768), 1],\n",
       "  ['2d1a6f1d7.jpg', '2d1a6f1d7_pred.jpg', (768, 768), 1],\n",
       "  ['2d1b074cb.jpg', '2d1b074cb_pred.jpg', (768, 768), 1],\n",
       "  ['2ec80a085.jpg', '2ec80a085_pred.jpg', (768, 768), 1],\n",
       "  ['2f444438d.jpg', '2f444438d_pred.jpg', (768, 768), 1],\n",
       "  ['2_2.jpg', '2_2_pred.jpg', (4670, 4670), 1],\n",
       "  ['31745469d.jpg', '31745469d_pred.jpg', (768, 768), 1],\n",
       "  ['33925893c.jpg', '33925893c_pred.jpg', (768, 768), 1],\n",
       "  ['34899620c.jpg', '34899620c_pred.jpg', (768, 768), 1],\n",
       "  ['38168248b.jpg', '38168248b_pred.jpg', (768, 768), 1],\n",
       "  ['38237658a.jpg', '38237658a_pred.jpg', (768, 768), 1],\n",
       "  ['38988163c.jpg', '38988163c_pred.jpg', (768, 768), 1],\n",
       "  ['3b0d1d4b2.jpg', '3b0d1d4b2_pred.jpg', (768, 768), 1],\n",
       "  ['3b1539a5d.jpg', '3b1539a5d_pred.jpg', (768, 768), 1],\n",
       "  ['3b1554d64.jpg', '3b1554d64_pred.jpg', (768, 768), 1],\n",
       "  ['3b3ed2440.jpg', '3b3ed2440_pred.jpg', (768, 768), 1],\n",
       "  ['42648574d.jpg', '42648574d_pred.jpg', (768, 768), 1],\n",
       "  ['43347542c.jpg', '43347542c_pred.jpg', (768, 768), 1],\n",
       "  ['44071141e.jpg', '44071141e_pred.jpg', (768, 768), 1],\n",
       "  ['44175789d.jpg', '44175789d_pred.jpg', (768, 768), 1],\n",
       "  ['44432557e.jpg', '44432557e_pred.jpg', (768, 768), 1],\n",
       "  ['44584888f.jpg', '44584888f_pred.jpg', (768, 768), 1],\n",
       "  ['44618001a.jpg', '44618001a_pred.jpg', (768, 768), 1],\n",
       "  ['46653100b.jpg', '46653100b_pred.jpg', (768, 768), 1],\n",
       "  ['52297959b.jpg', '52297959b_pred.jpg', (768, 768), 1],\n",
       "  ['55236555e.jpg', '55236555e_pred.jpg', (768, 768), 1],\n",
       "  ['56990455f.jpg', '56990455f_pred.jpg', (768, 768), 1],\n",
       "  ['57390298a.jpg', '57390298a_pred.jpg', (768, 768), 1],\n",
       "  ['58424055c.jpg', '58424055c_pred.jpg', (768, 768), 1],\n",
       "  ['60295079a.jpg', '60295079a_pred.jpg', (768, 768), 1],\n",
       "  ['61642962f.jpg', '61642962f_pred.jpg', (768, 768), 1],\n",
       "  ['63867551e.jpg', '63867551e_pred.jpg', (768, 768), 1],\n",
       "  ['68153896e.jpg', '68153896e_pred.jpg', (768, 768), 1],\n",
       "  ['68797457b.jpg', '68797457b_pred.jpg', (768, 768), 1],\n",
       "  ['71488764f.jpg', '71488764f_pred.jpg', (768, 768), 1],\n",
       "  ['71519557b.jpg', '71519557b_pred.jpg', (768, 768), 1],\n",
       "  ['72173304c.jpg', '72173304c_pred.jpg', (768, 768), 1],\n",
       "  ['7221420a5.jpg', '7221420a5_pred.jpg', (768, 768), 1],\n",
       "  ['7242578f3.jpg', '7242578f3_pred.jpg', (768, 768), 1],\n",
       "  ['7272882ed.jpg', '7272882ed_pred.jpg', (768, 768), 1],\n",
       "  ['73083966b.jpg', '73083966b_pred.jpg', (768, 768), 1],\n",
       "  ['74121677d.jpg', '74121677d_pred.jpg', (768, 768), 1],\n",
       "  ['7619476c2.jpg', '7619476c2_pred.jpg', (768, 768), 1],\n",
       "  ['7787381d4.jpg', '7787381d4_pred.jpg', (768, 768), 1],\n",
       "  ['7934318f9.jpg', '7934318f9_pred.jpg', (768, 768), 1],\n",
       "  ['7937980e1.jpg', '7937980e1_pred.jpg', (768, 768), 1],\n",
       "  ['8117518d5.jpg', '8117518d5_pred.jpg', (768, 768), 1],\n",
       "  ['8166432c8.jpg', '8166432c8_pred.jpg', (768, 768), 1],\n",
       "  ['82354952a.jpg', '82354952a_pred.jpg', (768, 768), 1],\n",
       "  ['8316753c8.jpg', '8316753c8_pred.jpg', (768, 768), 1],\n",
       "  ['83900351d.jpg', '83900351d_pred.jpg', (768, 768), 1],\n",
       "  ['84827267c.jpg', '84827267c_pred.jpg', (768, 768), 1],\n",
       "  ['85697245a.jpg', '85697245a_pred.jpg', (768, 768), 1],\n",
       "  ['8591865ee.jpg', '8591865ee_pred.jpg', (768, 768), 1],\n",
       "  ['8752531aa.jpg', '8752531aa_pred.jpg', (768, 768), 1],\n",
       "  ['87677250b.jpg', '87677250b_pred.jpg', (768, 768), 1],\n",
       "  ['8814042e0.jpg', '8814042e0_pred.jpg', (768, 768), 1],\n",
       "  ['8849749b2.jpg', '8849749b2_pred.jpg', (768, 768), 1],\n",
       "  ['90614385d.jpg', '90614385d_pred.jpg', (768, 768), 1],\n",
       "  ['91297604d.jpg', '91297604d_pred.jpg', (768, 768), 1],\n",
       "  ['9196798a9.jpg', '9196798a9_pred.jpg', (768, 768), 1],\n",
       "  ['9279279fa.jpg', '9279279fa_pred.jpg', (768, 768), 1],\n",
       "  ['9454131fb.jpg', '9454131fb_pred.jpg', (768, 768), 1],\n",
       "  ['9842324d3.jpg', '9842324d3_pred.jpg', (768, 768), 1],\n",
       "  ['9915044cb.jpg', '9915044cb_pred.jpg', (768, 768), 1],\n",
       "  ['9996921bf.jpg', '9996921bf_pred.jpg', (768, 768), 1],\n",
       "  ['d075491da.jpg', 'd075491da_pred.jpg', (768, 768), 1],\n",
       "  ['d1602e5a1.jpg', 'd1602e5a1_pred.jpg', (768, 768), 1],\n",
       "  ['d30dc6757.jpg', 'd30dc6757_pred.jpg', (768, 768), 1],\n",
       "  ['d40740a01.jpg', 'd40740a01_pred.jpg', (768, 768), 1],\n",
       "  ['d45265381.jpg', 'd45265381_pred.jpg', (768, 768), 1],\n",
       "  ['d4837d743.jpg', 'd4837d743_pred.jpg', (768, 768), 1],\n",
       "  ['d90024c22.jpg', 'd90024c22_pred.jpg', (768, 768), 1],\n",
       "  ['da3c51637.jpg', 'da3c51637_pred.jpg', (768, 768), 1],\n",
       "  ['da3e4cd65.jpg', 'da3e4cd65_pred.jpg', (768, 768), 1],\n",
       "  ['da3ee2f80.jpg', 'da3ee2f80_pred.jpg', (768, 768), 1],\n",
       "  ['da6084af7.jpg', 'da6084af7_pred.jpg', (768, 768), 1],\n",
       "  ['dad047800.jpg', 'dad047800_pred.jpg', (768, 768), 1],\n",
       "  ['db8c4b728.jpg', 'db8c4b728_pred.jpg', (768, 768), 1],\n",
       "  ['dbbe8bc63.jpg', 'dbbe8bc63_pred.jpg', (768, 768), 1],\n",
       "  ['dc007abd3.jpg', 'dc007abd3_pred.jpg', (768, 768), 1],\n",
       "  ['dc0f2e22b.jpg', 'dc0f2e22b_pred.jpg', (768, 768), 1],\n",
       "  ['dc1f36757.jpg', 'dc1f36757_pred.jpg', (768, 768), 1],\n",
       "  ['dd4ffcb5c.jpg', 'dd4ffcb5c_pred.jpg', (768, 768), 1],\n",
       "  ['de7517d54.jpg', 'de7517d54_pred.jpg', (768, 768), 1],\n",
       "  ['df37cc1dc.jpg', 'df37cc1dc_pred.jpg', (768, 768), 1],\n",
       "  ['df648f2f4.jpg', 'df648f2f4_pred.jpg', (768, 768), 1],\n",
       "  ['df82736fc.jpg', 'df82736fc_pred.jpg', (768, 768), 1],\n",
       "  ['df9d741cf.jpg', 'df9d741cf_pred.jpg', (768, 768), 1],\n",
       "  ['dfdfc012a.jpg', 'dfdfc012a_pred.jpg', (768, 768), 1],\n",
       "  ['dfe1d30a7.jpg', 'dfe1d30a7_pred.jpg', (768, 768), 1],\n",
       "  ['dff7a31fc.jpg', 'dff7a31fc_pred.jpg', (768, 768), 1],\n",
       "  ['e0b6f0185.jpg', 'e0b6f0185_pred.jpg', (768, 768), 1],\n",
       "  ['e3adcb329.jpg', 'e3adcb329_pred.jpg', (768, 768), 1],\n",
       "  ['e3da55562.jpg', 'e3da55562_pred.jpg', (768, 768), 1],\n",
       "  ['e7dfaf709.jpg', 'e7dfaf709_pred.jpg', (768, 768), 1],\n",
       "  ['e7e24507a.jpg', 'e7e24507a_pred.jpg', (768, 768), 1],\n",
       "  ['e7e2c2aa6.jpg', 'e7e2c2aa6_pred.jpg', (768, 768), 1],\n",
       "  ['e7f008fb4.jpg', 'e7f008fb4_pred.jpg', (768, 768), 1]],\n",
       " 2: [['2.jpg', '2_pred.jpg', (8313, 5513), 2],\n",
       "  ['2_1.jpg', '2_1_pred.jpg', (5513, 5513), 2]]}"
      ]
     },
     "execution_count": 76,
     "metadata": {},
     "output_type": "execute_result"
    }
   ],
   "source": [
    "organized_images_by_scale_down_factor"
   ]
  },
  {
   "cell_type": "code",
   "execution_count": null,
   "metadata": {},
   "outputs": [
    {
     "name": "stdout",
     "output_type": "stream",
     "text": [
      "D:\\NLP 1\\Sat_object_detection\\inference_images ['aaa'] ['011409565.jpg', '012473874.jpg', '01f13f599.jpg', '032610514.jpg', '037367901.jpg', '03a75a583.jpg', '041409351.jpg', '058358044.jpg', '065080198.jpg', '078464555.jpg', '08229754b.jpg', '084269309.jpg', '0aba8fa6f.jpg', '0b7359c38.jpg', '0c0d90d8d.jpg', '0c24ec954.jpg', '0e40b3a5b.jpg', '0ec10921f.jpg', '1.jpg', '12572286c.jpg', '14013864b.jpg', '18609713e.jpg', '1b5fd69bc.jpg', '1ca44d679.jpg', '1d0f400ee.jpg', '1_2.jpg', '1_3.jpg', '2.jpg', '26095039a.jpg', '26823809a.jpg', '2bf540ab6.jpg', '2c65c3125.jpg', '2cb5d47a2.jpg', '2d1a6f1d7.jpg', '2d1b074cb.jpg', '2ec80a085.jpg', '2f444438d.jpg', '2_1.jpg', '2_2.jpg', '31745469d.jpg', '33925893c.jpg', '34899620c.jpg', '38168248b.jpg', '38237658a.jpg', '38988163c.jpg', '3b0d1d4b2.jpg', '3b1539a5d.jpg', '3b1554d64.jpg', '3b3ed2440.jpg', '42648574d.jpg', '43347542c.jpg', '44071141e.jpg', '44175789d.jpg', '44432557e.jpg', '44584888f.jpg', '44618001a.jpg', '46653100b.jpg', '52297959b.jpg', '55236555e.jpg', '56990455f.jpg', '57390298a.jpg', '58424055c.jpg', '60295079a.jpg', '61642962f.jpg', '63867551e.jpg', '68153896e.jpg', '68797457b.jpg', '71488764f.jpg', '71519557b.jpg', '72173304c.jpg', '7221420a5.jpg', '7242578f3.jpg', '7272882ed.jpg', '73083966b.jpg', '74121677d.jpg', '7619476c2.jpg', '7787381d4.jpg', '7934318f9.jpg', '7937980e1.jpg', '8117518d5.jpg', '8166432c8.jpg', '82354952a.jpg', '8316753c8.jpg', '83900351d.jpg', '84827267c.jpg', '85697245a.jpg', '8591865ee.jpg', '8752531aa.jpg', '87677250b.jpg', '8814042e0.jpg', '8849749b2.jpg', '90614385d.jpg', '91297604d.jpg', '9196798a9.jpg', '9279279fa.jpg', '9454131fb.jpg', '9842324d3.jpg', '9915044cb.jpg', '9996921bf.jpg', 'd075491da.jpg', 'd1602e5a1.jpg', 'd30dc6757.jpg', 'd40740a01.jpg', 'd45265381.jpg', 'd4837d743.jpg', 'd90024c22.jpg', 'da3c51637.jpg', 'da3e4cd65.jpg', 'da3ee2f80.jpg', 'da6084af7.jpg', 'dad047800.jpg', 'db8c4b728.jpg', 'dbbe8bc63.jpg', 'dc007abd3.jpg', 'dc0f2e22b.jpg', 'dc1f36757.jpg', 'dd4ffcb5c.jpg', 'de7517d54.jpg', 'df37cc1dc.jpg', 'df648f2f4.jpg', 'df82736fc.jpg', 'df9d741cf.jpg', 'dfdfc012a.jpg', 'dfe1d30a7.jpg', 'dff7a31fc.jpg', 'e0b6f0185.jpg', 'e3adcb329.jpg', 'e3da55562.jpg', 'e7dfaf709.jpg', 'e7e24507a.jpg', 'e7e2c2aa6.jpg', 'e7f008fb4.jpg', 'README.md']\n",
      "D:\\NLP 1\\Sat_object_detection\\inference_images\\aaa [] ['0aba8fa6f.jpg', '0b7359c38.jpg', '0c0d90d8d.jpg']\n"
     ]
    }
   ],
   "source": [
    "for r, d, f in a:\n",
    "    print(r, d, f)"
   ]
  },
  {
   "cell_type": "code",
   "execution_count": null,
   "metadata": {},
   "outputs": [
    {
     "name": "stdout",
     "output_type": "stream",
     "text": [
      "None\n"
     ]
    }
   ],
   "source": [
    "d = {\"a\": 1, \"b\": 2}\n",
    "print(d.get(\"c\"))"
   ]
  },
  {
   "cell_type": "code",
   "execution_count": 1,
   "metadata": {},
   "outputs": [
    {
     "name": "stderr",
     "output_type": "stream",
     "text": [
      "D:\\NLP 1\\venv\\Lib\\site-packages\\torchvision\\datapoints\\__init__.py:12: UserWarning: The torchvision.datapoints and torchvision.transforms.v2 namespaces are still Beta. While we do not expect major breaking changes, some APIs may still change according to user feedback. Please submit any feedback you may have in this issue: https://github.com/pytorch/vision/issues/6753, and you can also check out https://github.com/pytorch/vision/issues/7319 to learn more about the APIs that we suspect might involve future changes. You can silence this warning by calling torchvision.disable_beta_transforms_warning().\n",
      "  warnings.warn(_BETA_TRANSFORMS_WARNING)\n",
      "D:\\NLP 1\\venv\\Lib\\site-packages\\torchvision\\transforms\\v2\\__init__.py:54: UserWarning: The torchvision.datapoints and torchvision.transforms.v2 namespaces are still Beta. While we do not expect major breaking changes, some APIs may still change according to user feedback. Please submit any feedback you may have in this issue: https://github.com/pytorch/vision/issues/6753, and you can also check out https://github.com/pytorch/vision/issues/7319 to learn more about the APIs that we suspect might involve future changes. You can silence this warning by calling torchvision.disable_beta_transforms_warning().\n",
      "  warnings.warn(_BETA_TRANSFORMS_WARNING)\n"
     ]
    },
    {
     "name": "stdout",
     "output_type": "stream",
     "text": [
      "Processing 03a75a583.jpg\n",
      "Performing prediction on 1 number of slices.\n",
      "bboxes.dim():  1\n",
      "tensor([])\n",
      "Processing 08229754b.jpg\n",
      "Performing prediction on 1 number of slices.\n",
      "Object found -> bbox:  [434.6351  356.14618 471.4752  481.77582]\n",
      "Object found -> bbox:  [748.93353 431.21533 767.94855 471.54468]\n",
      "bboxes.dim():  2\n",
      "tensor([[434.6351, 356.1462, 471.4752, 481.7758],\n",
      "        [748.9335, 431.2153, 767.9485, 471.5447]])\n",
      "Processing 0b7359c38.jpg\n",
      "Performing prediction on 1 number of slices.\n"
     ]
    },
    {
     "name": "stderr",
     "output_type": "stream",
     "text": [
      "D:\\NLP 1\\venv\\Lib\\site-packages\\torchvision\\utils.py:232: UserWarning: Argument 'font_size' will be ignored since 'font' is not set.\n",
      "  warnings.warn(\"Argument 'font_size' will be ignored since 'font' is not set.\")\n"
     ]
    },
    {
     "name": "stdout",
     "output_type": "stream",
     "text": [
      "Object found -> bbox:  [ 25.5195  414.79556 415.13986 478.85983]\n",
      "bboxes.dim():  2\n",
      "tensor([[ 25.5195, 414.7956, 415.1399, 478.8598]])\n",
      "Processing 0c0d90d8d.jpg\n",
      "Performing prediction on 1 number of slices.\n",
      "Object found -> bbox:  [593.7077   45.92871 753.17255 254.45227]\n",
      "Object found -> bbox:  [620.5995  627.19763 637.94653 635.86365]\n",
      "Object found -> bbox:  [180.73062 636.78705 194.8421  644.33075]\n",
      "bboxes.dim():  2\n",
      "tensor([[593.7077,  45.9287, 753.1725, 254.4523],\n",
      "        [620.5995, 627.1976, 637.9465, 635.8636],\n",
      "        [180.7306, 636.7870, 194.8421, 644.3307]])\n",
      "Processing 0e40b3a5b.jpg\n",
      "Performing prediction on 1 number of slices.\n",
      "Object found -> bbox:  [ 99.015686 511.6622   160.60855  533.31036 ]\n",
      "Object found -> bbox:  [281.83896 205.13481 296.72452 216.45845]\n",
      "bboxes.dim():  2\n",
      "tensor([[ 99.0157, 511.6622, 160.6086, 533.3104],\n",
      "        [281.8390, 205.1348, 296.7245, 216.4585]])\n",
      "Processing 1.jpg\n",
      "Performing prediction on 12 number of slices.\n",
      "Object found -> bbox:  [558.80194   0.      634.2227  164.94183]\n"
     ]
    },
    {
     "name": "stderr",
     "output_type": "stream",
     "text": [
      "D:\\NLP 1\\venv\\Lib\\site-packages\\torchvision\\utils.py:232: UserWarning: Argument 'font_size' will be ignored since 'font' is not set.\n",
      "  warnings.warn(\"Argument 'font_size' will be ignored since 'font' is not set.\")\n"
     ]
    },
    {
     "name": "stdout",
     "output_type": "stream",
     "text": [
      "Object found -> bbox:  [216.57585 261.60742 474.94635 318.85278]\n",
      "Object found -> bbox:  [  5.8460236   1.5109024  84.66571   173.5438   ]\n",
      "Object found -> bbox:  [602.3008  288.0742  697.79675 329.5858 ]\n",
      "Object found -> bbox:  [600.06647 286.1211  698.0589  327.64722]\n",
      "Object found -> bbox:  [402.85696 257.32004 745.3873  331.6512 ]\n",
      "Object found -> bbox:  [480.82806 452.5405  491.3565  469.46945]\n",
      "Object found -> bbox:  [478.09485 452.6854  489.5916  469.7725 ]\n",
      "Object found -> bbox:  [410.1909  172.45322 744.1813  245.78088]\n",
      "Object found -> bbox:  [480.86887 369.10364 491.6456  386.60303]\n",
      "Object found -> bbox:  [478.5857  369.5387  489.65076 386.69537]\n",
      "Object found -> bbox:  [1666.1794  589.5956 1819.9572 1089.876 ]\n",
      "Object found -> bbox:  [559.2264    0.      636.1216  173.15652]\n",
      "Object found -> bbox:  [ 345.0761 1146.1707  967.1826 1250.5796]\n",
      "Object found -> bbox:  [1081.4617 1112.0708 1377.3215 1201.4163]\n",
      "Object found -> bbox:  [ 830.2775   239.32965 1074.4307   321.49426]\n",
      "bboxes.dim():  2\n",
      "tensor([[1.6662e+03, 5.8960e+02, 1.8200e+03, 1.0899e+03],\n",
      "        [5.5880e+02, 0.0000e+00, 6.3612e+02, 1.7316e+02],\n",
      "        [3.4508e+02, 1.1462e+03, 9.6718e+02, 1.2506e+03],\n",
      "        [1.0815e+03, 1.1121e+03, 1.3773e+03, 1.2014e+03],\n",
      "        [8.3028e+02, 2.3933e+02, 1.0899e+03, 3.2149e+02],\n",
      "        [1.8321e+03, 2.8612e+02, 1.9301e+03, 3.2959e+02],\n",
      "        [1.0179e+03, 8.7145e+02, 1.3604e+03, 9.4665e+02],\n",
      "        [6.2085e+02, 1.5109e+00, 6.9967e+02, 1.7354e+02]])\n",
      "Processing 12572286c.jpg\n",
      "Performing prediction on 1 number of slices.\n",
      "bboxes.dim():  1\n",
      "tensor([])\n",
      "Processing 14013864b.jpg\n",
      "Performing prediction on 1 number of slices.\n",
      "bboxes.dim():  1\n",
      "tensor([])\n",
      "Processing 1d0f400ee.jpg\n",
      "Performing prediction on 1 number of slices.\n",
      "Object found -> bbox:  [584.22363 617.5474  659.5056  753.08795]\n",
      "bboxes.dim():  2\n",
      "tensor([[584.2236, 617.5474, 659.5056, 753.0880]])\n",
      "Processing 1_2.jpg\n",
      "Performing prediction on 9 number of slices.\n",
      "Object found -> bbox:  [478.8193  256.66736 730.97705 320.60535]\n",
      "Object found -> bbox:  [203.94456   0.      279.09018 163.4536 ]\n",
      "Object found -> bbox:  [  4.4861145 238.95395   222.36551   285.80368  ]\n",
      "Object found -> bbox:  [  1.6404724 495.9007    144.57045   521.68866  ]\n",
      "Object found -> bbox:  [ 36.42862 254.5125  392.57812 344.83917]\n",
      "Object found -> bbox:  [741.22485 453.34848 751.5676  470.22665]\n",
      "Object found -> bbox:  [  0.      256.46048 306.77667 333.11008]\n",
      "Object found -> bbox:  [478.6292  410.36627 762.83624 443.88788]\n",
      "Object found -> bbox:  [  2.4476013 411.2984    146.21976   436.50714  ]\n",
      "Object found -> bbox:  [ 33.67575 170.48404 395.441   255.21432]\n",
      "Object found -> bbox:  [740.8452  369.22113 752.1782  386.35138]\n",
      "Object found -> bbox:  [  3.3942566 170.69455   308.21762   246.42764  ]\n",
      "Object found -> bbox:  [656.97974 369.25024 668.1096  386.63416]\n",
      "Object found -> bbox:  [1308.715   574.8531 1455.1484 1080.3121]\n",
      "Object found -> bbox:  [ 674.916    876.09467 1009.91724  945.2283 ]\n",
      "Object found -> bbox:  [204.04031    1.362822 279.45853  167.47485 ]\n",
      "Object found -> bbox:  [270.62894     1.8172638 338.801     170.42506  ]\n",
      "Object found -> bbox:  [ 813.8345   286.38806 1148.0603   391.93106]\n",
      "Object found -> bbox:  [215.6085 903.1177 552.6274 975.4079]\n",
      "Object found -> bbox:  [473.26337 242.69312 743.51294 321.47946]\n",
      "Object found -> bbox:  [ 724.08966 1119.3755  1022.2458  1200.5923 ]\n",
      "Object found -> bbox:  [  15.25366 1179.935    538.3779  1243.5657 ]\n",
      "bboxes.dim():  2\n",
      "tensor([[ 478.6292, 1109.3662,  762.8362, 1142.8879],\n",
      "        [1308.7150,  574.8531, 1455.1484, 1085.6342],\n",
      "        [ 648.6758,  869.4840, 1010.4410,  959.8392],\n",
      "        [ 203.9446,    0.0000,  279.4585,  167.4749],\n",
      "        [ 270.6289,    1.8173,  338.8010,  170.4251],\n",
      "        [ 813.8345,  286.3881, 1148.0603,  391.9311],\n",
      "        [ 215.6085,  903.1177,  552.6274,  975.4079],\n",
      "        [ 473.2634,  242.6931,  743.5129,  321.4795],\n",
      "        [ 724.0897, 1119.3755, 1022.2458, 1200.5923],\n",
      "        [ 703.4861,  238.9539,  921.3655,  285.8037],\n",
      "        [  15.2537, 1179.9351,  538.3779, 1243.5657]])\n",
      "Processing 2.jpg\n",
      "Performing prediction on 35 number of slices.\n",
      "Object found -> bbox:  [365.84445 314.21194 422.8798  333.62717]\n",
      "Object found -> bbox:  [580.10266 404.423   665.64075 732.0508 ]\n",
      "Object found -> bbox:  [548.76794 232.16986 573.2628  310.2199 ]\n",
      "Object found -> bbox:  [564.43    146.43675 637.3945  170.1927 ]\n",
      "Object found -> bbox:  [2.5482941e-01 4.1782794e+02 4.3468842e+01 7.1294550e+02]\n",
      "Object found -> bbox:  [365.14713 162.96207 396.70053 268.37592]\n",
      "Object found -> bbox:  [316.6089  292.47156 342.76288 389.72583]\n",
      "Object found -> bbox:  [297.05743 173.99838 317.56848 234.91306]\n",
      "Object found -> bbox:  [363.67947 272.35434 382.48337 327.29276]\n",
      "Object found -> bbox:  [ 51.444565 161.20921   85.14     268.91467 ]\n",
      "Object found -> bbox:  [  3.8286781 292.93976    29.132156  389.64     ]\n",
      "Object found -> bbox:  [ 50.694202 274.86154   68.593956 326.1243  ]\n",
      "Object found -> bbox:  [559.8498  217.36679 618.7164  283.8817 ]\n",
      "Object found -> bbox:  [340.9956  588.1017  508.9184  764.06287]\n",
      "Object found -> bbox:  [144.0585  466.19012 195.90875 523.7467 ]\n",
      "Object found -> bbox:  [3.4738318e+02 7.0526123e-02 5.9599396e+02 2.1781741e+02]\n",
      "Object found -> bbox:  [8.9859009e-01 8.4381104e-03 2.7435013e+02 2.1220071e+02]\n",
      "bboxes.dim():  2\n",
      "tensor([[2604.0586, 1696.1902, 2655.9087, 1753.7467],\n",
      "        [2404.8499, 1447.3668, 2463.7163, 1513.8817],\n",
      "        [2393.7681,  847.1699, 2418.2627,  925.2199],\n",
      "        [1810.1027, 1019.4230, 1895.6407, 1347.0508],\n",
      "        [3439.4446,  776.2092, 3473.1399,  883.9147],\n",
      "        [3391.6089,  907.4716, 3417.7629, 1004.7258],\n",
      "        [ 365.8445,  314.2119,  422.8798,  333.6272],\n",
      "        [2409.4299,  761.4368, 2482.3945,  785.1927],\n",
      "        [2460.8987, 1845.0084, 2734.3501, 2057.2007],\n",
      "        [2185.9956, 1818.1017, 2440.9939, 2062.8174],\n",
      "        [3372.0574,  788.9984, 3392.5684,  849.9131],\n",
      "        [3438.6794,  887.3544, 3457.4834,  942.2927]])\n",
      "Processing 2cb5d47a2.jpg\n",
      "Performing prediction on 1 number of slices.\n",
      "Object found -> bbox:  [657.4936  228.49295 677.4611  254.03687]\n",
      "bboxes.dim():  2\n",
      "tensor([[657.4936, 228.4930, 677.4611, 254.0369]])\n",
      "Processing 2d1b074cb.jpg\n",
      "Performing prediction on 1 number of slices.\n",
      "Object found -> bbox:  [623.48035 235.7248  672.6443  348.84637]\n",
      "Object found -> bbox:  [356.6679   23.62661 412.32727 103.08192]\n",
      "Object found -> bbox:  [311.4162  457.86655 377.58044 535.9262 ]\n",
      "Object found -> bbox:  [649.2584 724.242  689.8866 768.    ]\n",
      "bboxes.dim():  2\n",
      "tensor([[623.4803, 235.7248, 672.6443, 348.8464],\n",
      "        [356.6679,  23.6266, 412.3273, 103.0819],\n",
      "        [311.4162, 457.8665, 377.5804, 535.9262],\n",
      "        [649.2584, 724.2420, 689.8866, 768.0000]])\n",
      "Processing 2ec80a085.jpg\n",
      "Performing prediction on 1 number of slices.\n",
      "Object found -> bbox:  [315.32498 390.89954 322.54214 402.3164 ]\n",
      "bboxes.dim():  2\n",
      "tensor([[315.3250, 390.8995, 322.5421, 402.3164]])\n",
      "Processing 2f444438d.jpg\n",
      "Performing prediction on 1 number of slices.\n",
      "Object found -> bbox:  [670.37384    9.505053 766.8172    57.515266]\n",
      "bboxes.dim():  2\n",
      "tensor([[670.3738,   9.5051, 766.8172,  57.5153]])\n",
      "Processing 2_2.jpg\n",
      "Performing prediction on 64 number of slices.\n",
      "Object found -> bbox:  [738.7282  555.4687  762.06903 638.7305 ]\n",
      "Object found -> bbox:  [595.86316 556.23083 768.      598.22034]\n",
      "Object found -> bbox:  [664.3296  401.72037 695.2833  434.54483]\n",
      "Object found -> bbox:  [190.92046 461.73267 247.10332 625.08936]\n",
      "Object found -> bbox:  [ 48.791866 402.0652    80.49928  434.7033  ]\n",
      "Object found -> bbox:  [439.9444  326.7453  509.68262 533.7966 ]\n",
      "Object found -> bbox:  [227.10504 326.27243 297.20575 532.70154]\n",
      "Object found -> bbox:  [385.73956     2.4661865 447.24915   177.51178  ]\n",
      "Object found -> bbox:  [165.69025    2.723709 235.92902  176.14264 ]\n",
      "Object found -> bbox:  [216.88016 434.39456 334.2275  575.8389 ]\n",
      "Object found -> bbox:  [622.7222  328.6411  719.7475  435.56885]\n",
      "Object found -> bbox:  [  9.602028 331.2216   105.08958  435.43344 ]\n",
      "Object found -> bbox:  [ 4.9042625  2.7114239 61.757412  45.32592  ]\n",
      "Object found -> bbox:  [ 885.7647 2045.2449 1041.7269 2669.4065]\n",
      "Object found -> bbox:  [1624.6906 3638.298  2095.7427 4135.794 ]\n",
      "Object found -> bbox:  [2473.274  3397.9224 2562.2058 3507.4617]\n",
      "Object found -> bbox:  [4038.1921 1816.8582 4083.1018 1992.858 ]\n",
      "Object found -> bbox:  [4137.6123 1555.9731 4194.4663 1765.6761]\n",
      "bboxes.dim():  2\n",
      "tensor([[ 885.7647, 2045.2449, 1041.7269, 2669.4065],\n",
      "        [1624.6906, 3638.2981, 2095.7427, 4135.7939],\n",
      "        [2467.7222, 3397.9224, 2565.0896, 3510.5688],\n",
      "        [2035.9204, 1691.7327, 2092.1033, 1855.0894],\n",
      "        [4129.1050, 1555.9731, 4199.6826, 1765.6761],\n",
      "        [ 595.8632, 1786.2308,  768.0000, 1828.2203],\n",
      "        [1893.7919, 1631.7203, 1925.4993, 1664.7034],\n",
      "        [2061.8801, 2894.3945, 2179.2275, 3035.8389],\n",
      "        [2464.9043, 3904.7114, 2521.7573, 3947.3259],\n",
      "        [4067.6902, 1847.4662, 4137.9292, 2022.5117],\n",
      "        [4038.1921, 1816.8582, 4083.1018, 1992.8580],\n",
      "        [1968.7283,  555.4687, 1992.0691,  638.7305]])\n",
      "Processing 3b3ed2440.jpg\n",
      "Performing prediction on 1 number of slices.\n",
      "Object found -> bbox:  [409.2169  117.4302  516.6759  308.23474]\n",
      "bboxes.dim():  2\n",
      "tensor([[409.2169, 117.4302, 516.6759, 308.2347]])\n",
      "Processing 7221420a5.jpg\n",
      "Performing prediction on 1 number of slices.\n",
      "bboxes.dim():  1\n",
      "tensor([])\n",
      "Processing 7242578f3.jpg\n",
      "Performing prediction on 1 number of slices.\n",
      "Object found -> bbox:  [2.0372391e-01 3.9756192e+02 8.0211914e+01 4.3130569e+02]\n",
      "bboxes.dim():  2\n",
      "tensor([[2.0372e-01, 3.9756e+02, 8.0212e+01, 4.3131e+02]])\n",
      "Processing 7272882ed.jpg\n",
      "Performing prediction on 1 number of slices.\n",
      "bboxes.dim():  1\n",
      "tensor([])\n",
      "Processing 7619476c2.jpg\n",
      "Performing prediction on 1 number of slices.\n",
      "Object found -> bbox:  [454.24777 132.64243 561.25336 215.12442]\n",
      "bboxes.dim():  2\n",
      "tensor([[454.2478, 132.6424, 561.2534, 215.1244]])\n",
      "Processing 7787381d4.jpg\n",
      "Performing prediction on 1 number of slices.\n",
      "bboxes.dim():  1\n",
      "tensor([])\n",
      "Processing 7937980e1.jpg\n",
      "Performing prediction on 1 number of slices.\n",
      "Object found -> bbox:  [454.3702  239.07143 566.65125 438.68677]\n",
      "bboxes.dim():  2\n",
      "tensor([[454.3702, 239.0714, 566.6512, 438.6868]])\n",
      "Processing 8117518d5.jpg\n",
      "Performing prediction on 1 number of slices.\n",
      "bboxes.dim():  1\n",
      "tensor([])\n",
      "Processing 8166432c8.jpg\n",
      "Performing prediction on 1 number of slices.\n",
      "bboxes.dim():  1\n",
      "tensor([])\n",
      "Processing 8316753c8.jpg\n",
      "Performing prediction on 1 number of slices.\n",
      "Object found -> bbox:  [114.20047 122.25169 135.30879 138.26045]\n",
      "Object found -> bbox:  [133.25102 658.98816 175.90297 684.31213]\n",
      "Object found -> bbox:  [142.85567 627.44196 167.97105 655.8543 ]\n",
      "Object found -> bbox:  [153.37035 626.2472  186.5305  661.42017]\n",
      "bboxes.dim():  2\n",
      "tensor([[114.2005, 122.2517, 135.3088, 138.2605],\n",
      "        [133.2510, 658.9882, 175.9030, 684.3121],\n",
      "        [142.8557, 626.2472, 186.5305, 661.4202]])\n",
      "Processing 8591865ee.jpg\n",
      "Performing prediction on 1 number of slices.\n",
      "bboxes.dim():  1\n",
      "tensor([])\n",
      "Processing 8752531aa.jpg\n",
      "Performing prediction on 1 number of slices.\n",
      "bboxes.dim():  1\n",
      "tensor([])\n",
      "Processing 8814042e0.jpg\n",
      "Performing prediction on 1 number of slices.\n",
      "Object found -> bbox:  [213.79971 683.91614 325.75558 768.     ]\n",
      "bboxes.dim():  2\n",
      "tensor([[213.7997, 683.9161, 325.7556, 768.0000]])\n",
      "Processing 8849749b2.jpg\n",
      "Performing prediction on 1 number of slices.\n",
      "bboxes.dim():  1\n",
      "tensor([])\n",
      "Processing 9196798a9.jpg\n",
      "Performing prediction on 1 number of slices.\n",
      "Object found -> bbox:  [186.30307 315.4256  285.7132  456.11768]\n",
      "bboxes.dim():  2\n",
      "tensor([[186.3031, 315.4256, 285.7132, 456.1177]])\n",
      "Processing 9279279fa.jpg\n",
      "Performing prediction on 1 number of slices.\n",
      "Object found -> bbox:  [  8.6195345 316.14792    27.845623  336.56644  ]\n",
      "bboxes.dim():  2\n",
      "tensor([[  8.6195, 316.1479,  27.8456, 336.5664]])\n",
      "Processing 9454131fb.jpg\n",
      "Performing prediction on 1 number of slices.\n",
      "bboxes.dim():  1\n",
      "tensor([])\n",
      "Processing 9842324d3.jpg\n",
      "Performing prediction on 1 number of slices.\n",
      "bboxes.dim():  1\n",
      "tensor([])\n",
      "Processing 9915044cb.jpg\n",
      "Performing prediction on 1 number of slices.\n",
      "bboxes.dim():  1\n",
      "tensor([])\n",
      "Processing 9996921bf.jpg\n",
      "Performing prediction on 1 number of slices.\n",
      "bboxes.dim():  1\n",
      "tensor([])\n",
      "Processing df648f2f4.jpg\n",
      "Performing prediction on 1 number of slices.\n",
      "Object found -> bbox:  [  0.      438.253   246.41833 560.99286]\n",
      "Object found -> bbox:  [ 69.070145 512.7395   158.75658  553.8899  ]\n",
      "bboxes.dim():  2\n",
      "tensor([[  0.0000, 438.2530, 246.4183, 560.9929]])\n",
      "Processing df82736fc.jpg\n",
      "Performing prediction on 1 number of slices.\n",
      "Object found -> bbox:  [677.5104  103.33491 703.3085  126.71456]\n",
      "Object found -> bbox:  [379.6573  124.13697 391.9793  135.24147]\n",
      "bboxes.dim():  2\n",
      "tensor([[677.5104, 103.3349, 703.3085, 126.7146],\n",
      "        [379.6573, 124.1370, 391.9793, 135.2415]])\n",
      "Processing dfdfc012a.jpg\n",
      "Performing prediction on 1 number of slices.\n",
      "Object found -> bbox:  [608.14124 699.49243 728.5624  736.9989 ]\n",
      "bboxes.dim():  2\n",
      "tensor([[608.1412, 699.4924, 728.5624, 736.9989]])\n",
      "Processing dfe1d30a7.jpg\n",
      "Performing prediction on 1 number of slices.\n",
      "Object found -> bbox:  [  0.      713.82776 134.17108 752.2206 ]\n",
      "bboxes.dim():  2\n",
      "tensor([[  0.0000, 713.8278, 134.1711, 752.2206]])\n",
      "Processing dff7a31fc.jpg\n",
      "Performing prediction on 1 number of slices.\n",
      "Object found -> bbox:  [439.95407 336.8059  668.9619  408.33484]\n",
      "bboxes.dim():  2\n",
      "tensor([[439.9541, 336.8059, 668.9619, 408.3348]])\n",
      "Processing e0b6f0185.jpg\n",
      "Performing prediction on 1 number of slices.\n",
      "Object found -> bbox:  [ 54.913837  36.3426   101.9032   126.58624 ]\n",
      "Object found -> bbox:  [446.68344 219.03415 522.0246  285.00702]\n",
      "Object found -> bbox:  [632.2499  449.75586 658.7551  491.38123]\n",
      "Object found -> bbox:  [687.86633  49.46797 693.61926  58.08233]\n",
      "Object found -> bbox:  [533.8377  241.80069 550.4467  282.83463]\n",
      "Object found -> bbox:  [617.8985  455.03293 643.18414 494.50027]\n",
      "bboxes.dim():  2\n",
      "tensor([[ 54.9138,  36.3426, 101.9032, 126.5862],\n",
      "        [446.6834, 219.0341, 522.0246, 285.0070],\n",
      "        [632.2499, 449.7559, 658.7551, 491.3812],\n",
      "        [687.8663,  49.4680, 693.6193,  58.0823],\n",
      "        [533.8377, 241.8007, 550.4467, 282.8346],\n",
      "        [617.8985, 455.0329, 643.1841, 494.5003]])\n",
      "Processing e3adcb329.jpg\n",
      "Performing prediction on 1 number of slices.\n",
      "Object found -> bbox:  [523.73224 388.41125 619.6364  477.5575 ]\n",
      "bboxes.dim():  2\n",
      "tensor([[523.7322, 388.4113, 619.6364, 477.5575]])\n",
      "Processing e3da55562.jpg\n",
      "Performing prediction on 1 number of slices.\n",
      "Object found -> bbox:  [238.46924   0.      294.00208 106.00504]\n",
      "bboxes.dim():  2\n",
      "tensor([[238.4692,   0.0000, 294.0021, 106.0050]])\n",
      "Processing e7dfaf709.jpg\n",
      "Performing prediction on 1 number of slices.\n",
      "Object found -> bbox:  [446.1317  168.97298 620.39795 271.47464]\n",
      "bboxes.dim():  2\n",
      "tensor([[446.1317, 168.9730, 620.3979, 271.4746]])\n",
      "Processing e7e24507a.jpg\n",
      "Performing prediction on 1 number of slices.\n",
      "Object found -> bbox:  [504.28442 321.44882 588.1493  385.40115]\n",
      "Object found -> bbox:  [726.3726  573.8404  750.3659  641.86615]\n",
      "Object found -> bbox:  [525.21936 299.4979  576.651   338.98502]\n",
      "Object found -> bbox:  [330.02496 537.964   370.5739  581.8491 ]\n",
      "Object found -> bbox:  [335.01514 655.3397  404.16077 755.6107 ]\n",
      "Object found -> bbox:  [349.25525 517.4508  360.4026  521.09644]\n",
      "bboxes.dim():  2\n",
      "tensor([[504.2844, 321.4488, 588.1493, 385.4012],\n",
      "        [726.3726, 573.8404, 750.3659, 641.8661],\n",
      "        [525.2194, 299.4979, 576.6510, 338.9850],\n",
      "        [330.0250, 537.9640, 370.5739, 581.8491],\n",
      "        [335.0151, 655.3397, 404.1608, 755.6107],\n",
      "        [349.2552, 517.4508, 360.4026, 521.0964]])\n",
      "Processing e7e2c2aa6.jpg\n",
      "Performing prediction on 1 number of slices.\n",
      "Object found -> bbox:  [323.49332  113.477295 413.6675   154.32861 ]\n",
      "bboxes.dim():  2\n",
      "tensor([[323.4933, 113.4773, 413.6675, 154.3286]])\n"
     ]
    }
   ],
   "source": [
    "from inference_modular import ship_detection, ship_detection_bulk\n",
    "# images_path = r\"D:\\NLP 1\\Sat_object_detection\\inference_images\"\n",
    "images_path = r\"D:\\NLP 1\\Sat_object_detection\\debug_images_2\"\n",
    "coord = {\"0c0d90d8d.jpg\": [58.4893887115,23.6396684794,58.4961460224,23.6487324542]}\n",
    "\n",
    "result = ship_detection_bulk(images_dir=images_path, bbox_coord_wgs84=coord)"
   ]
  },
  {
   "cell_type": "code",
   "execution_count": 4,
   "metadata": {},
   "outputs": [
    {
     "data": {
      "text/plain": [
       "((12.4655, 25.6547), (50.4565, 80.4545))"
      ]
     },
     "execution_count": 4,
     "metadata": {},
     "output_type": "execute_result"
    }
   ],
   "source": [
    "ships_coords = [(12.4654654654, 25.654654541654), (50.45646544545, 80.4545461461654)]\n",
    "ships_coords = tuple(map(lambda x: (round(x[0], 4), round(x[1], 4)), ships_coords))\n",
    "ships_coords"
   ]
  },
  {
   "cell_type": "code",
   "execution_count": null,
   "metadata": {},
   "outputs": [
    {
     "data": {
      "text/plain": [
       "{'n_obj': 4,\n",
       " 'bboxes': array([[593.7077 ,  45.92871, 753.17255, 254.45227],\n",
       "        [620.5995 , 627.19763, 637.94653, 635.86365],\n",
       "        [180.73062, 636.78705, 194.8421 , 644.33075],\n",
       "        [119.95   , 644.51044, 133.83653, 653.96564]], dtype=float32),\n",
       " 'scores': array([0.9998567 , 0.9744727 , 0.9333982 , 0.88371474], dtype=float32),\n",
       " 'sahi_scaled_down_image': <PIL.Image.Image image mode=RGB size=768x768>,\n",
       " 'ships_coord': [(58.495314029591, 23.641441035159),\n",
       "  (58.494925421619, 23.647121835915),\n",
       "  (58.491040965183, 23.647228387887),\n",
       "  (58.490505192283, 23.647330819514)],\n",
       " 'ships_length': [308.8, 19.2, 16.0, 17.5],\n",
       " 'ships_bbox_dimensions': [(273.7, 142.9),\n",
       "  (15.5, 11.4),\n",
       "  (12.6, 9.9),\n",
       "  (12.4, 12.4)]}"
      ]
     },
     "execution_count": 14,
     "metadata": {},
     "output_type": "execute_result"
    }
   ],
   "source": [
    "result[\"0c0d90d8d.jpg\"]"
   ]
  },
  {
   "cell_type": "code",
   "execution_count": null,
   "metadata": {},
   "outputs": [],
   "source": [
    "from PIL import Image\n",
    "import numpy as np\n",
    "from imageutils import resize_img\n",
    "\n",
    "factor = 3\n",
    "image_path = r\"D:\\NLP 1\\Sat_object_detection\\inference_images\\2.jpg\"\n",
    "image = Image.open(image_path)\n",
    "w, h= image.size\n",
    "resized_img = resize_img(image, h/factor, w/factor)"
   ]
  },
  {
   "cell_type": "code",
   "execution_count": null,
   "metadata": {},
   "outputs": [],
   "source": [
    "image.dra"
   ]
  },
  {
   "cell_type": "code",
   "execution_count": null,
   "metadata": {},
   "outputs": [],
   "source": [
    "resized_img = Image.fromarray(np.uint8(resized_img)).convert('RGB')\n"
   ]
  },
  {
   "cell_type": "code",
   "execution_count": null,
   "metadata": {},
   "outputs": [],
   "source": [
    "resized_img.show()"
   ]
  },
  {
   "cell_type": "code",
   "execution_count": null,
   "metadata": {},
   "outputs": [
    {
     "name": "stdout",
     "output_type": "stream",
     "text": [
      "03a75a583.jpg\n",
      "08229754b.jpg\n",
      "08229754b_pred.jpg\n",
      "08229754b_pred_pred.jpg\n",
      "0b7359c38.jpg\n",
      "0b7359c38_pred.jpg\n",
      "0c0d90d8d.jpg\n",
      "0e40b3a5b.jpg\n",
      "1.jpg\n",
      "12572286c.jpg\n",
      "14013864b.jpg\n",
      "1d0f400ee.jpg\n",
      "1_2.jpg\n",
      "2.jpg\n",
      "2cb5d47a2.jpg\n",
      "2d1b074cb.jpg\n",
      "2ec80a085.jpg\n",
      "2f444438d.jpg\n",
      "2_2.jpg\n",
      "3b3ed2440.jpg\n",
      "7221420a5.jpg\n",
      "7242578f3.jpg\n",
      "7272882ed.jpg\n",
      "7619476c2.jpg\n",
      "7787381d4.jpg\n",
      "7937980e1.jpg\n",
      "8117518d5.jpg\n",
      "8166432c8.jpg\n",
      "8316753c8.jpg\n",
      "8591865ee.jpg\n",
      "8752531aa.jpg\n",
      "8814042e0.jpg\n",
      "8849749b2.jpg\n",
      "9196798a9.jpg\n",
      "9279279fa.jpg\n",
      "9454131fb.jpg\n",
      "9842324d3.jpg\n",
      "9915044cb.jpg\n",
      "9996921bf.jpg\n",
      "df648f2f4.jpg\n",
      "df82736fc.jpg\n",
      "dfdfc012a.jpg\n",
      "dfe1d30a7.jpg\n",
      "dff7a31fc.jpg\n",
      "e0b6f0185.jpg\n",
      "e3adcb329.jpg\n",
      "e3da55562.jpg\n",
      "e7dfaf709.jpg\n",
      "e7e24507a.jpg\n",
      "e7e2c2aa6.jpg\n",
      "Predictions_1402_7_20-11;12\n",
      "Predictions_1402_7_20-11;20\n",
      "Predictions_1402_7_20-11;24\n"
     ]
    }
   ],
   "source": [
    "from os import listdir\n",
    "for filename in listdir(images_path):\n",
    "    print(filename)"
   ]
  },
  {
   "cell_type": "code",
   "execution_count": null,
   "metadata": {},
   "outputs": [
    {
     "name": "stdout",
     "output_type": "stream",
     "text": [
      "D:\\NLP 1\\Sat_object_detection\\debug_images_2\\03a75a583.jpg\n",
      "D:\\NLP 1\\Sat_object_detection\\debug_images_2\\08229754b.jpg\n",
      "D:\\NLP 1\\Sat_object_detection\\debug_images_2\\08229754b_pred.jpg\n",
      "D:\\NLP 1\\Sat_object_detection\\debug_images_2\\08229754b_pred_pred.jpg\n",
      "D:\\NLP 1\\Sat_object_detection\\debug_images_2\\0b7359c38.jpg\n",
      "D:\\NLP 1\\Sat_object_detection\\debug_images_2\\0b7359c38_pred.jpg\n",
      "D:\\NLP 1\\Sat_object_detection\\debug_images_2\\0c0d90d8d.jpg\n",
      "D:\\NLP 1\\Sat_object_detection\\debug_images_2\\0e40b3a5b.jpg\n",
      "D:\\NLP 1\\Sat_object_detection\\debug_images_2\\1.jpg\n",
      "D:\\NLP 1\\Sat_object_detection\\debug_images_2\\12572286c.jpg\n",
      "D:\\NLP 1\\Sat_object_detection\\debug_images_2\\14013864b.jpg\n",
      "D:\\NLP 1\\Sat_object_detection\\debug_images_2\\1d0f400ee.jpg\n",
      "D:\\NLP 1\\Sat_object_detection\\debug_images_2\\1_2.jpg\n",
      "D:\\NLP 1\\Sat_object_detection\\debug_images_2\\2.jpg\n",
      "D:\\NLP 1\\Sat_object_detection\\debug_images_2\\2cb5d47a2.jpg\n",
      "D:\\NLP 1\\Sat_object_detection\\debug_images_2\\2d1b074cb.jpg\n",
      "D:\\NLP 1\\Sat_object_detection\\debug_images_2\\2ec80a085.jpg\n",
      "D:\\NLP 1\\Sat_object_detection\\debug_images_2\\2f444438d.jpg\n",
      "D:\\NLP 1\\Sat_object_detection\\debug_images_2\\2_2.jpg\n",
      "D:\\NLP 1\\Sat_object_detection\\debug_images_2\\3b3ed2440.jpg\n",
      "D:\\NLP 1\\Sat_object_detection\\debug_images_2\\7221420a5.jpg\n",
      "D:\\NLP 1\\Sat_object_detection\\debug_images_2\\7242578f3.jpg\n",
      "D:\\NLP 1\\Sat_object_detection\\debug_images_2\\7272882ed.jpg\n",
      "D:\\NLP 1\\Sat_object_detection\\debug_images_2\\7619476c2.jpg\n",
      "D:\\NLP 1\\Sat_object_detection\\debug_images_2\\7787381d4.jpg\n",
      "D:\\NLP 1\\Sat_object_detection\\debug_images_2\\7937980e1.jpg\n",
      "D:\\NLP 1\\Sat_object_detection\\debug_images_2\\8117518d5.jpg\n",
      "D:\\NLP 1\\Sat_object_detection\\debug_images_2\\8166432c8.jpg\n",
      "D:\\NLP 1\\Sat_object_detection\\debug_images_2\\8316753c8.jpg\n",
      "D:\\NLP 1\\Sat_object_detection\\debug_images_2\\8591865ee.jpg\n",
      "D:\\NLP 1\\Sat_object_detection\\debug_images_2\\8752531aa.jpg\n",
      "D:\\NLP 1\\Sat_object_detection\\debug_images_2\\8814042e0.jpg\n",
      "D:\\NLP 1\\Sat_object_detection\\debug_images_2\\8849749b2.jpg\n",
      "D:\\NLP 1\\Sat_object_detection\\debug_images_2\\9196798a9.jpg\n",
      "D:\\NLP 1\\Sat_object_detection\\debug_images_2\\9279279fa.jpg\n",
      "D:\\NLP 1\\Sat_object_detection\\debug_images_2\\9454131fb.jpg\n",
      "D:\\NLP 1\\Sat_object_detection\\debug_images_2\\9842324d3.jpg\n",
      "D:\\NLP 1\\Sat_object_detection\\debug_images_2\\9915044cb.jpg\n",
      "D:\\NLP 1\\Sat_object_detection\\debug_images_2\\9996921bf.jpg\n",
      "D:\\NLP 1\\Sat_object_detection\\debug_images_2\\df648f2f4.jpg\n",
      "D:\\NLP 1\\Sat_object_detection\\debug_images_2\\df82736fc.jpg\n",
      "D:\\NLP 1\\Sat_object_detection\\debug_images_2\\dfdfc012a.jpg\n",
      "D:\\NLP 1\\Sat_object_detection\\debug_images_2\\dfe1d30a7.jpg\n",
      "D:\\NLP 1\\Sat_object_detection\\debug_images_2\\dff7a31fc.jpg\n",
      "D:\\NLP 1\\Sat_object_detection\\debug_images_2\\e0b6f0185.jpg\n",
      "D:\\NLP 1\\Sat_object_detection\\debug_images_2\\e3adcb329.jpg\n",
      "D:\\NLP 1\\Sat_object_detection\\debug_images_2\\e3da55562.jpg\n",
      "D:\\NLP 1\\Sat_object_detection\\debug_images_2\\e7dfaf709.jpg\n",
      "D:\\NLP 1\\Sat_object_detection\\debug_images_2\\e7e24507a.jpg\n",
      "D:\\NLP 1\\Sat_object_detection\\debug_images_2\\e7e2c2aa6.jpg\n",
      "D:\\NLP 1\\Sat_object_detection\\debug_images_2\\Predictions_1402_7_20-11;12\n",
      "D:\\NLP 1\\Sat_object_detection\\debug_images_2\\Predictions_1402_7_20-11;20\n",
      "D:\\NLP 1\\Sat_object_detection\\debug_images_2\\Predictions_1402_7_20-11;24\n"
     ]
    }
   ],
   "source": [
    "import glob\n",
    "import os\n",
    "\n",
    "folder_path = images_path\n",
    "for filename in glob.iglob(folder_path + '/*'):\n",
    "    file_path = os.path.join(folder_path, filename)\n",
    "    # Do something with the file\n",
    "    print(filename)"
   ]
  },
  {
   "cell_type": "code",
   "execution_count": null,
   "metadata": {},
   "outputs": [
    {
     "name": "stdout",
     "output_type": "stream",
     "text": [
      "D:\\NLP 1\\Sat_object_detection\\debug_images_2\n",
      "['Predictions_1402_7_20-11;12', 'Predictions_1402_7_20-11;20', 'Predictions_1402_7_20-11;24']\n",
      "['03a75a583.jpg', '08229754b.jpg', '08229754b_pred.jpg', '08229754b_pred_pred.jpg', '0b7359c38.jpg', '0b7359c38_pred.jpg', '0c0d90d8d.jpg', '0e40b3a5b.jpg', '1.jpg', '12572286c.jpg', '14013864b.jpg', '1d0f400ee.jpg', '1_2.jpg', '2.jpg', '2cb5d47a2.jpg', '2d1b074cb.jpg', '2ec80a085.jpg', '2f444438d.jpg', '2_2.jpg', '3b3ed2440.jpg', '7221420a5.jpg', '7242578f3.jpg', '7272882ed.jpg', '7619476c2.jpg', '7787381d4.jpg', '7937980e1.jpg', '8117518d5.jpg', '8166432c8.jpg', '8316753c8.jpg', '8591865ee.jpg', '8752531aa.jpg', '8814042e0.jpg', '8849749b2.jpg', '9196798a9.jpg', '9279279fa.jpg', '9454131fb.jpg', '9842324d3.jpg', '9915044cb.jpg', '9996921bf.jpg', 'df648f2f4.jpg', 'df82736fc.jpg', 'dfdfc012a.jpg', 'dfe1d30a7.jpg', 'dff7a31fc.jpg', 'e0b6f0185.jpg', 'e3adcb329.jpg', 'e3da55562.jpg', 'e7dfaf709.jpg', 'e7e24507a.jpg', 'e7e2c2aa6.jpg']\n"
     ]
    }
   ],
   "source": [
    "import os\n",
    "\n",
    "directory = images_path\n",
    "\n",
    "for root, dirs, files in os.walk(directory):\n",
    "    # if root == directory:\n",
    "        # for filename in files:\n",
    "        print(root)\n",
    "        print(dirs)\n",
    "        print(files)\n",
    "        break\n",
    "            # print(os.path.join(root, filename))"
   ]
  },
  {
   "cell_type": "code",
   "execution_count": null,
   "metadata": {},
   "outputs": [
    {
     "data": {
      "text/plain": [
       "(2, 3)"
      ]
     },
     "execution_count": 3,
     "metadata": {},
     "output_type": "execute_result"
    }
   ],
   "source": [
    "tuple(map(int, (2.51, 3.75)))"
   ]
  },
  {
   "cell_type": "code",
   "execution_count": 2,
   "metadata": {},
   "outputs": [],
   "source": [
    "import random"
   ]
  },
  {
   "cell_type": "code",
   "execution_count": 6,
   "metadata": {},
   "outputs": [
    {
     "data": {
      "text/plain": [
       "1"
      ]
     },
     "execution_count": 6,
     "metadata": {},
     "output_type": "execute_result"
    }
   ],
   "source": [
    "random.randint(0,12)"
   ]
  },
  {
   "cell_type": "code",
   "execution_count": null,
   "metadata": {},
   "outputs": [],
   "source": []
  }
 ],
 "metadata": {
  "kernelspec": {
   "display_name": "Python 3 (ipykernel)",
   "language": "python",
   "name": "python3"
  },
  "language_info": {
   "codemirror_mode": {
    "name": "ipython",
    "version": 3
   },
   "file_extension": ".py",
   "mimetype": "text/x-python",
   "name": "python",
   "nbconvert_exporter": "python",
   "pygments_lexer": "ipython3",
   "version": "3.11.4"
  },
  "orig_nbformat": 4
 },
 "nbformat": 4,
 "nbformat_minor": 2
}
