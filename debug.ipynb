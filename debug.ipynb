{
 "cells": [
  {
   "cell_type": "code",
   "execution_count": 1,
   "metadata": {},
   "outputs": [
    {
     "ename": "SyntaxError",
     "evalue": "invalid syntax (inference_modular.py, line 380)",
     "output_type": "error",
     "traceback": [
      "Traceback \u001b[1;36m(most recent call last)\u001b[0m:\n",
      "\u001b[0m  File \u001b[0;32mD:\\NLP 1\\venv\\Lib\\site-packages\\IPython\\core\\interactiveshell.py:3508\u001b[0m in \u001b[0;35mrun_code\u001b[0m\n    exec(code_obj, self.user_global_ns, self.user_ns)\u001b[0m\n",
      "\u001b[1;36m  Cell \u001b[1;32mIn[1], line 3\u001b[1;36m\n\u001b[1;33m    from inference_modular import ship_detection, ship_detection_bulk\u001b[1;36m\n",
      "\u001b[1;36m  File \u001b[1;32md:\\NLP 1\\Sat_object_detection\\inference_modular.py:380\u001b[1;36m\u001b[0m\n\u001b[1;33m    if\u001b[0m\n\u001b[1;37m       ^\u001b[0m\n\u001b[1;31mSyntaxError\u001b[0m\u001b[1;31m:\u001b[0m invalid syntax\n"
     ]
    }
   ],
   "source": [
    "import os, math\n",
    "from slicing_inference import sahi_slicing_inference\n",
    "from inference_modular import ship_detection, ship_detection_bulk\n",
    "from PIL import Image \n",
    "import numpy as np\n",
    "from imageutils import resize_img\n",
    "import torch"
   ]
  },
  {
   "cell_type": "code",
   "execution_count": 2,
   "metadata": {},
   "outputs": [],
   "source": [
    "image_path=r\"D:\\NLP 1\\Sat_object_detection\\debug_images\\2.jpg\"\n",
    "image_path=r\"D:\\NLP 1\\Sat_object_detection\\inference_images\\dd4ffcb5c.jpg\"\n",
    "\n",
    "image = Image.open(image_path).convert(\"RGB\")\n",
    "\n",
    "# model = torch.load('models/best_model.pth', map_location = 'cuda')"
   ]
  },
  {
   "cell_type": "code",
   "execution_count": 3,
   "metadata": {},
   "outputs": [
    {
     "name": "stdout",
     "output_type": "stream",
     "text": [
      "Performing prediction on 1 number of slices.\n",
      "Object found -> bbox:  [ 73.13797  639.82117  124.770706 741.1826  ]\n",
      "Object found -> bbox:  [ 37.490547 137.97885   99.83393  229.94489 ]\n",
      "Object found -> bbox:  [579.8303  552.79254 610.90784 606.02045]\n"
     ]
    }
   ],
   "source": [
    "bbox_coord = [53.996172, 16.951560, 54.010077, 16.963793]\n",
    "result = ship_detection_sahi(image=image, bbox_coord_wgs84=bbox_coord)"
   ]
  },
  {
   "cell_type": "code",
   "execution_count": 4,
   "metadata": {},
   "outputs": [
    {
     "data": {
      "text/plain": [
       "{'res_object': <sahi.prediction.PredictionResult at 0x22e7fd434d0>,\n",
       " 'n_obj': 3,\n",
       " 'bboxes': array([[ 73.13797 , 639.82117 , 124.770706, 741.1826  ],\n",
       "        [ 37.490547, 137.97885 ,  99.83393 , 229.94489 ],\n",
       "        [579.8303  , 552.79254 , 610.90784 , 606.02045 ]], dtype=float32),\n",
       " 'scores': array([0.99949455, 0.9990532 , 0.99712497], dtype=float32),\n",
       " 'sahi_scaled_down_image': <PIL.Image.Image image mode=RGB size=768x768>,\n",
       " 'ships_coord': [(53.997963614676, 16.962558580268),\n",
       "  (53.997415162024, 16.95449021554),\n",
       "  (54.006951436265, 16.960789009952)],\n",
       " 'ships_length': [205.2, 202.4, 111.7],\n",
       " 'ships_bbox_dimensions': [(179.5, 99.4), (162.9, 120.1), (94.3, 59.8)]}"
      ]
     },
     "execution_count": 4,
     "metadata": {},
     "output_type": "execute_result"
    }
   ],
   "source": [
    "result\n",
    "# result['prediction'].export_visuals(export_dir=\"demo_data/\", hide_labels=True,)"
   ]
  },
  {
   "cell_type": "code",
   "execution_count": 31,
   "metadata": {},
   "outputs": [],
   "source": [
    "import os\n",
    "path = r\"D:\\NLP 1\\Sat_object_detection\\inference_images\"\n",
    "# raw_path = r\"{0}\".format(path)\n",
    "# path.encode()\n",
    "# os.path.exists(path)"
   ]
  },
  {
   "cell_type": "code",
   "execution_count": 16,
   "metadata": {},
   "outputs": [
    {
     "data": {
      "text/plain": [
       "True"
      ]
     },
     "execution_count": 16,
     "metadata": {},
     "output_type": "execute_result"
    }
   ],
   "source": [
    "image_ext = ('.jpg','.jpeg', '.png', '.jp2', '.jfif', '.pjpeg', '.webp', '.tiff', '.tif')\n",
    "filename = r\"D:\\NLP1\\Sat_object_detection\\inference_images\\fsdf.png\"\n",
    "# filename = fr\"{filename}\"\n",
    "filename.endswith(image_ext)"
   ]
  },
  {
   "cell_type": "code",
   "execution_count": 23,
   "metadata": {},
   "outputs": [
    {
     "data": {
      "text/plain": [
       "'D:\\\\NLP1\\\\Sat_object_detection\\\\inference_images\\\\fsdf_pred.png'"
      ]
     },
     "execution_count": 23,
     "metadata": {},
     "output_type": "execute_result"
    }
   ],
   "source": [
    "mask_filename = \"{}_pred{}\".format(os.path.splitext(filename)[0], os.path.splitext(filename)[1])\n",
    "mask_filename"
   ]
  },
  {
   "cell_type": "code",
   "execution_count": 26,
   "metadata": {},
   "outputs": [
    {
     "data": {
      "text/plain": [
       "1262285"
      ]
     },
     "execution_count": 26,
     "metadata": {},
     "output_type": "execute_result"
    }
   ],
   "source": [
    "size = os.path.getsize(r\"D:\\NLP 1\\Sat_object_detection\\debug_images\\2.jpg\")\n",
    "size"
   ]
  },
  {
   "cell_type": "code",
   "execution_count": 33,
   "metadata": {},
   "outputs": [
    {
     "data": {
      "text/plain": [
       "1262285"
      ]
     },
     "execution_count": 33,
     "metadata": {},
     "output_type": "execute_result"
    }
   ],
   "source": [
    "stat = os.stat(r\"D:\\NLP 1\\Sat_object_detection\\debug_images\\2.jpg\")\n",
    "stat.st_size\n"
   ]
  },
  {
   "cell_type": "code",
   "execution_count": 4,
   "metadata": {},
   "outputs": [],
   "source": [
    "from exifread import process_file\n",
    "def get_image_dimensions(file_path):\n",
    "    with open(file_path, 'rb') as f:\n",
    "        tags = process_file(f, details=True)\n",
    "        return tags"
   ]
  },
  {
   "cell_type": "code",
   "execution_count": 7,
   "metadata": {},
   "outputs": [
    {
     "ename": "NameError",
     "evalue": "name 'get_image_dimensions' is not defined",
     "output_type": "error",
     "traceback": [
      "\u001b[1;31m---------------------------------------------------------------------------\u001b[0m",
      "\u001b[1;31mNameError\u001b[0m                                 Traceback (most recent call last)",
      "\u001b[1;32md:\\NLP 1\\Sat_object_detection\\debug.ipynb Cell 11\u001b[0m line \u001b[0;36m2\n\u001b[0;32m      <a href='vscode-notebook-cell:/d%3A/NLP%201/Sat_object_detection/debug.ipynb#X13sZmlsZQ%3D%3D?line=0'>1</a>\u001b[0m image_path \u001b[39m=\u001b[39m \u001b[39mr\u001b[39m\u001b[39m\"\u001b[39m\u001b[39mD:\u001b[39m\u001b[39m\\\u001b[39m\u001b[39mNLP 1\u001b[39m\u001b[39m\\\u001b[39m\u001b[39mSat_object_detection\u001b[39m\u001b[39m\\\u001b[39m\u001b[39minference_images\u001b[39m\u001b[39m\\\u001b[39m\u001b[39m1.jpg\u001b[39m\u001b[39m\"\u001b[39m\n\u001b[1;32m----> <a href='vscode-notebook-cell:/d%3A/NLP%201/Sat_object_detection/debug.ipynb#X13sZmlsZQ%3D%3D?line=1'>2</a>\u001b[0m d \u001b[39m=\u001b[39m get_image_dimensions(image_path)\n\u001b[0;32m      <a href='vscode-notebook-cell:/d%3A/NLP%201/Sat_object_detection/debug.ipynb#X13sZmlsZQ%3D%3D?line=2'>3</a>\u001b[0m d\n",
      "\u001b[1;31mNameError\u001b[0m: name 'get_image_dimensions' is not defined"
     ]
    }
   ],
   "source": [
    "image_path = r\"D:\\NLP 1\\Sat_object_detection\\inference_images\\2.jpg\"\n",
    "d = get_image_dimensions(image_path)\n",
    "d"
   ]
  },
  {
   "cell_type": "code",
   "execution_count": 5,
   "metadata": {},
   "outputs": [],
   "source": [
    "from get_image_size import *"
   ]
  },
  {
   "cell_type": "code",
   "execution_count": 86,
   "metadata": {},
   "outputs": [
    {
     "name": "stdout",
     "output_type": "stream",
     "text": [
      "132\n",
      "[['011409565.jpg', '011409565_pred.jpg', (768, 768)], ['012473874.jpg', '012473874_pred.jpg', (768, 768)], ['01f13f599.jpg', '01f13f599_pred.jpg', (768, 768)], ['032610514.jpg', '032610514_pred.jpg', (768, 768)], ['037367901.jpg', '037367901_pred.jpg', (768, 768)], ['03a75a583.jpg', '03a75a583_pred.jpg', (768, 768)], ['041409351.jpg', '041409351_pred.jpg', (768, 768)], ['058358044.jpg', '058358044_pred.jpg', (768, 768)], ['065080198.jpg', '065080198_pred.jpg', (768, 768)], ['078464555.jpg', '078464555_pred.jpg', (768, 768)], ['08229754b.jpg', '08229754b_pred.jpg', (768, 768)], ['084269309.jpg', '084269309_pred.jpg', (768, 768)], ['0aba8fa6f.jpg', '0aba8fa6f_pred.jpg', (768, 768)], ['0b7359c38.jpg', '0b7359c38_pred.jpg', (768, 768)], ['0c0d90d8d.jpg', '0c0d90d8d_pred.jpg', (768, 768)], ['0c24ec954.jpg', '0c24ec954_pred.jpg', (768, 768)], ['0e40b3a5b.jpg', '0e40b3a5b_pred.jpg', (768, 768)], ['0ec10921f.jpg', '0ec10921f_pred.jpg', (768, 768)], ['1.jpg', '1_pred.jpg', (2000, 1467)], ['12572286c.jpg', '12572286c_pred.jpg', (768, 768)], ['14013864b.jpg', '14013864b_pred.jpg', (768, 768)], ['18609713e.jpg', '18609713e_pred.jpg', (768, 768)], ['1b5fd69bc.jpg', '1b5fd69bc_pred.jpg', (768, 768)], ['1ca44d679.jpg', '1ca44d679_pred.jpg', (768, 768)], ['1d0f400ee.jpg', '1d0f400ee_pred.jpg', (768, 768)], ['1_2.jpg', '1_2_pred.jpg', (1467, 1467)], ['1_3.jpg', '1_3_pred.jpg', (1467, 1467)], ['2.jpg', '2_pred.jpg', (8313, 5513)], ['26095039a.jpg', '26095039a_pred.jpg', (768, 768)], ['26823809a.jpg', '26823809a_pred.jpg', (768, 768)], ['2bf540ab6.jpg', '2bf540ab6_pred.jpg', (768, 768)], ['2c65c3125.jpg', '2c65c3125_pred.jpg', (768, 768)], ['2cb5d47a2.jpg', '2cb5d47a2_pred.jpg', (768, 768)], ['2d1a6f1d7.jpg', '2d1a6f1d7_pred.jpg', (768, 768)], ['2d1b074cb.jpg', '2d1b074cb_pred.jpg', (768, 768)], ['2ec80a085.jpg', '2ec80a085_pred.jpg', (768, 768)], ['2f444438d.jpg', '2f444438d_pred.jpg', (768, 768)], ['2_1.jpg', '2_1_pred.jpg', (5513, 5513)], ['2_2.jpg', '2_2_pred.jpg', (4670, 4670)], ['31745469d.jpg', '31745469d_pred.jpg', (768, 768)], ['33925893c.jpg', '33925893c_pred.jpg', (768, 768)], ['34899620c.jpg', '34899620c_pred.jpg', (768, 768)], ['38168248b.jpg', '38168248b_pred.jpg', (768, 768)], ['38237658a.jpg', '38237658a_pred.jpg', (768, 768)], ['38988163c.jpg', '38988163c_pred.jpg', (768, 768)], ['3b0d1d4b2.jpg', '3b0d1d4b2_pred.jpg', (768, 768)], ['3b1539a5d.jpg', '3b1539a5d_pred.jpg', (768, 768)], ['3b1554d64.jpg', '3b1554d64_pred.jpg', (768, 768)], ['3b3ed2440.jpg', '3b3ed2440_pred.jpg', (768, 768)], ['42648574d.jpg', '42648574d_pred.jpg', (768, 768)], ['43347542c.jpg', '43347542c_pred.jpg', (768, 768)], ['44071141e.jpg', '44071141e_pred.jpg', (768, 768)], ['44175789d.jpg', '44175789d_pred.jpg', (768, 768)], ['44432557e.jpg', '44432557e_pred.jpg', (768, 768)], ['44584888f.jpg', '44584888f_pred.jpg', (768, 768)], ['44618001a.jpg', '44618001a_pred.jpg', (768, 768)], ['46653100b.jpg', '46653100b_pred.jpg', (768, 768)], ['52297959b.jpg', '52297959b_pred.jpg', (768, 768)], ['55236555e.jpg', '55236555e_pred.jpg', (768, 768)], ['56990455f.jpg', '56990455f_pred.jpg', (768, 768)], ['57390298a.jpg', '57390298a_pred.jpg', (768, 768)], ['58424055c.jpg', '58424055c_pred.jpg', (768, 768)], ['60295079a.jpg', '60295079a_pred.jpg', (768, 768)], ['61642962f.jpg', '61642962f_pred.jpg', (768, 768)], ['63867551e.jpg', '63867551e_pred.jpg', (768, 768)], ['68153896e.jpg', '68153896e_pred.jpg', (768, 768)], ['68797457b.jpg', '68797457b_pred.jpg', (768, 768)], ['71488764f.jpg', '71488764f_pred.jpg', (768, 768)], ['71519557b.jpg', '71519557b_pred.jpg', (768, 768)], ['72173304c.jpg', '72173304c_pred.jpg', (768, 768)], ['7221420a5.jpg', '7221420a5_pred.jpg', (768, 768)], ['7242578f3.jpg', '7242578f3_pred.jpg', (768, 768)], ['7272882ed.jpg', '7272882ed_pred.jpg', (768, 768)], ['73083966b.jpg', '73083966b_pred.jpg', (768, 768)], ['74121677d.jpg', '74121677d_pred.jpg', (768, 768)], ['7619476c2.jpg', '7619476c2_pred.jpg', (768, 768)], ['7787381d4.jpg', '7787381d4_pred.jpg', (768, 768)], ['7934318f9.jpg', '7934318f9_pred.jpg', (768, 768)], ['7937980e1.jpg', '7937980e1_pred.jpg', (768, 768)], ['8117518d5.jpg', '8117518d5_pred.jpg', (768, 768)], ['8166432c8.jpg', '8166432c8_pred.jpg', (768, 768)], ['82354952a.jpg', '82354952a_pred.jpg', (768, 768)], ['8316753c8.jpg', '8316753c8_pred.jpg', (768, 768)], ['83900351d.jpg', '83900351d_pred.jpg', (768, 768)], ['84827267c.jpg', '84827267c_pred.jpg', (768, 768)], ['85697245a.jpg', '85697245a_pred.jpg', (768, 768)], ['8591865ee.jpg', '8591865ee_pred.jpg', (768, 768)], ['8752531aa.jpg', '8752531aa_pred.jpg', (768, 768)], ['87677250b.jpg', '87677250b_pred.jpg', (768, 768)], ['8814042e0.jpg', '8814042e0_pred.jpg', (768, 768)], ['8849749b2.jpg', '8849749b2_pred.jpg', (768, 768)], ['90614385d.jpg', '90614385d_pred.jpg', (768, 768)], ['91297604d.jpg', '91297604d_pred.jpg', (768, 768)], ['9196798a9.jpg', '9196798a9_pred.jpg', (768, 768)], ['9279279fa.jpg', '9279279fa_pred.jpg', (768, 768)], ['9454131fb.jpg', '9454131fb_pred.jpg', (768, 768)], ['9842324d3.jpg', '9842324d3_pred.jpg', (768, 768)], ['9915044cb.jpg', '9915044cb_pred.jpg', (768, 768)], ['9996921bf.jpg', '9996921bf_pred.jpg', (768, 768)], ['d075491da.jpg', 'd075491da_pred.jpg', (768, 768)], ['d1602e5a1.jpg', 'd1602e5a1_pred.jpg', (768, 768)], ['d30dc6757.jpg', 'd30dc6757_pred.jpg', (768, 768)], ['d40740a01.jpg', 'd40740a01_pred.jpg', (768, 768)], ['d45265381.jpg', 'd45265381_pred.jpg', (768, 768)], ['d4837d743.jpg', 'd4837d743_pred.jpg', (768, 768)], ['d90024c22.jpg', 'd90024c22_pred.jpg', (768, 768)], ['da3c51637.jpg', 'da3c51637_pred.jpg', (768, 768)], ['da3e4cd65.jpg', 'da3e4cd65_pred.jpg', (768, 768)], ['da3ee2f80.jpg', 'da3ee2f80_pred.jpg', (768, 768)], ['da6084af7.jpg', 'da6084af7_pred.jpg', (768, 768)], ['dad047800.jpg', 'dad047800_pred.jpg', (768, 768)], ['db8c4b728.jpg', 'db8c4b728_pred.jpg', (768, 768)], ['dbbe8bc63.jpg', 'dbbe8bc63_pred.jpg', (768, 768)], ['dc007abd3.jpg', 'dc007abd3_pred.jpg', (768, 768)], ['dc0f2e22b.jpg', 'dc0f2e22b_pred.jpg', (768, 768)], ['dc1f36757.jpg', 'dc1f36757_pred.jpg', (768, 768)], ['dd4ffcb5c.jpg', 'dd4ffcb5c_pred.jpg', (768, 768)], ['de7517d54.jpg', 'de7517d54_pred.jpg', (768, 768)], ['df37cc1dc.jpg', 'df37cc1dc_pred.jpg', (768, 768)], ['df648f2f4.jpg', 'df648f2f4_pred.jpg', (768, 768)], ['df82736fc.jpg', 'df82736fc_pred.jpg', (768, 768)], ['df9d741cf.jpg', 'df9d741cf_pred.jpg', (768, 768)], ['dfdfc012a.jpg', 'dfdfc012a_pred.jpg', (768, 768)], ['dfe1d30a7.jpg', 'dfe1d30a7_pred.jpg', (768, 768)], ['dff7a31fc.jpg', 'dff7a31fc_pred.jpg', (768, 768)], ['e0b6f0185.jpg', 'e0b6f0185_pred.jpg', (768, 768)], ['e3adcb329.jpg', 'e3adcb329_pred.jpg', (768, 768)], ['e3da55562.jpg', 'e3da55562_pred.jpg', (768, 768)], ['e7dfaf709.jpg', 'e7dfaf709_pred.jpg', (768, 768)], ['e7e24507a.jpg', 'e7e24507a_pred.jpg', (768, 768)], ['e7e2c2aa6.jpg', 'e7e2c2aa6_pred.jpg', (768, 768)], ['e7f008fb4.jpg', 'e7f008fb4_pred.jpg', (768, 768)]]\n",
      "[['011409565.jpg', '011409565_pred.jpg', (768, 768), 1], ['012473874.jpg', '012473874_pred.jpg', (768, 768), 1], ['01f13f599.jpg', '01f13f599_pred.jpg', (768, 768), 1], ['032610514.jpg', '032610514_pred.jpg', (768, 768), 1], ['037367901.jpg', '037367901_pred.jpg', (768, 768), 1], ['03a75a583.jpg', '03a75a583_pred.jpg', (768, 768), 1], ['041409351.jpg', '041409351_pred.jpg', (768, 768), 1], ['058358044.jpg', '058358044_pred.jpg', (768, 768), 1], ['065080198.jpg', '065080198_pred.jpg', (768, 768), 1], ['078464555.jpg', '078464555_pred.jpg', (768, 768), 1], ['08229754b.jpg', '08229754b_pred.jpg', (768, 768), 1], ['084269309.jpg', '084269309_pred.jpg', (768, 768), 1], ['0aba8fa6f.jpg', '0aba8fa6f_pred.jpg', (768, 768), 1], ['0b7359c38.jpg', '0b7359c38_pred.jpg', (768, 768), 1], ['0c0d90d8d.jpg', '0c0d90d8d_pred.jpg', (768, 768), 1], ['0c24ec954.jpg', '0c24ec954_pred.jpg', (768, 768), 1], ['0e40b3a5b.jpg', '0e40b3a5b_pred.jpg', (768, 768), 1], ['0ec10921f.jpg', '0ec10921f_pred.jpg', (768, 768), 1], ['1.jpg', '1_pred.jpg', (2000, 1467), 1], ['12572286c.jpg', '12572286c_pred.jpg', (768, 768), 1], ['14013864b.jpg', '14013864b_pred.jpg', (768, 768), 1], ['18609713e.jpg', '18609713e_pred.jpg', (768, 768), 1], ['1b5fd69bc.jpg', '1b5fd69bc_pred.jpg', (768, 768), 1], ['1ca44d679.jpg', '1ca44d679_pred.jpg', (768, 768), 1], ['1d0f400ee.jpg', '1d0f400ee_pred.jpg', (768, 768), 1], ['1_2.jpg', '1_2_pred.jpg', (1467, 1467), 1], ['1_3.jpg', '1_3_pred.jpg', (1467, 1467), 1], ['2.jpg', '2_pred.jpg', (8313, 5513), 2], ['26095039a.jpg', '26095039a_pred.jpg', (768, 768), 1], ['26823809a.jpg', '26823809a_pred.jpg', (768, 768), 1], ['2bf540ab6.jpg', '2bf540ab6_pred.jpg', (768, 768), 1], ['2c65c3125.jpg', '2c65c3125_pred.jpg', (768, 768), 1], ['2cb5d47a2.jpg', '2cb5d47a2_pred.jpg', (768, 768), 1], ['2d1a6f1d7.jpg', '2d1a6f1d7_pred.jpg', (768, 768), 1], ['2d1b074cb.jpg', '2d1b074cb_pred.jpg', (768, 768), 1], ['2ec80a085.jpg', '2ec80a085_pred.jpg', (768, 768), 1], ['2f444438d.jpg', '2f444438d_pred.jpg', (768, 768), 1], ['2_1.jpg', '2_1_pred.jpg', (5513, 5513), 2], ['2_2.jpg', '2_2_pred.jpg', (4670, 4670), 1], ['31745469d.jpg', '31745469d_pred.jpg', (768, 768), 1], ['33925893c.jpg', '33925893c_pred.jpg', (768, 768), 1], ['34899620c.jpg', '34899620c_pred.jpg', (768, 768), 1], ['38168248b.jpg', '38168248b_pred.jpg', (768, 768), 1], ['38237658a.jpg', '38237658a_pred.jpg', (768, 768), 1], ['38988163c.jpg', '38988163c_pred.jpg', (768, 768), 1], ['3b0d1d4b2.jpg', '3b0d1d4b2_pred.jpg', (768, 768), 1], ['3b1539a5d.jpg', '3b1539a5d_pred.jpg', (768, 768), 1], ['3b1554d64.jpg', '3b1554d64_pred.jpg', (768, 768), 1], ['3b3ed2440.jpg', '3b3ed2440_pred.jpg', (768, 768), 1], ['42648574d.jpg', '42648574d_pred.jpg', (768, 768), 1], ['43347542c.jpg', '43347542c_pred.jpg', (768, 768), 1], ['44071141e.jpg', '44071141e_pred.jpg', (768, 768), 1], ['44175789d.jpg', '44175789d_pred.jpg', (768, 768), 1], ['44432557e.jpg', '44432557e_pred.jpg', (768, 768), 1], ['44584888f.jpg', '44584888f_pred.jpg', (768, 768), 1], ['44618001a.jpg', '44618001a_pred.jpg', (768, 768), 1], ['46653100b.jpg', '46653100b_pred.jpg', (768, 768), 1], ['52297959b.jpg', '52297959b_pred.jpg', (768, 768), 1], ['55236555e.jpg', '55236555e_pred.jpg', (768, 768), 1], ['56990455f.jpg', '56990455f_pred.jpg', (768, 768), 1], ['57390298a.jpg', '57390298a_pred.jpg', (768, 768), 1], ['58424055c.jpg', '58424055c_pred.jpg', (768, 768), 1], ['60295079a.jpg', '60295079a_pred.jpg', (768, 768), 1], ['61642962f.jpg', '61642962f_pred.jpg', (768, 768), 1], ['63867551e.jpg', '63867551e_pred.jpg', (768, 768), 1], ['68153896e.jpg', '68153896e_pred.jpg', (768, 768), 1], ['68797457b.jpg', '68797457b_pred.jpg', (768, 768), 1], ['71488764f.jpg', '71488764f_pred.jpg', (768, 768), 1], ['71519557b.jpg', '71519557b_pred.jpg', (768, 768), 1], ['72173304c.jpg', '72173304c_pred.jpg', (768, 768), 1], ['7221420a5.jpg', '7221420a5_pred.jpg', (768, 768), 1], ['7242578f3.jpg', '7242578f3_pred.jpg', (768, 768), 1], ['7272882ed.jpg', '7272882ed_pred.jpg', (768, 768), 1], ['73083966b.jpg', '73083966b_pred.jpg', (768, 768), 1], ['74121677d.jpg', '74121677d_pred.jpg', (768, 768), 1], ['7619476c2.jpg', '7619476c2_pred.jpg', (768, 768), 1], ['7787381d4.jpg', '7787381d4_pred.jpg', (768, 768), 1], ['7934318f9.jpg', '7934318f9_pred.jpg', (768, 768), 1], ['7937980e1.jpg', '7937980e1_pred.jpg', (768, 768), 1], ['8117518d5.jpg', '8117518d5_pred.jpg', (768, 768), 1], ['8166432c8.jpg', '8166432c8_pred.jpg', (768, 768), 1], ['82354952a.jpg', '82354952a_pred.jpg', (768, 768), 1], ['8316753c8.jpg', '8316753c8_pred.jpg', (768, 768), 1], ['83900351d.jpg', '83900351d_pred.jpg', (768, 768), 1], ['84827267c.jpg', '84827267c_pred.jpg', (768, 768), 1], ['85697245a.jpg', '85697245a_pred.jpg', (768, 768), 1], ['8591865ee.jpg', '8591865ee_pred.jpg', (768, 768), 1], ['8752531aa.jpg', '8752531aa_pred.jpg', (768, 768), 1], ['87677250b.jpg', '87677250b_pred.jpg', (768, 768), 1], ['8814042e0.jpg', '8814042e0_pred.jpg', (768, 768), 1], ['8849749b2.jpg', '8849749b2_pred.jpg', (768, 768), 1], ['90614385d.jpg', '90614385d_pred.jpg', (768, 768), 1], ['91297604d.jpg', '91297604d_pred.jpg', (768, 768), 1], ['9196798a9.jpg', '9196798a9_pred.jpg', (768, 768), 1], ['9279279fa.jpg', '9279279fa_pred.jpg', (768, 768), 1], ['9454131fb.jpg', '9454131fb_pred.jpg', (768, 768), 1], ['9842324d3.jpg', '9842324d3_pred.jpg', (768, 768), 1], ['9915044cb.jpg', '9915044cb_pred.jpg', (768, 768), 1], ['9996921bf.jpg', '9996921bf_pred.jpg', (768, 768), 1], ['d075491da.jpg', 'd075491da_pred.jpg', (768, 768), 1], ['d1602e5a1.jpg', 'd1602e5a1_pred.jpg', (768, 768), 1], ['d30dc6757.jpg', 'd30dc6757_pred.jpg', (768, 768), 1], ['d40740a01.jpg', 'd40740a01_pred.jpg', (768, 768), 1], ['d45265381.jpg', 'd45265381_pred.jpg', (768, 768), 1], ['d4837d743.jpg', 'd4837d743_pred.jpg', (768, 768), 1], ['d90024c22.jpg', 'd90024c22_pred.jpg', (768, 768), 1], ['da3c51637.jpg', 'da3c51637_pred.jpg', (768, 768), 1], ['da3e4cd65.jpg', 'da3e4cd65_pred.jpg', (768, 768), 1], ['da3ee2f80.jpg', 'da3ee2f80_pred.jpg', (768, 768), 1], ['da6084af7.jpg', 'da6084af7_pred.jpg', (768, 768), 1], ['dad047800.jpg', 'dad047800_pred.jpg', (768, 768), 1], ['db8c4b728.jpg', 'db8c4b728_pred.jpg', (768, 768), 1], ['dbbe8bc63.jpg', 'dbbe8bc63_pred.jpg', (768, 768), 1], ['dc007abd3.jpg', 'dc007abd3_pred.jpg', (768, 768), 1], ['dc0f2e22b.jpg', 'dc0f2e22b_pred.jpg', (768, 768), 1], ['dc1f36757.jpg', 'dc1f36757_pred.jpg', (768, 768), 1], ['dd4ffcb5c.jpg', 'dd4ffcb5c_pred.jpg', (768, 768), 1], ['de7517d54.jpg', 'de7517d54_pred.jpg', (768, 768), 1], ['df37cc1dc.jpg', 'df37cc1dc_pred.jpg', (768, 768), 1], ['df648f2f4.jpg', 'df648f2f4_pred.jpg', (768, 768), 1], ['df82736fc.jpg', 'df82736fc_pred.jpg', (768, 768), 1], ['df9d741cf.jpg', 'df9d741cf_pred.jpg', (768, 768), 1], ['dfdfc012a.jpg', 'dfdfc012a_pred.jpg', (768, 768), 1], ['dfe1d30a7.jpg', 'dfe1d30a7_pred.jpg', (768, 768), 1], ['dff7a31fc.jpg', 'dff7a31fc_pred.jpg', (768, 768), 1], ['e0b6f0185.jpg', 'e0b6f0185_pred.jpg', (768, 768), 1], ['e3adcb329.jpg', 'e3adcb329_pred.jpg', (768, 768), 1], ['e3da55562.jpg', 'e3da55562_pred.jpg', (768, 768), 1], ['e7dfaf709.jpg', 'e7dfaf709_pred.jpg', (768, 768), 1], ['e7e24507a.jpg', 'e7e24507a_pred.jpg', (768, 768), 1], ['e7e2c2aa6.jpg', 'e7e2c2aa6_pred.jpg', (768, 768), 1], ['e7f008fb4.jpg', 'e7f008fb4_pred.jpg', (768, 768), 1]]\n",
      "{1: [['011409565.jpg', '011409565_pred.jpg', (768, 768), 1], ['012473874.jpg', '012473874_pred.jpg', (768, 768), 1], ['01f13f599.jpg', '01f13f599_pred.jpg', (768, 768), 1], ['032610514.jpg', '032610514_pred.jpg', (768, 768), 1], ['037367901.jpg', '037367901_pred.jpg', (768, 768), 1], ['03a75a583.jpg', '03a75a583_pred.jpg', (768, 768), 1], ['041409351.jpg', '041409351_pred.jpg', (768, 768), 1], ['058358044.jpg', '058358044_pred.jpg', (768, 768), 1], ['065080198.jpg', '065080198_pred.jpg', (768, 768), 1], ['078464555.jpg', '078464555_pred.jpg', (768, 768), 1], ['08229754b.jpg', '08229754b_pred.jpg', (768, 768), 1], ['084269309.jpg', '084269309_pred.jpg', (768, 768), 1], ['0aba8fa6f.jpg', '0aba8fa6f_pred.jpg', (768, 768), 1], ['0b7359c38.jpg', '0b7359c38_pred.jpg', (768, 768), 1], ['0c0d90d8d.jpg', '0c0d90d8d_pred.jpg', (768, 768), 1], ['0c24ec954.jpg', '0c24ec954_pred.jpg', (768, 768), 1], ['0e40b3a5b.jpg', '0e40b3a5b_pred.jpg', (768, 768), 1], ['0ec10921f.jpg', '0ec10921f_pred.jpg', (768, 768), 1], ['1.jpg', '1_pred.jpg', (2000, 1467), 1], ['12572286c.jpg', '12572286c_pred.jpg', (768, 768), 1], ['14013864b.jpg', '14013864b_pred.jpg', (768, 768), 1], ['18609713e.jpg', '18609713e_pred.jpg', (768, 768), 1], ['1b5fd69bc.jpg', '1b5fd69bc_pred.jpg', (768, 768), 1], ['1ca44d679.jpg', '1ca44d679_pred.jpg', (768, 768), 1], ['1d0f400ee.jpg', '1d0f400ee_pred.jpg', (768, 768), 1], ['1_2.jpg', '1_2_pred.jpg', (1467, 1467), 1], ['1_3.jpg', '1_3_pred.jpg', (1467, 1467), 1], ['26095039a.jpg', '26095039a_pred.jpg', (768, 768), 1], ['26823809a.jpg', '26823809a_pred.jpg', (768, 768), 1], ['2bf540ab6.jpg', '2bf540ab6_pred.jpg', (768, 768), 1], ['2c65c3125.jpg', '2c65c3125_pred.jpg', (768, 768), 1], ['2cb5d47a2.jpg', '2cb5d47a2_pred.jpg', (768, 768), 1], ['2d1a6f1d7.jpg', '2d1a6f1d7_pred.jpg', (768, 768), 1], ['2d1b074cb.jpg', '2d1b074cb_pred.jpg', (768, 768), 1], ['2ec80a085.jpg', '2ec80a085_pred.jpg', (768, 768), 1], ['2f444438d.jpg', '2f444438d_pred.jpg', (768, 768), 1], ['2_2.jpg', '2_2_pred.jpg', (4670, 4670), 1], ['31745469d.jpg', '31745469d_pred.jpg', (768, 768), 1], ['33925893c.jpg', '33925893c_pred.jpg', (768, 768), 1], ['34899620c.jpg', '34899620c_pred.jpg', (768, 768), 1], ['38168248b.jpg', '38168248b_pred.jpg', (768, 768), 1], ['38237658a.jpg', '38237658a_pred.jpg', (768, 768), 1], ['38988163c.jpg', '38988163c_pred.jpg', (768, 768), 1], ['3b0d1d4b2.jpg', '3b0d1d4b2_pred.jpg', (768, 768), 1], ['3b1539a5d.jpg', '3b1539a5d_pred.jpg', (768, 768), 1], ['3b1554d64.jpg', '3b1554d64_pred.jpg', (768, 768), 1], ['3b3ed2440.jpg', '3b3ed2440_pred.jpg', (768, 768), 1], ['42648574d.jpg', '42648574d_pred.jpg', (768, 768), 1], ['43347542c.jpg', '43347542c_pred.jpg', (768, 768), 1], ['44071141e.jpg', '44071141e_pred.jpg', (768, 768), 1], ['44175789d.jpg', '44175789d_pred.jpg', (768, 768), 1], ['44432557e.jpg', '44432557e_pred.jpg', (768, 768), 1], ['44584888f.jpg', '44584888f_pred.jpg', (768, 768), 1], ['44618001a.jpg', '44618001a_pred.jpg', (768, 768), 1], ['46653100b.jpg', '46653100b_pred.jpg', (768, 768), 1], ['52297959b.jpg', '52297959b_pred.jpg', (768, 768), 1], ['55236555e.jpg', '55236555e_pred.jpg', (768, 768), 1], ['56990455f.jpg', '56990455f_pred.jpg', (768, 768), 1], ['57390298a.jpg', '57390298a_pred.jpg', (768, 768), 1], ['58424055c.jpg', '58424055c_pred.jpg', (768, 768), 1], ['60295079a.jpg', '60295079a_pred.jpg', (768, 768), 1], ['61642962f.jpg', '61642962f_pred.jpg', (768, 768), 1], ['63867551e.jpg', '63867551e_pred.jpg', (768, 768), 1], ['68153896e.jpg', '68153896e_pred.jpg', (768, 768), 1], ['68797457b.jpg', '68797457b_pred.jpg', (768, 768), 1], ['71488764f.jpg', '71488764f_pred.jpg', (768, 768), 1], ['71519557b.jpg', '71519557b_pred.jpg', (768, 768), 1], ['72173304c.jpg', '72173304c_pred.jpg', (768, 768), 1], ['7221420a5.jpg', '7221420a5_pred.jpg', (768, 768), 1], ['7242578f3.jpg', '7242578f3_pred.jpg', (768, 768), 1], ['7272882ed.jpg', '7272882ed_pred.jpg', (768, 768), 1], ['73083966b.jpg', '73083966b_pred.jpg', (768, 768), 1], ['74121677d.jpg', '74121677d_pred.jpg', (768, 768), 1], ['7619476c2.jpg', '7619476c2_pred.jpg', (768, 768), 1], ['7787381d4.jpg', '7787381d4_pred.jpg', (768, 768), 1], ['7934318f9.jpg', '7934318f9_pred.jpg', (768, 768), 1], ['7937980e1.jpg', '7937980e1_pred.jpg', (768, 768), 1], ['8117518d5.jpg', '8117518d5_pred.jpg', (768, 768), 1], ['8166432c8.jpg', '8166432c8_pred.jpg', (768, 768), 1], ['82354952a.jpg', '82354952a_pred.jpg', (768, 768), 1], ['8316753c8.jpg', '8316753c8_pred.jpg', (768, 768), 1], ['83900351d.jpg', '83900351d_pred.jpg', (768, 768), 1], ['84827267c.jpg', '84827267c_pred.jpg', (768, 768), 1], ['85697245a.jpg', '85697245a_pred.jpg', (768, 768), 1], ['8591865ee.jpg', '8591865ee_pred.jpg', (768, 768), 1], ['8752531aa.jpg', '8752531aa_pred.jpg', (768, 768), 1], ['87677250b.jpg', '87677250b_pred.jpg', (768, 768), 1], ['8814042e0.jpg', '8814042e0_pred.jpg', (768, 768), 1], ['8849749b2.jpg', '8849749b2_pred.jpg', (768, 768), 1], ['90614385d.jpg', '90614385d_pred.jpg', (768, 768), 1], ['91297604d.jpg', '91297604d_pred.jpg', (768, 768), 1], ['9196798a9.jpg', '9196798a9_pred.jpg', (768, 768), 1], ['9279279fa.jpg', '9279279fa_pred.jpg', (768, 768), 1], ['9454131fb.jpg', '9454131fb_pred.jpg', (768, 768), 1], ['9842324d3.jpg', '9842324d3_pred.jpg', (768, 768), 1], ['9915044cb.jpg', '9915044cb_pred.jpg', (768, 768), 1], ['9996921bf.jpg', '9996921bf_pred.jpg', (768, 768), 1], ['d075491da.jpg', 'd075491da_pred.jpg', (768, 768), 1], ['d1602e5a1.jpg', 'd1602e5a1_pred.jpg', (768, 768), 1], ['d30dc6757.jpg', 'd30dc6757_pred.jpg', (768, 768), 1], ['d40740a01.jpg', 'd40740a01_pred.jpg', (768, 768), 1], ['d45265381.jpg', 'd45265381_pred.jpg', (768, 768), 1], ['d4837d743.jpg', 'd4837d743_pred.jpg', (768, 768), 1], ['d90024c22.jpg', 'd90024c22_pred.jpg', (768, 768), 1], ['da3c51637.jpg', 'da3c51637_pred.jpg', (768, 768), 1], ['da3e4cd65.jpg', 'da3e4cd65_pred.jpg', (768, 768), 1], ['da3ee2f80.jpg', 'da3ee2f80_pred.jpg', (768, 768), 1], ['da6084af7.jpg', 'da6084af7_pred.jpg', (768, 768), 1], ['dad047800.jpg', 'dad047800_pred.jpg', (768, 768), 1], ['db8c4b728.jpg', 'db8c4b728_pred.jpg', (768, 768), 1], ['dbbe8bc63.jpg', 'dbbe8bc63_pred.jpg', (768, 768), 1], ['dc007abd3.jpg', 'dc007abd3_pred.jpg', (768, 768), 1], ['dc0f2e22b.jpg', 'dc0f2e22b_pred.jpg', (768, 768), 1], ['dc1f36757.jpg', 'dc1f36757_pred.jpg', (768, 768), 1], ['dd4ffcb5c.jpg', 'dd4ffcb5c_pred.jpg', (768, 768), 1], ['de7517d54.jpg', 'de7517d54_pred.jpg', (768, 768), 1], ['df37cc1dc.jpg', 'df37cc1dc_pred.jpg', (768, 768), 1], ['df648f2f4.jpg', 'df648f2f4_pred.jpg', (768, 768), 1], ['df82736fc.jpg', 'df82736fc_pred.jpg', (768, 768), 1], ['df9d741cf.jpg', 'df9d741cf_pred.jpg', (768, 768), 1], ['dfdfc012a.jpg', 'dfdfc012a_pred.jpg', (768, 768), 1], ['dfe1d30a7.jpg', 'dfe1d30a7_pred.jpg', (768, 768), 1], ['dff7a31fc.jpg', 'dff7a31fc_pred.jpg', (768, 768), 1], ['e0b6f0185.jpg', 'e0b6f0185_pred.jpg', (768, 768), 1], ['e3adcb329.jpg', 'e3adcb329_pred.jpg', (768, 768), 1], ['e3da55562.jpg', 'e3da55562_pred.jpg', (768, 768), 1], ['e7dfaf709.jpg', 'e7dfaf709_pred.jpg', (768, 768), 1], ['e7e24507a.jpg', 'e7e24507a_pred.jpg', (768, 768), 1], ['e7e2c2aa6.jpg', 'e7e2c2aa6_pred.jpg', (768, 768), 1], ['e7f008fb4.jpg', 'e7f008fb4_pred.jpg', (768, 768), 1]], 2: [['2.jpg', '2_pred.jpg', (8313, 5513), 2], ['2_1.jpg', '2_1_pred.jpg', (5513, 5513), 2]]}\n",
      "0.0151\n"
     ]
    }
   ],
   "source": [
    "from PIL import Image\n",
    "from time import time\n",
    "\n",
    "t1 = time()\n",
    "counter = 0\n",
    "images_data = []\n",
    "images_dir = r\"D:\\NLP 1\\Sat_object_detection\\inference_images\"\n",
    "# images_dir = r\"D:\\NLP 1\\Sat_object_detection\\large_images\"\n",
    "image_ext = ('.jpg','.jpeg', '.png', '.jp2', '.jfif', '.pjpeg', '.webp', '.tiff', '.tif')\n",
    "for filename in os.listdir(images_dir):\n",
    "    if filename.endswith(image_ext):\n",
    "        # print(filename)\n",
    "        img = filename\n",
    "        img_mask = \"{}_pred{}\".format(os.path.splitext(filename)[0], os.path.splitext(filename)[1])\n",
    "        img_size = Image.open(os.path.join(images_dir, filename)).size\n",
    "        images_data.append([img, img_mask, img_size])\n",
    "        counter += 1\n",
    "print(counter)\n",
    "print(images_data)\n",
    "\n",
    "model_input_dim = 768\n",
    "for img in images_data:\n",
    "    w, h = img[2]\n",
    "    p = (w * h) // (model_input_dim * model_input_dim)\n",
    "    if p > 10:\n",
    "        img_sahi_scale_down_factor = int(round(math.sqrt(p / 20), 0))\n",
    "    else:\n",
    "        img_sahi_scale_down_factor = 1\n",
    "    img.append(img_sahi_scale_down_factor)\n",
    "print(images_data)\n",
    "\n",
    "organized_images_by_scale_down_factor = {}\n",
    "for sublist in images_data:\n",
    "    last_element = sublist[-1]\n",
    "    if last_element not in organized_images_by_scale_down_factor:\n",
    "        organized_images_by_scale_down_factor[last_element] = []\n",
    "    organized_images_by_scale_down_factor[last_element].append(sublist)\n",
    "\n",
    "print(organized_images_by_scale_down_factor)\n",
    "print(f\"{time()-t1:.4f}\")"
   ]
  },
  {
   "cell_type": "code",
   "execution_count": 89,
   "metadata": {},
   "outputs": [
    {
     "name": "stdout",
     "output_type": "stream",
     "text": [
      "1\n",
      "2\n"
     ]
    }
   ],
   "source": [
    "for i in organized_images_by_scale_down_factor.keys():\n",
    "    print(i)"
   ]
  },
  {
   "cell_type": "code",
   "execution_count": 85,
   "metadata": {},
   "outputs": [
    {
     "name": "stdout",
     "output_type": "stream",
     "text": [
      "[['011409565.jpg', '011409565_pred.jpg', (768, 768), 1, 1], ['012473874.jpg', '012473874_pred.jpg', (768, 768), 1, 1], ['01f13f599.jpg', '01f13f599_pred.jpg', (768, 768), 1, 1], ['032610514.jpg', '032610514_pred.jpg', (768, 768), 1, 1], ['037367901.jpg', '037367901_pred.jpg', (768, 768), 1, 1], ['03a75a583.jpg', '03a75a583_pred.jpg', (768, 768), 1, 1], ['041409351.jpg', '041409351_pred.jpg', (768, 768), 1, 1], ['058358044.jpg', '058358044_pred.jpg', (768, 768), 1, 1], ['065080198.jpg', '065080198_pred.jpg', (768, 768), 1, 1], ['078464555.jpg', '078464555_pred.jpg', (768, 768), 1, 1], ['08229754b.jpg', '08229754b_pred.jpg', (768, 768), 1, 1], ['084269309.jpg', '084269309_pred.jpg', (768, 768), 1, 1], ['0aba8fa6f.jpg', '0aba8fa6f_pred.jpg', (768, 768), 1, 1], ['0b7359c38.jpg', '0b7359c38_pred.jpg', (768, 768), 1, 1], ['0c0d90d8d.jpg', '0c0d90d8d_pred.jpg', (768, 768), 1, 1], ['0c24ec954.jpg', '0c24ec954_pred.jpg', (768, 768), 1, 1], ['0e40b3a5b.jpg', '0e40b3a5b_pred.jpg', (768, 768), 1, 1], ['0ec10921f.jpg', '0ec10921f_pred.jpg', (768, 768), 1, 1], ['1.jpg', '1_pred.jpg', (2000, 1467), 1, 1], ['12572286c.jpg', '12572286c_pred.jpg', (768, 768), 1, 1], ['14013864b.jpg', '14013864b_pred.jpg', (768, 768), 1, 1], ['18609713e.jpg', '18609713e_pred.jpg', (768, 768), 1, 1], ['1b5fd69bc.jpg', '1b5fd69bc_pred.jpg', (768, 768), 1, 1], ['1ca44d679.jpg', '1ca44d679_pred.jpg', (768, 768), 1, 1], ['1d0f400ee.jpg', '1d0f400ee_pred.jpg', (768, 768), 1, 1], ['1_2.jpg', '1_2_pred.jpg', (1467, 1467), 1, 1], ['1_3.jpg', '1_3_pred.jpg', (1467, 1467), 1, 1], ['2.jpg', '2_pred.jpg', (8313, 5513), 2, 2], ['26095039a.jpg', '26095039a_pred.jpg', (768, 768), 1, 1], ['26823809a.jpg', '26823809a_pred.jpg', (768, 768), 1, 1], ['2bf540ab6.jpg', '2bf540ab6_pred.jpg', (768, 768), 1, 1], ['2c65c3125.jpg', '2c65c3125_pred.jpg', (768, 768), 1, 1], ['2cb5d47a2.jpg', '2cb5d47a2_pred.jpg', (768, 768), 1, 1], ['2d1a6f1d7.jpg', '2d1a6f1d7_pred.jpg', (768, 768), 1, 1], ['2d1b074cb.jpg', '2d1b074cb_pred.jpg', (768, 768), 1, 1], ['2ec80a085.jpg', '2ec80a085_pred.jpg', (768, 768), 1, 1], ['2f444438d.jpg', '2f444438d_pred.jpg', (768, 768), 1, 1], ['2_1.jpg', '2_1_pred.jpg', (5513, 5513), 2, 2], ['2_2.jpg', '2_2_pred.jpg', (4670, 4670), 1, 1], ['31745469d.jpg', '31745469d_pred.jpg', (768, 768), 1, 1], ['33925893c.jpg', '33925893c_pred.jpg', (768, 768), 1, 1], ['34899620c.jpg', '34899620c_pred.jpg', (768, 768), 1, 1], ['38168248b.jpg', '38168248b_pred.jpg', (768, 768), 1, 1], ['38237658a.jpg', '38237658a_pred.jpg', (768, 768), 1, 1], ['38988163c.jpg', '38988163c_pred.jpg', (768, 768), 1, 1], ['3b0d1d4b2.jpg', '3b0d1d4b2_pred.jpg', (768, 768), 1, 1], ['3b1539a5d.jpg', '3b1539a5d_pred.jpg', (768, 768), 1, 1], ['3b1554d64.jpg', '3b1554d64_pred.jpg', (768, 768), 1, 1], ['3b3ed2440.jpg', '3b3ed2440_pred.jpg', (768, 768), 1, 1], ['42648574d.jpg', '42648574d_pred.jpg', (768, 768), 1, 1], ['43347542c.jpg', '43347542c_pred.jpg', (768, 768), 1, 1], ['44071141e.jpg', '44071141e_pred.jpg', (768, 768), 1, 1], ['44175789d.jpg', '44175789d_pred.jpg', (768, 768), 1, 1], ['44432557e.jpg', '44432557e_pred.jpg', (768, 768), 1, 1], ['44584888f.jpg', '44584888f_pred.jpg', (768, 768), 1, 1], ['44618001a.jpg', '44618001a_pred.jpg', (768, 768), 1, 1], ['46653100b.jpg', '46653100b_pred.jpg', (768, 768), 1, 1], ['52297959b.jpg', '52297959b_pred.jpg', (768, 768), 1, 1], ['55236555e.jpg', '55236555e_pred.jpg', (768, 768), 1, 1], ['56990455f.jpg', '56990455f_pred.jpg', (768, 768), 1, 1], ['57390298a.jpg', '57390298a_pred.jpg', (768, 768), 1, 1], ['58424055c.jpg', '58424055c_pred.jpg', (768, 768), 1, 1], ['60295079a.jpg', '60295079a_pred.jpg', (768, 768), 1, 1], ['61642962f.jpg', '61642962f_pred.jpg', (768, 768), 1, 1], ['63867551e.jpg', '63867551e_pred.jpg', (768, 768), 1, 1], ['68153896e.jpg', '68153896e_pred.jpg', (768, 768), 1, 1], ['68797457b.jpg', '68797457b_pred.jpg', (768, 768), 1, 1], ['71488764f.jpg', '71488764f_pred.jpg', (768, 768), 1, 1], ['71519557b.jpg', '71519557b_pred.jpg', (768, 768), 1, 1], ['72173304c.jpg', '72173304c_pred.jpg', (768, 768), 1, 1], ['7221420a5.jpg', '7221420a5_pred.jpg', (768, 768), 1, 1], ['7242578f3.jpg', '7242578f3_pred.jpg', (768, 768), 1, 1], ['7272882ed.jpg', '7272882ed_pred.jpg', (768, 768), 1, 1], ['73083966b.jpg', '73083966b_pred.jpg', (768, 768), 1, 1], ['74121677d.jpg', '74121677d_pred.jpg', (768, 768), 1, 1], ['7619476c2.jpg', '7619476c2_pred.jpg', (768, 768), 1, 1], ['7787381d4.jpg', '7787381d4_pred.jpg', (768, 768), 1, 1], ['7934318f9.jpg', '7934318f9_pred.jpg', (768, 768), 1, 1], ['7937980e1.jpg', '7937980e1_pred.jpg', (768, 768), 1, 1], ['8117518d5.jpg', '8117518d5_pred.jpg', (768, 768), 1, 1], ['8166432c8.jpg', '8166432c8_pred.jpg', (768, 768), 1, 1], ['82354952a.jpg', '82354952a_pred.jpg', (768, 768), 1, 1], ['8316753c8.jpg', '8316753c8_pred.jpg', (768, 768), 1, 1], ['83900351d.jpg', '83900351d_pred.jpg', (768, 768), 1, 1], ['84827267c.jpg', '84827267c_pred.jpg', (768, 768), 1, 1], ['85697245a.jpg', '85697245a_pred.jpg', (768, 768), 1, 1], ['8591865ee.jpg', '8591865ee_pred.jpg', (768, 768), 1, 1], ['8752531aa.jpg', '8752531aa_pred.jpg', (768, 768), 1, 1], ['87677250b.jpg', '87677250b_pred.jpg', (768, 768), 1, 1], ['8814042e0.jpg', '8814042e0_pred.jpg', (768, 768), 1, 1], ['8849749b2.jpg', '8849749b2_pred.jpg', (768, 768), 1, 1], ['90614385d.jpg', '90614385d_pred.jpg', (768, 768), 1, 1], ['91297604d.jpg', '91297604d_pred.jpg', (768, 768), 1, 1], ['9196798a9.jpg', '9196798a9_pred.jpg', (768, 768), 1, 1], ['9279279fa.jpg', '9279279fa_pred.jpg', (768, 768), 1, 1], ['9454131fb.jpg', '9454131fb_pred.jpg', (768, 768), 1, 1], ['9842324d3.jpg', '9842324d3_pred.jpg', (768, 768), 1, 1], ['9915044cb.jpg', '9915044cb_pred.jpg', (768, 768), 1, 1], ['9996921bf.jpg', '9996921bf_pred.jpg', (768, 768), 1, 1], ['d075491da.jpg', 'd075491da_pred.jpg', (768, 768), 1, 1], ['d1602e5a1.jpg', 'd1602e5a1_pred.jpg', (768, 768), 1, 1], ['d30dc6757.jpg', 'd30dc6757_pred.jpg', (768, 768), 1, 1], ['d40740a01.jpg', 'd40740a01_pred.jpg', (768, 768), 1, 1], ['d45265381.jpg', 'd45265381_pred.jpg', (768, 768), 1, 1], ['d4837d743.jpg', 'd4837d743_pred.jpg', (768, 768), 1, 1], ['d90024c22.jpg', 'd90024c22_pred.jpg', (768, 768), 1, 1], ['da3c51637.jpg', 'da3c51637_pred.jpg', (768, 768), 1, 1], ['da3e4cd65.jpg', 'da3e4cd65_pred.jpg', (768, 768), 1, 1], ['da3ee2f80.jpg', 'da3ee2f80_pred.jpg', (768, 768), 1, 1], ['da6084af7.jpg', 'da6084af7_pred.jpg', (768, 768), 1, 1], ['dad047800.jpg', 'dad047800_pred.jpg', (768, 768), 1, 1], ['db8c4b728.jpg', 'db8c4b728_pred.jpg', (768, 768), 1, 1], ['dbbe8bc63.jpg', 'dbbe8bc63_pred.jpg', (768, 768), 1, 1], ['dc007abd3.jpg', 'dc007abd3_pred.jpg', (768, 768), 1, 1], ['dc0f2e22b.jpg', 'dc0f2e22b_pred.jpg', (768, 768), 1, 1], ['dc1f36757.jpg', 'dc1f36757_pred.jpg', (768, 768), 1, 1], ['dd4ffcb5c.jpg', 'dd4ffcb5c_pred.jpg', (768, 768), 1, 1], ['de7517d54.jpg', 'de7517d54_pred.jpg', (768, 768), 1, 1], ['df37cc1dc.jpg', 'df37cc1dc_pred.jpg', (768, 768), 1, 1], ['df648f2f4.jpg', 'df648f2f4_pred.jpg', (768, 768), 1, 1], ['df82736fc.jpg', 'df82736fc_pred.jpg', (768, 768), 1, 1], ['df9d741cf.jpg', 'df9d741cf_pred.jpg', (768, 768), 1, 1], ['dfdfc012a.jpg', 'dfdfc012a_pred.jpg', (768, 768), 1, 1], ['dfe1d30a7.jpg', 'dfe1d30a7_pred.jpg', (768, 768), 1, 1], ['dff7a31fc.jpg', 'dff7a31fc_pred.jpg', (768, 768), 1, 1], ['e0b6f0185.jpg', 'e0b6f0185_pred.jpg', (768, 768), 1, 1], ['e3adcb329.jpg', 'e3adcb329_pred.jpg', (768, 768), 1, 1], ['e3da55562.jpg', 'e3da55562_pred.jpg', (768, 768), 1, 1], ['e7dfaf709.jpg', 'e7dfaf709_pred.jpg', (768, 768), 1, 1], ['e7e24507a.jpg', 'e7e24507a_pred.jpg', (768, 768), 1, 1], ['e7e2c2aa6.jpg', 'e7e2c2aa6_pred.jpg', (768, 768), 1, 1], ['e7f008fb4.jpg', 'e7f008fb4_pred.jpg', (768, 768), 1, 1]]\n"
     ]
    }
   ],
   "source": [
    "model_input_dim = 768\n",
    "for img in images_data:\n",
    "    w, h = img[2]\n",
    "    p = (w * h) // (model_input_dim * model_input_dim)\n",
    "    if p > 10:\n",
    "        img_sahi_scale_down_factor = int(round(math.sqrt(p / 20), 0))\n",
    "    else:\n",
    "        img_sahi_scale_down_factor = 1\n",
    "    img.append(img_sahi_scale_down_factor)\n",
    "print(images_data)"
   ]
  },
  {
   "cell_type": "code",
   "execution_count": 79,
   "metadata": {},
   "outputs": [
    {
     "name": "stdout",
     "output_type": "stream",
     "text": [
      "['2.jpg', '2_pred.jpg', (8313, 5513), 2]\n",
      "['2_1.jpg', '2_1_pred.jpg', (5513, 5513), 2]\n"
     ]
    }
   ],
   "source": [
    "for img in images_data:\n",
    "    if img[3] != 1:\n",
    "        print(img)"
   ]
  },
  {
   "cell_type": "code",
   "execution_count": 80,
   "metadata": {},
   "outputs": [],
   "source": [
    "organized_images_by_scale_down_factor = {}\n",
    "for sublist in images_data:\n",
    "    last_element = sublist[-1]\n",
    "    if last_element not in organized_images_by_scale_down_factor:\n",
    "        organized_images_by_scale_down_factor[last_element] = []\n",
    "    organized_images_by_scale_down_factor[last_element].append(sublist)"
   ]
  },
  {
   "cell_type": "code",
   "execution_count": 76,
   "metadata": {},
   "outputs": [
    {
     "data": {
      "text/plain": [
       "{1: [['011409565.jpg', '011409565_pred.jpg', (768, 768), 1],\n",
       "  ['012473874.jpg', '012473874_pred.jpg', (768, 768), 1],\n",
       "  ['01f13f599.jpg', '01f13f599_pred.jpg', (768, 768), 1],\n",
       "  ['032610514.jpg', '032610514_pred.jpg', (768, 768), 1],\n",
       "  ['037367901.jpg', '037367901_pred.jpg', (768, 768), 1],\n",
       "  ['03a75a583.jpg', '03a75a583_pred.jpg', (768, 768), 1],\n",
       "  ['041409351.jpg', '041409351_pred.jpg', (768, 768), 1],\n",
       "  ['058358044.jpg', '058358044_pred.jpg', (768, 768), 1],\n",
       "  ['065080198.jpg', '065080198_pred.jpg', (768, 768), 1],\n",
       "  ['078464555.jpg', '078464555_pred.jpg', (768, 768), 1],\n",
       "  ['08229754b.jpg', '08229754b_pred.jpg', (768, 768), 1],\n",
       "  ['084269309.jpg', '084269309_pred.jpg', (768, 768), 1],\n",
       "  ['0aba8fa6f.jpg', '0aba8fa6f_pred.jpg', (768, 768), 1],\n",
       "  ['0b7359c38.jpg', '0b7359c38_pred.jpg', (768, 768), 1],\n",
       "  ['0c0d90d8d.jpg', '0c0d90d8d_pred.jpg', (768, 768), 1],\n",
       "  ['0c24ec954.jpg', '0c24ec954_pred.jpg', (768, 768), 1],\n",
       "  ['0e40b3a5b.jpg', '0e40b3a5b_pred.jpg', (768, 768), 1],\n",
       "  ['0ec10921f.jpg', '0ec10921f_pred.jpg', (768, 768), 1],\n",
       "  ['1.jpg', '1_pred.jpg', (2000, 1467), 1],\n",
       "  ['12572286c.jpg', '12572286c_pred.jpg', (768, 768), 1],\n",
       "  ['14013864b.jpg', '14013864b_pred.jpg', (768, 768), 1],\n",
       "  ['18609713e.jpg', '18609713e_pred.jpg', (768, 768), 1],\n",
       "  ['1b5fd69bc.jpg', '1b5fd69bc_pred.jpg', (768, 768), 1],\n",
       "  ['1ca44d679.jpg', '1ca44d679_pred.jpg', (768, 768), 1],\n",
       "  ['1d0f400ee.jpg', '1d0f400ee_pred.jpg', (768, 768), 1],\n",
       "  ['1_2.jpg', '1_2_pred.jpg', (1467, 1467), 1],\n",
       "  ['1_3.jpg', '1_3_pred.jpg', (1467, 1467), 1],\n",
       "  ['26095039a.jpg', '26095039a_pred.jpg', (768, 768), 1],\n",
       "  ['26823809a.jpg', '26823809a_pred.jpg', (768, 768), 1],\n",
       "  ['2bf540ab6.jpg', '2bf540ab6_pred.jpg', (768, 768), 1],\n",
       "  ['2c65c3125.jpg', '2c65c3125_pred.jpg', (768, 768), 1],\n",
       "  ['2cb5d47a2.jpg', '2cb5d47a2_pred.jpg', (768, 768), 1],\n",
       "  ['2d1a6f1d7.jpg', '2d1a6f1d7_pred.jpg', (768, 768), 1],\n",
       "  ['2d1b074cb.jpg', '2d1b074cb_pred.jpg', (768, 768), 1],\n",
       "  ['2ec80a085.jpg', '2ec80a085_pred.jpg', (768, 768), 1],\n",
       "  ['2f444438d.jpg', '2f444438d_pred.jpg', (768, 768), 1],\n",
       "  ['2_2.jpg', '2_2_pred.jpg', (4670, 4670), 1],\n",
       "  ['31745469d.jpg', '31745469d_pred.jpg', (768, 768), 1],\n",
       "  ['33925893c.jpg', '33925893c_pred.jpg', (768, 768), 1],\n",
       "  ['34899620c.jpg', '34899620c_pred.jpg', (768, 768), 1],\n",
       "  ['38168248b.jpg', '38168248b_pred.jpg', (768, 768), 1],\n",
       "  ['38237658a.jpg', '38237658a_pred.jpg', (768, 768), 1],\n",
       "  ['38988163c.jpg', '38988163c_pred.jpg', (768, 768), 1],\n",
       "  ['3b0d1d4b2.jpg', '3b0d1d4b2_pred.jpg', (768, 768), 1],\n",
       "  ['3b1539a5d.jpg', '3b1539a5d_pred.jpg', (768, 768), 1],\n",
       "  ['3b1554d64.jpg', '3b1554d64_pred.jpg', (768, 768), 1],\n",
       "  ['3b3ed2440.jpg', '3b3ed2440_pred.jpg', (768, 768), 1],\n",
       "  ['42648574d.jpg', '42648574d_pred.jpg', (768, 768), 1],\n",
       "  ['43347542c.jpg', '43347542c_pred.jpg', (768, 768), 1],\n",
       "  ['44071141e.jpg', '44071141e_pred.jpg', (768, 768), 1],\n",
       "  ['44175789d.jpg', '44175789d_pred.jpg', (768, 768), 1],\n",
       "  ['44432557e.jpg', '44432557e_pred.jpg', (768, 768), 1],\n",
       "  ['44584888f.jpg', '44584888f_pred.jpg', (768, 768), 1],\n",
       "  ['44618001a.jpg', '44618001a_pred.jpg', (768, 768), 1],\n",
       "  ['46653100b.jpg', '46653100b_pred.jpg', (768, 768), 1],\n",
       "  ['52297959b.jpg', '52297959b_pred.jpg', (768, 768), 1],\n",
       "  ['55236555e.jpg', '55236555e_pred.jpg', (768, 768), 1],\n",
       "  ['56990455f.jpg', '56990455f_pred.jpg', (768, 768), 1],\n",
       "  ['57390298a.jpg', '57390298a_pred.jpg', (768, 768), 1],\n",
       "  ['58424055c.jpg', '58424055c_pred.jpg', (768, 768), 1],\n",
       "  ['60295079a.jpg', '60295079a_pred.jpg', (768, 768), 1],\n",
       "  ['61642962f.jpg', '61642962f_pred.jpg', (768, 768), 1],\n",
       "  ['63867551e.jpg', '63867551e_pred.jpg', (768, 768), 1],\n",
       "  ['68153896e.jpg', '68153896e_pred.jpg', (768, 768), 1],\n",
       "  ['68797457b.jpg', '68797457b_pred.jpg', (768, 768), 1],\n",
       "  ['71488764f.jpg', '71488764f_pred.jpg', (768, 768), 1],\n",
       "  ['71519557b.jpg', '71519557b_pred.jpg', (768, 768), 1],\n",
       "  ['72173304c.jpg', '72173304c_pred.jpg', (768, 768), 1],\n",
       "  ['7221420a5.jpg', '7221420a5_pred.jpg', (768, 768), 1],\n",
       "  ['7242578f3.jpg', '7242578f3_pred.jpg', (768, 768), 1],\n",
       "  ['7272882ed.jpg', '7272882ed_pred.jpg', (768, 768), 1],\n",
       "  ['73083966b.jpg', '73083966b_pred.jpg', (768, 768), 1],\n",
       "  ['74121677d.jpg', '74121677d_pred.jpg', (768, 768), 1],\n",
       "  ['7619476c2.jpg', '7619476c2_pred.jpg', (768, 768), 1],\n",
       "  ['7787381d4.jpg', '7787381d4_pred.jpg', (768, 768), 1],\n",
       "  ['7934318f9.jpg', '7934318f9_pred.jpg', (768, 768), 1],\n",
       "  ['7937980e1.jpg', '7937980e1_pred.jpg', (768, 768), 1],\n",
       "  ['8117518d5.jpg', '8117518d5_pred.jpg', (768, 768), 1],\n",
       "  ['8166432c8.jpg', '8166432c8_pred.jpg', (768, 768), 1],\n",
       "  ['82354952a.jpg', '82354952a_pred.jpg', (768, 768), 1],\n",
       "  ['8316753c8.jpg', '8316753c8_pred.jpg', (768, 768), 1],\n",
       "  ['83900351d.jpg', '83900351d_pred.jpg', (768, 768), 1],\n",
       "  ['84827267c.jpg', '84827267c_pred.jpg', (768, 768), 1],\n",
       "  ['85697245a.jpg', '85697245a_pred.jpg', (768, 768), 1],\n",
       "  ['8591865ee.jpg', '8591865ee_pred.jpg', (768, 768), 1],\n",
       "  ['8752531aa.jpg', '8752531aa_pred.jpg', (768, 768), 1],\n",
       "  ['87677250b.jpg', '87677250b_pred.jpg', (768, 768), 1],\n",
       "  ['8814042e0.jpg', '8814042e0_pred.jpg', (768, 768), 1],\n",
       "  ['8849749b2.jpg', '8849749b2_pred.jpg', (768, 768), 1],\n",
       "  ['90614385d.jpg', '90614385d_pred.jpg', (768, 768), 1],\n",
       "  ['91297604d.jpg', '91297604d_pred.jpg', (768, 768), 1],\n",
       "  ['9196798a9.jpg', '9196798a9_pred.jpg', (768, 768), 1],\n",
       "  ['9279279fa.jpg', '9279279fa_pred.jpg', (768, 768), 1],\n",
       "  ['9454131fb.jpg', '9454131fb_pred.jpg', (768, 768), 1],\n",
       "  ['9842324d3.jpg', '9842324d3_pred.jpg', (768, 768), 1],\n",
       "  ['9915044cb.jpg', '9915044cb_pred.jpg', (768, 768), 1],\n",
       "  ['9996921bf.jpg', '9996921bf_pred.jpg', (768, 768), 1],\n",
       "  ['d075491da.jpg', 'd075491da_pred.jpg', (768, 768), 1],\n",
       "  ['d1602e5a1.jpg', 'd1602e5a1_pred.jpg', (768, 768), 1],\n",
       "  ['d30dc6757.jpg', 'd30dc6757_pred.jpg', (768, 768), 1],\n",
       "  ['d40740a01.jpg', 'd40740a01_pred.jpg', (768, 768), 1],\n",
       "  ['d45265381.jpg', 'd45265381_pred.jpg', (768, 768), 1],\n",
       "  ['d4837d743.jpg', 'd4837d743_pred.jpg', (768, 768), 1],\n",
       "  ['d90024c22.jpg', 'd90024c22_pred.jpg', (768, 768), 1],\n",
       "  ['da3c51637.jpg', 'da3c51637_pred.jpg', (768, 768), 1],\n",
       "  ['da3e4cd65.jpg', 'da3e4cd65_pred.jpg', (768, 768), 1],\n",
       "  ['da3ee2f80.jpg', 'da3ee2f80_pred.jpg', (768, 768), 1],\n",
       "  ['da6084af7.jpg', 'da6084af7_pred.jpg', (768, 768), 1],\n",
       "  ['dad047800.jpg', 'dad047800_pred.jpg', (768, 768), 1],\n",
       "  ['db8c4b728.jpg', 'db8c4b728_pred.jpg', (768, 768), 1],\n",
       "  ['dbbe8bc63.jpg', 'dbbe8bc63_pred.jpg', (768, 768), 1],\n",
       "  ['dc007abd3.jpg', 'dc007abd3_pred.jpg', (768, 768), 1],\n",
       "  ['dc0f2e22b.jpg', 'dc0f2e22b_pred.jpg', (768, 768), 1],\n",
       "  ['dc1f36757.jpg', 'dc1f36757_pred.jpg', (768, 768), 1],\n",
       "  ['dd4ffcb5c.jpg', 'dd4ffcb5c_pred.jpg', (768, 768), 1],\n",
       "  ['de7517d54.jpg', 'de7517d54_pred.jpg', (768, 768), 1],\n",
       "  ['df37cc1dc.jpg', 'df37cc1dc_pred.jpg', (768, 768), 1],\n",
       "  ['df648f2f4.jpg', 'df648f2f4_pred.jpg', (768, 768), 1],\n",
       "  ['df82736fc.jpg', 'df82736fc_pred.jpg', (768, 768), 1],\n",
       "  ['df9d741cf.jpg', 'df9d741cf_pred.jpg', (768, 768), 1],\n",
       "  ['dfdfc012a.jpg', 'dfdfc012a_pred.jpg', (768, 768), 1],\n",
       "  ['dfe1d30a7.jpg', 'dfe1d30a7_pred.jpg', (768, 768), 1],\n",
       "  ['dff7a31fc.jpg', 'dff7a31fc_pred.jpg', (768, 768), 1],\n",
       "  ['e0b6f0185.jpg', 'e0b6f0185_pred.jpg', (768, 768), 1],\n",
       "  ['e3adcb329.jpg', 'e3adcb329_pred.jpg', (768, 768), 1],\n",
       "  ['e3da55562.jpg', 'e3da55562_pred.jpg', (768, 768), 1],\n",
       "  ['e7dfaf709.jpg', 'e7dfaf709_pred.jpg', (768, 768), 1],\n",
       "  ['e7e24507a.jpg', 'e7e24507a_pred.jpg', (768, 768), 1],\n",
       "  ['e7e2c2aa6.jpg', 'e7e2c2aa6_pred.jpg', (768, 768), 1],\n",
       "  ['e7f008fb4.jpg', 'e7f008fb4_pred.jpg', (768, 768), 1]],\n",
       " 2: [['2.jpg', '2_pred.jpg', (8313, 5513), 2],\n",
       "  ['2_1.jpg', '2_1_pred.jpg', (5513, 5513), 2]]}"
      ]
     },
     "execution_count": 76,
     "metadata": {},
     "output_type": "execute_result"
    }
   ],
   "source": [
    "organized_images_by_scale_down_factor"
   ]
  },
  {
   "cell_type": "code",
   "execution_count": 28,
   "metadata": {},
   "outputs": [
    {
     "name": "stdout",
     "output_type": "stream",
     "text": [
      "D:\\NLP 1\\Sat_object_detection\\inference_images ['aaa'] ['011409565.jpg', '012473874.jpg', '01f13f599.jpg', '032610514.jpg', '037367901.jpg', '03a75a583.jpg', '041409351.jpg', '058358044.jpg', '065080198.jpg', '078464555.jpg', '08229754b.jpg', '084269309.jpg', '0aba8fa6f.jpg', '0b7359c38.jpg', '0c0d90d8d.jpg', '0c24ec954.jpg', '0e40b3a5b.jpg', '0ec10921f.jpg', '1.jpg', '12572286c.jpg', '14013864b.jpg', '18609713e.jpg', '1b5fd69bc.jpg', '1ca44d679.jpg', '1d0f400ee.jpg', '1_2.jpg', '1_3.jpg', '2.jpg', '26095039a.jpg', '26823809a.jpg', '2bf540ab6.jpg', '2c65c3125.jpg', '2cb5d47a2.jpg', '2d1a6f1d7.jpg', '2d1b074cb.jpg', '2ec80a085.jpg', '2f444438d.jpg', '2_1.jpg', '2_2.jpg', '31745469d.jpg', '33925893c.jpg', '34899620c.jpg', '38168248b.jpg', '38237658a.jpg', '38988163c.jpg', '3b0d1d4b2.jpg', '3b1539a5d.jpg', '3b1554d64.jpg', '3b3ed2440.jpg', '42648574d.jpg', '43347542c.jpg', '44071141e.jpg', '44175789d.jpg', '44432557e.jpg', '44584888f.jpg', '44618001a.jpg', '46653100b.jpg', '52297959b.jpg', '55236555e.jpg', '56990455f.jpg', '57390298a.jpg', '58424055c.jpg', '60295079a.jpg', '61642962f.jpg', '63867551e.jpg', '68153896e.jpg', '68797457b.jpg', '71488764f.jpg', '71519557b.jpg', '72173304c.jpg', '7221420a5.jpg', '7242578f3.jpg', '7272882ed.jpg', '73083966b.jpg', '74121677d.jpg', '7619476c2.jpg', '7787381d4.jpg', '7934318f9.jpg', '7937980e1.jpg', '8117518d5.jpg', '8166432c8.jpg', '82354952a.jpg', '8316753c8.jpg', '83900351d.jpg', '84827267c.jpg', '85697245a.jpg', '8591865ee.jpg', '8752531aa.jpg', '87677250b.jpg', '8814042e0.jpg', '8849749b2.jpg', '90614385d.jpg', '91297604d.jpg', '9196798a9.jpg', '9279279fa.jpg', '9454131fb.jpg', '9842324d3.jpg', '9915044cb.jpg', '9996921bf.jpg', 'd075491da.jpg', 'd1602e5a1.jpg', 'd30dc6757.jpg', 'd40740a01.jpg', 'd45265381.jpg', 'd4837d743.jpg', 'd90024c22.jpg', 'da3c51637.jpg', 'da3e4cd65.jpg', 'da3ee2f80.jpg', 'da6084af7.jpg', 'dad047800.jpg', 'db8c4b728.jpg', 'dbbe8bc63.jpg', 'dc007abd3.jpg', 'dc0f2e22b.jpg', 'dc1f36757.jpg', 'dd4ffcb5c.jpg', 'de7517d54.jpg', 'df37cc1dc.jpg', 'df648f2f4.jpg', 'df82736fc.jpg', 'df9d741cf.jpg', 'dfdfc012a.jpg', 'dfe1d30a7.jpg', 'dff7a31fc.jpg', 'e0b6f0185.jpg', 'e3adcb329.jpg', 'e3da55562.jpg', 'e7dfaf709.jpg', 'e7e24507a.jpg', 'e7e2c2aa6.jpg', 'e7f008fb4.jpg', 'README.md']\n",
      "D:\\NLP 1\\Sat_object_detection\\inference_images\\aaa [] ['0aba8fa6f.jpg', '0b7359c38.jpg', '0c0d90d8d.jpg']\n"
     ]
    }
   ],
   "source": [
    "for r, d, f in a:\n",
    "    print(r, d, f)"
   ]
  },
  {
   "cell_type": "code",
   "execution_count": 12,
   "metadata": {},
   "outputs": [
    {
     "name": "stdout",
     "output_type": "stream",
     "text": [
      "None\n"
     ]
    }
   ],
   "source": [
    "d = {\"a\": 1, \"b\": 2}\n",
    "print(d.get(\"c\"))"
   ]
  },
  {
   "cell_type": "code",
   "execution_count": 51,
   "metadata": {},
   "outputs": [
    {
     "ename": "NameError",
     "evalue": "name 'b' is not defined",
     "output_type": "error",
     "traceback": [
      "\u001b[1;31m---------------------------------------------------------------------------\u001b[0m",
      "\u001b[1;31mNameError\u001b[0m                                 Traceback (most recent call last)",
      "\u001b[1;32md:\\NLP 1\\Sat_object_detection\\debug.ipynb Cell 17\u001b[0m line \u001b[0;36m1\n\u001b[1;32m----> <a href='vscode-notebook-cell:/d%3A/NLP%201/Sat_object_detection/debug.ipynb#X22sZmlsZQ%3D%3D?line=0'>1</a>\u001b[0m b\n",
      "\u001b[1;31mNameError\u001b[0m: name 'b' is not defined"
     ]
    }
   ],
   "source": [
    "b"
   ]
  },
  {
   "cell_type": "code",
   "execution_count": 1,
   "metadata": {},
   "outputs": [
    {
     "name": "stderr",
     "output_type": "stream",
     "text": [
      "D:\\NLP 1\\venv\\Lib\\site-packages\\torchvision\\datapoints\\__init__.py:12: UserWarning: The torchvision.datapoints and torchvision.transforms.v2 namespaces are still Beta. While we do not expect major breaking changes, some APIs may still change according to user feedback. Please submit any feedback you may have in this issue: https://github.com/pytorch/vision/issues/6753, and you can also check out https://github.com/pytorch/vision/issues/7319 to learn more about the APIs that we suspect might involve future changes. You can silence this warning by calling torchvision.disable_beta_transforms_warning().\n",
      "  warnings.warn(_BETA_TRANSFORMS_WARNING)\n",
      "D:\\NLP 1\\venv\\Lib\\site-packages\\torchvision\\transforms\\v2\\__init__.py:54: UserWarning: The torchvision.datapoints and torchvision.transforms.v2 namespaces are still Beta. While we do not expect major breaking changes, some APIs may still change according to user feedback. Please submit any feedback you may have in this issue: https://github.com/pytorch/vision/issues/6753, and you can also check out https://github.com/pytorch/vision/issues/7319 to learn more about the APIs that we suspect might involve future changes. You can silence this warning by calling torchvision.disable_beta_transforms_warning().\n",
      "  warnings.warn(_BETA_TRANSFORMS_WARNING)\n"
     ]
    },
    {
     "name": "stdout",
     "output_type": "stream",
     "text": [
      "Processing 03a75a583.jpg\n",
      "Performing prediction on 1 number of slices.\n",
      "bboxes.dim():  1\n",
      "tensor([])\n",
      "Processing 08229754b.jpg\n",
      "Performing prediction on 1 number of slices.\n",
      "Object found -> bbox:  [434.6351  356.14618 471.4752  481.77582]\n",
      "Object found -> bbox:  [748.93353 431.21533 767.94855 471.54468]\n",
      "bboxes.dim():  2\n",
      "tensor([[434.6351, 356.1462, 471.4752, 481.7758],\n",
      "        [748.9335, 431.2153, 767.9485, 471.5447]])\n",
      "434 356 471 481\n",
      "748 431 767 471\n",
      "Processing 0b7359c38.jpg\n",
      "Performing prediction on 1 number of slices.\n",
      "Object found -> bbox:  [ 25.5195  414.79556 415.13986 478.85983]\n",
      "bboxes.dim():  2\n",
      "tensor([[ 25.5195, 414.7956, 415.1399, 478.8598]])\n",
      "25 414 415 478\n",
      "Processing 0c0d90d8d.jpg\n",
      "Performing prediction on 1 number of slices.\n",
      "Object found -> bbox:  [593.7077   45.92871 753.17255 254.45227]\n",
      "Object found -> bbox:  [620.5995  627.19763 637.94653 635.86365]\n",
      "Object found -> bbox:  [180.73062 636.78705 194.8421  644.33075]\n",
      "bboxes.dim():  2\n",
      "tensor([[593.7077,  45.9287, 753.1725, 254.4523],\n",
      "        [620.5995, 627.1976, 637.9465, 635.8636],\n",
      "        [180.7306, 636.7870, 194.8421, 644.3307]])\n",
      "593 45 753 254\n"
     ]
    },
    {
     "ename": "error",
     "evalue": "OpenCV(4.8.0) :-1: error: (-5:Bad argument) in function 'putText'\n> Overload resolution failed:\n>  - Can't parse 'org'. Sequence item with index 0 has a wrong type\n>  - Can't parse 'org'. Sequence item with index 0 has a wrong type\n",
     "output_type": "error",
     "traceback": [
      "\u001b[1;31m---------------------------------------------------------------------------\u001b[0m",
      "\u001b[1;31merror\u001b[0m                                     Traceback (most recent call last)",
      "\u001b[1;32md:\\NLP 1\\Sat_object_detection\\debug.ipynb Cell 22\u001b[0m line \u001b[0;36m6\n\u001b[0;32m      <a href='vscode-notebook-cell:/d%3A/NLP%201/Sat_object_detection/debug.ipynb#X30sZmlsZQ%3D%3D?line=2'>3</a>\u001b[0m images_path \u001b[39m=\u001b[39m \u001b[39mr\u001b[39m\u001b[39m\"\u001b[39m\u001b[39mD:\u001b[39m\u001b[39m\\\u001b[39m\u001b[39mNLP 1\u001b[39m\u001b[39m\\\u001b[39m\u001b[39mSat_object_detection\u001b[39m\u001b[39m\\\u001b[39m\u001b[39mdebug_images_2\u001b[39m\u001b[39m\"\u001b[39m\n\u001b[0;32m      <a href='vscode-notebook-cell:/d%3A/NLP%201/Sat_object_detection/debug.ipynb#X30sZmlsZQ%3D%3D?line=3'>4</a>\u001b[0m coord \u001b[39m=\u001b[39m {\u001b[39m\"\u001b[39m\u001b[39m0c0d90d8d.jpg\u001b[39m\u001b[39m\"\u001b[39m: [\u001b[39m58.4893887115\u001b[39m,\u001b[39m23.6396684794\u001b[39m,\u001b[39m58.4961460224\u001b[39m,\u001b[39m23.6487324542\u001b[39m]}\n\u001b[1;32m----> <a href='vscode-notebook-cell:/d%3A/NLP%201/Sat_object_detection/debug.ipynb#X30sZmlsZQ%3D%3D?line=5'>6</a>\u001b[0m result \u001b[39m=\u001b[39m ship_detection_bulk(images_dir\u001b[39m=\u001b[39;49mimages_path, bbox_coord_wgs84\u001b[39m=\u001b[39;49mcoord)\n",
      "File \u001b[1;32md:\\NLP 1\\Sat_object_detection\\inference_modular.py:383\u001b[0m, in \u001b[0;36mship_detection_bulk\u001b[1;34m(images_dir, model_path, bbox_coord_wgs84, model_input_dim, sahi_confidence_threshold, sahi_scale_down_factor, sahi_overlap_ratio, nms_iou_threshold, device, output_dir)\u001b[0m\n\u001b[0;32m    381\u001b[0m     \u001b[39m# drawing bbox and save image\u001b[39;00m\n\u001b[0;32m    382\u001b[0m     output \u001b[39m=\u001b[39m path\u001b[39m.\u001b[39mjoin(images_dir, img[\u001b[39m1\u001b[39m])\n\u001b[1;32m--> 383\u001b[0m     draw_bboxes(image\u001b[39m=\u001b[39;49msahi_scaled_down_image, bbox_list\u001b[39m=\u001b[39;49mbboxes_nms, score_list\u001b[39m=\u001b[39;49mscores_nms, length_list\u001b[39m=\u001b[39;49mresult[img[\u001b[39m0\u001b[39;49m]]\u001b[39m.\u001b[39;49mget(\u001b[39m\"\u001b[39;49m\u001b[39mships_length\u001b[39;49m\u001b[39m\"\u001b[39;49m), output_file_name\u001b[39m=\u001b[39;49moutput)\n\u001b[0;32m    386\u001b[0m \u001b[39mreturn\u001b[39;00m result\n",
      "File \u001b[1;32md:\\NLP 1\\Sat_object_detection\\imageutils.py:258\u001b[0m, in \u001b[0;36mdraw_bboxes\u001b[1;34m(image, bbox_list, score_list, output_file_name, length_list)\u001b[0m\n\u001b[0;32m    256\u001b[0m     \u001b[39mif\u001b[39;00m length_list \u001b[39mis\u001b[39;00m \u001b[39mnot\u001b[39;00m \u001b[39mNone\u001b[39;00m:\n\u001b[0;32m    257\u001b[0m         length \u001b[39m=\u001b[39m length_list[i]\n\u001b[1;32m--> 258\u001b[0m         cv2\u001b[39m.\u001b[39;49mputText(image, \u001b[39mstr\u001b[39;49m(length), (\u001b[39mint\u001b[39;49m(x1\u001b[39m+\u001b[39;49mx2)\u001b[39m*\u001b[39;49m\u001b[39m0.5\u001b[39;49m, \u001b[39mint\u001b[39;49m(y1\u001b[39m+\u001b[39;49my2)\u001b[39m*\u001b[39;49m\u001b[39m0.5\u001b[39;49m), cv2\u001b[39m.\u001b[39;49mFONT_HERSHEY_SIMPLEX, \u001b[39m0.8\u001b[39;49m, (\u001b[39m0\u001b[39;49m, \u001b[39m150\u001b[39;49m, \u001b[39m200\u001b[39;49m), \u001b[39m2\u001b[39;49m)\n\u001b[0;32m    260\u001b[0m \u001b[39m# Save the image to the output file\u001b[39;00m\n\u001b[0;32m    261\u001b[0m cv2\u001b[39m.\u001b[39mimwrite(output_file_name, image)\n",
      "\u001b[1;31merror\u001b[0m: OpenCV(4.8.0) :-1: error: (-5:Bad argument) in function 'putText'\n> Overload resolution failed:\n>  - Can't parse 'org'. Sequence item with index 0 has a wrong type\n>  - Can't parse 'org'. Sequence item with index 0 has a wrong type\n"
     ]
    }
   ],
   "source": [
    "from inference_modular import ship_detection, ship_detection_bulk\n",
    "# images_path = r\"D:\\NLP 1\\Sat_object_detection\\inference_images\"\n",
    "images_path = r\"D:\\NLP 1\\Sat_object_detection\\debug_images_2\"\n",
    "coord = {\"0c0d90d8d.jpg\": [58.4893887115,23.6396684794,58.4961460224,23.6487324542]}\n",
    "\n",
    "result = ship_detection_bulk(images_dir=images_path, bbox_coord_wgs84=coord)"
   ]
  },
  {
   "cell_type": "code",
   "execution_count": 14,
   "metadata": {},
   "outputs": [
    {
     "data": {
      "text/plain": [
       "{'n_obj': 4,\n",
       " 'bboxes': array([[593.7077 ,  45.92871, 753.17255, 254.45227],\n",
       "        [620.5995 , 627.19763, 637.94653, 635.86365],\n",
       "        [180.73062, 636.78705, 194.8421 , 644.33075],\n",
       "        [119.95   , 644.51044, 133.83653, 653.96564]], dtype=float32),\n",
       " 'scores': array([0.9998567 , 0.9744727 , 0.9333982 , 0.88371474], dtype=float32),\n",
       " 'sahi_scaled_down_image': <PIL.Image.Image image mode=RGB size=768x768>,\n",
       " 'ships_coord': [(58.495314029591, 23.641441035159),\n",
       "  (58.494925421619, 23.647121835915),\n",
       "  (58.491040965183, 23.647228387887),\n",
       "  (58.490505192283, 23.647330819514)],\n",
       " 'ships_length': [308.8, 19.2, 16.0, 17.5],\n",
       " 'ships_bbox_dimensions': [(273.7, 142.9),\n",
       "  (15.5, 11.4),\n",
       "  (12.6, 9.9),\n",
       "  (12.4, 12.4)]}"
      ]
     },
     "execution_count": 14,
     "metadata": {},
     "output_type": "execute_result"
    }
   ],
   "source": [
    "result[\"0c0d90d8d.jpg\"]"
   ]
  },
  {
   "cell_type": "code",
   "execution_count": 1,
   "metadata": {},
   "outputs": [],
   "source": [
    "from PIL import Image\n",
    "import numpy as np\n",
    "from imageutils import resize_img\n",
    "\n",
    "factor = 3\n",
    "image_path = r\"D:\\NLP 1\\Sat_object_detection\\inference_images\\2.jpg\"\n",
    "image = Image.open(image_path)\n",
    "w, h= image.size\n",
    "resized_img = resize_img(image, h/factor, w/factor)"
   ]
  },
  {
   "cell_type": "code",
   "execution_count": 2,
   "metadata": {},
   "outputs": [],
   "source": [
    "resized_img = Image.fromarray(np.uint8(resized_img)).convert('RGB')\n"
   ]
  },
  {
   "cell_type": "code",
   "execution_count": 3,
   "metadata": {},
   "outputs": [],
   "source": [
    "resized_img.show()"
   ]
  },
  {
   "cell_type": "code",
   "execution_count": null,
   "metadata": {},
   "outputs": [],
   "source": []
  }
 ],
 "metadata": {
  "kernelspec": {
   "display_name": "Python 3 (ipykernel)",
   "language": "python",
   "name": "python3"
  },
  "language_info": {
   "codemirror_mode": {
    "name": "ipython",
    "version": 3
   },
   "file_extension": ".py",
   "mimetype": "text/x-python",
   "name": "python",
   "nbconvert_exporter": "python",
   "pygments_lexer": "ipython3",
   "version": "3.11.4"
  },
  "orig_nbformat": 4
 },
 "nbformat": 4,
 "nbformat_minor": 2
}
