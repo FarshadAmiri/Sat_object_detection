{
 "cells": [
  {
   "cell_type": "code",
   "execution_count": null,
   "id": "54a825ad-1ed1-4079-9162-90a9c4cf4eb8",
   "metadata": {},
   "outputs": [],
   "source": [
    "import logging\n",
    "from sentinelhub import MimeType, CRS, BBox, DataCollection, bbox_to_dimensions\n",
    "from sentinelhub import SHConfig, SentinelHubRequest\n",
    "\n",
    "import numpy as np\n",
    "from matplotlib import pyplot as plt\n",
    "from PIL import Image"
   ]
  },
  {
   "cell_type": "code",
   "execution_count": null,
   "id": "5f8afbdc-b73e-42ac-8439-272c9cb1f5e6",
   "metadata": {},
   "outputs": [],
   "source": [
    "logging.basicConfig(level=logging.INFO)"
   ]
  },
  {
   "cell_type": "code",
   "execution_count": null,
   "id": "88b44f52-a26d-42c5-827e-ae87b2e28d54",
   "metadata": {},
   "outputs": [],
   "source": [
    "# Load configuration for sentinel-hub API.\n",
    "config = SHConfig()\n",
    "\n",
    "config = SHConfig(instance_id='',\n",
    "         sh_client_id='e0b127dc-fbb5-4151-8946-96d8728003c7',\n",
    "         sh_client_secret='4Xy2[Bc#?&L!xbha(XB6*%Xbry,BU-cZA0Dd9n,W',\n",
    "         sh_base_url='https://services.sentinel-hub.com',\n",
    "         sh_token_url='https://services.sentinel-hub.com/oauth/token',\n",
    ")"
   ]
  },
  {
   "cell_type": "code",
   "execution_count": null,
   "id": "2f57a65c-e90b-4c59-8688-81adb91313db",
   "metadata": {},
   "outputs": [],
   "source": [
    "# config = SHConfig()\n",
    "config.instance_id = \"my-instance-id\"\n",
    "config.save(\"my-profile\")"
   ]
  },
  {
   "cell_type": "code",
   "execution_count": null,
   "id": "af7375ba-9423-465b-97dc-a96947110580",
   "metadata": {},
   "outputs": [],
   "source": [
    "from oauthlib.oauth2 import BackendApplicationClient\n",
    "from requests_oauthlib import OAuth2Session\n",
    "\n",
    "# Your client credentials\n",
    "client_id = 'e0b127dc-fbb5-4151-8946-96d8728003c7'\n",
    "client_secret = '4Xy2[Bc#?&L!xbha(XB6*%Xbry,BU-cZA0Dd9n,W'\n",
    "\n",
    "# Create a session\n",
    "client = BackendApplicationClient(client_id=client_id)\n",
    "oauth = OAuth2Session(client=client)\n",
    "\n",
    "# Get token for the session\n",
    "token = oauth.fetch_token(token_url='https://services.sentinel-hub.com/oauth/token',\n",
    "                          client_secret=client_secret)\n",
    "\n",
    "# All requests using this session will have an access token automatically added\n",
    "resp = oauth.get(\"https://services.sentinel-hub.com/oauth/tokeninfo\")\n",
    "print(resp.content)"
   ]
  },
  {
   "cell_type": "code",
   "execution_count": null,
   "id": "79ecf277-a91c-4985-87a8-7ce515899f1e",
   "metadata": {},
   "outputs": [],
   "source": [
    "# Bands are set in reverse order.\n",
    "evalscript_true_color = \"\"\"\n",
    "    //VERSION=3\n",
    "\n",
    "    function setup() {\n",
    "        return {\n",
    "            input: [{\n",
    "                bands: [\"B02\", \"B03\", \"B04\"]\n",
    "            }],\n",
    "            output: {\n",
    "                bands: 3\n",
    "            }\n",
    "        };\n",
    "    }\n",
    "\n",
    "    function evaluatePixel(sample) {\n",
    "        return [3.5*sample.B04, 3.5*sample.B03, 3.5*sample.B02];\n",
    "\n",
    "    }\n",
    "\"\"\""
   ]
  },
  {
   "cell_type": "code",
   "execution_count": null,
   "id": "dbd46199-f932-4b77-a67f-5c8ac4d8514e",
   "metadata": {},
   "outputs": [],
   "source": [
    "def request_images(coords_wgs84, timeline):\n",
    "    \"\"\"\n",
    "    Arguments:\n",
    "        coords_wgs84: WGS84 coordinates (e.g. bboxfinder.com)\n",
    "        timeline: List of time intervals represented as \"yyyy-mm-dd\"\n",
    "\n",
    "    Returns:\n",
    "        List of images represented as NxMx3 Numpy arrays\n",
    "    \"\"\"\n",
    "\n",
    "    # Set resolution and region bb/size.\n",
    "    resolution = 10\n",
    "    region_bbox = BBox(bbox = coords_wgs84, crs = CRS.WGS84)\n",
    "    region_size = bbox_to_dimensions(region_bbox, resolution = resolution)\n",
    "    print(f'Requesting images with {resolution}m resolution and region size of {region_size} pixels')\n",
    "\n",
    "    images = []\n",
    "    for time_int in timeline:\n",
    "\n",
    "        # Build the request.\n",
    "        request_true_color = SentinelHubRequest(\n",
    "            data_folder='sentinel-hub',\n",
    "            #resolution = resolution,\n",
    "            evalscript = evalscript_true_color,\n",
    "            input_data = [\n",
    "                SentinelHubRequest.input_data(\n",
    "                    data_collection = DataCollection.SENTINEL2_L1C,\n",
    "                    time_interval = time_int,\n",
    "                    mosaicking_order = 'leastCC'\n",
    "                )\n",
    "            ],\n",
    "            responses = [\n",
    "                SentinelHubRequest.output_response('default', MimeType.PNG)\n",
    "            ],\n",
    "            bbox = region_bbox,\n",
    "            size = region_size,\n",
    "            config = config\n",
    "        )\n",
    "\n",
    "        # By construction, only one image at time is returned.\n",
    "        true_color_imgs = request_true_color.get_data(save_data=True)\n",
    "        images.append(true_color_imgs[0])\n",
    "\n",
    "    return images"
   ]
  },
  {
   "cell_type": "code",
   "execution_count": null,
   "id": "a5f009fd-f2b2-4557-8f83-605fce29d1ae",
   "metadata": {},
   "outputs": [],
   "source": [
    "bbox = [58.488808,23.630371,58.573265,23.699550]\n",
    "time_interval = [('2023-07-05', '2023-09-25')]"
   ]
  },
  {
   "cell_type": "code",
   "execution_count": null,
   "id": "32504136-9ccc-4dac-baae-acdaae546b82",
   "metadata": {},
   "outputs": [],
   "source": [
    "images = request_images(coords_wgs84=bbox, timeline=time_interval)"
   ]
  },
  {
   "cell_type": "code",
   "execution_count": null,
   "id": "62886d47",
   "metadata": {},
   "outputs": [],
   "source": [
    "images[0].shape"
   ]
  },
  {
   "cell_type": "code",
   "execution_count": null,
   "id": "71b102cb",
   "metadata": {},
   "outputs": [],
   "source": [
    "from IPython.display import display\n",
    "display(images[0])"
   ]
  },
  {
   "cell_type": "code",
   "execution_count": null,
   "id": "3bf4a619-1d01-44fc-8d32-de0c3d248ec8",
   "metadata": {},
   "outputs": [],
   "source": [
    "print(len(images))\n",
    "print(images[0].shape)\n",
    "print(images[1].shape)"
   ]
  },
  {
   "cell_type": "code",
   "execution_count": null,
   "id": "b9f919fb-c39d-450d-aeba-cd433e3bf43f",
   "metadata": {},
   "outputs": [],
   "source": [
    "images[1][400]"
   ]
  },
  {
   "cell_type": "code",
   "execution_count": null,
   "id": "5b020280-f346-45ee-a7dd-da457933375a",
   "metadata": {},
   "outputs": [],
   "source": [
    "plt.figure()\n",
    "\n",
    "#subplot(r,c) provide the no. of rows and columns\n",
    "f, axarr = plt.subplots(1,2) \n",
    "\n",
    "# use the created array to output your multiple images. In this case I have stacked 4 images vertically\n",
    "axarr[0].imshow(images[0])\n",
    "# axarr[1].imshow(images[1])"
   ]
  },
  {
   "cell_type": "code",
   "execution_count": null,
   "id": "db60d9ef-4f3b-45ca-a2f2-32a7e7a001f2",
   "metadata": {},
   "outputs": [],
   "source": [
    "PIL_image = Image.fromarray(np.uint8(images[1])).convert('RGB')\n",
    "PIL_image"
   ]
  },
  {
   "cell_type": "code",
   "execution_count": null,
   "id": "42d9489b-db4a-460e-828e-cf3b6edf1c9a",
   "metadata": {},
   "outputs": [],
   "source": []
  },
  {
   "cell_type": "code",
   "execution_count": null,
   "id": "e926adb0-d54d-42ed-825c-dd831a8914d2",
   "metadata": {},
   "outputs": [],
   "source": []
  }
 ],
 "metadata": {
  "kernelspec": {
   "display_name": "Python 3 (ipykernel)",
   "language": "python",
   "name": "python3"
  }
 },
 "nbformat": 4,
 "nbformat_minor": 5
}
