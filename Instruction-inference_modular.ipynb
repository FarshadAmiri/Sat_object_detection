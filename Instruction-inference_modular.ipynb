{
 "cells": [
  {
   "cell_type": "code",
   "execution_count": null,
   "metadata": {},
   "outputs": [],
   "source": [
    "import os, math\n",
    "from slicing_inference import sahi_slicing_inference\n",
    "from inference_modular import ship_detection\n",
    "from PIL import Image \n",
    "import numpy as np\n",
    "from imageutils import resize_img\n",
    "import torch"
   ]
  },
  {
   "cell_type": "code",
   "execution_count": null,
   "metadata": {},
   "outputs": [],
   "source": [
    "image_path=r\"D:\\NLP 1\\Sat_object_detection\\debug_images\\2.jpg\"\n",
    "image_path=r\"D:\\NLP 1\\Sat_object_detection\\inference_images\\dd4ffcb5c.jpg\"\n",
    "images_path = r\"D:\\NLP 1\\Sat_object_detection\\inference_images\"\n",
    "images_path = r\"D:\\NLP 1\\Sat_object_detection\\debug_images_2\""
   ]
  },
  {
   "cell_type": "markdown",
   "metadata": {},
   "source": [
    "Directory mode"
   ]
  },
  {
   "cell_type": "code",
   "execution_count": null,
   "metadata": {},
   "outputs": [],
   "source": [
    "from inference_modular import ship_detection\n",
    "\n",
    "# images_dir = r\"D:\\NLP 1\\Sat_object_detection\\Test_images\\debug_images_2\"\n",
    "images_dir = r\"D:\\NLP 1\\Sat_object_detection\\Test_images\\debug_images_3\"\n",
    "# images_dir = r\"D:\\NLP 1\\Sat_object_detection\\Test_images\\inference_images\"\n",
    "# images_dir = r\"D:\\NLP 1\\Sat_object_detection\\Test_images\\ship\"\n",
    "\n",
    "coord = {\"0c0d90d8d.jpg\": [58.4893887115, 23.6396684794, 58.4961460224, 23.6487324542],\n",
    "         \"2d1b074cb.jpg\": [47.3562147890, 26.3220918742, 47.3646843251, 26.3311658917],}\n",
    "\n",
    "result = ship_detection(images=images_dir, bbox_coord_wgs84=coord, annotations=[\"length\", \"coord\"], nms_iou_threshold=0.15, scale_down_factor= \"adaptive\",\n",
    "                        adaptive_scale_down_parameters = {'a': 0.2, 'b': 0.5, 'threshold': 3}, model_input_dim=768, confidence_threshold=0.7, sahi_overlap_ratio=0.33,\n",
    "                        output_annotated_image=True, save_annotated_image=True, annotation_font_size=15, annotation_font=r\"calibri.ttf\", annotation_bbox_width=1, \n",
    "                        output_original_image=True, output_dir=None, output_name=\"prediction\",)"
   ]
  },
  {
   "cell_type": "code",
   "execution_count": null,
   "metadata": {},
   "outputs": [],
   "source": [
    "result[\"2d1b074cb.jpg\"]"
   ]
  },
  {
   "cell_type": "code",
   "execution_count": null,
   "metadata": {},
   "outputs": [],
   "source": [
    "# result[\"2d1b074cb.jpg\"][\"original_image\"]\n",
    "result[\"2d1b074cb.jpg\"][\"annotated_image\"]"
   ]
  },
  {
   "cell_type": "code",
   "execution_count": null,
   "metadata": {},
   "outputs": [],
   "source": [
    "from imageutils import draw_bbox_torchvision\n",
    "\n",
    "image = result[\"2d1b074cb.jpg\"]\n",
    "annotated_image = draw_bbox_torchvision(image=image[\"original_image\"], bboxes=image[\"bboxes\"], scores=image[\"scores\"], lengths=image[\"ships_lengths\"], \n",
    "                        ships_coords=image[\"ships_long_lat\"], annotations=[\"score\", \"length\", \"coord\"], save=False, image_save_name=r\"C:\\Users\\user2\\Desktop\\b.jpg\",\n",
    "                        output_annotated_image=True, font_size=20, font=r\"calibri.ttf\", bbox_width=1)\n",
    "annotated_image"
   ]
  },
  {
   "cell_type": "code",
   "execution_count": null,
   "metadata": {},
   "outputs": [],
   "source": [
    "result[\"2d1b074cb.jpg\"][\"ships_long_lat\"]"
   ]
  },
  {
   "cell_type": "code",
   "execution_count": null,
   "metadata": {},
   "outputs": [],
   "source": [
    "result[\"dad047800.jpg\"]"
   ]
  },
  {
   "cell_type": "markdown",
   "metadata": {},
   "source": [
    "Images dictionary mode"
   ]
  },
  {
   "cell_type": "code",
   "execution_count": null,
   "metadata": {},
   "outputs": [],
   "source": [
    "from PIL import Image\n",
    "images_paths = [r\"D:\\NLP 1\\Sat_object_detection\\inference_images\\dd4ffcb5c.jpg\",\n",
    "                r\"D:\\NLP 1\\Sat_object_detection\\debug_images_2\\2_2.jpg\",\n",
    "                r\"D:\\NLP 1\\Sat_object_detection\\debug_images_2\\e0b6f0185.jpg\"\n",
    "                ]\n",
    "coords = [[58.4893887115, 23.6396684794, 58.4961460224, 23.6487324542], \n",
    "          [47.3562147890, 26.3220918742, 47.3646843251, 26.3311658917],\n",
    "          [62.5293887115, 18.9696684794, 62.5361460224, 18.9787324542],]\n",
    "images_dict = {}\n",
    "coords_dict = {}\n",
    "for idx, img_path in enumerate(images_paths):\n",
    "    img_name = \"image{0:03}\".format(idx+1)\n",
    "    images_dict[img_name] = {}\n",
    "    images_dict[img_name]['image'] = Image.open(img_path)\n",
    "\n",
    "    coords_dict[img_name] = coords[idx]\n",
    "\n",
    "print(images_dict)\n",
    "print(coords_dict)\n"
   ]
  },
  {
   "cell_type": "code",
   "execution_count": null,
   "metadata": {},
   "outputs": [],
   "source": [
    "from inference_modular import ship_detection\n",
    "result = ship_detection(images=images_dict, bbox_coord_wgs84=coords_dict)"
   ]
  },
  {
   "cell_type": "code",
   "execution_count": null,
   "metadata": {},
   "outputs": [],
   "source": [
    "result['image001']"
   ]
  },
  {
   "cell_type": "code",
   "execution_count": null,
   "metadata": {},
   "outputs": [],
   "source": [
    "result['image001']['ships_bbox_dimensions']"
   ]
  },
  {
   "cell_type": "markdown",
   "metadata": {},
   "source": [
    "Single image mode"
   ]
  },
  {
   "cell_type": "code",
   "execution_count": 6,
   "metadata": {},
   "outputs": [
    {
     "name": "stdout",
     "output_type": "stream",
     "text": [
      "<class 'PIL.JpegImagePlugin.JpegImageFile'>\n",
      "\n",
      "The model takes a while to load for the first inference.\n",
      "Processing prediction\n",
      "Performing prediction on 9 number of slices.\n",
      "12 bboxes found in prediction\n"
     ]
    }
   ],
   "source": [
    "from inference_modular import ship_detection\n",
    "from PIL import Image\n",
    "# images_path = r\"D:\\NLP 1\\Sat_object_detection\\inference_images\"\n",
    "# images_path = r\"D:\\NLP 1\\Sat_object_detection\\debug_images_2\\e7e24507a.jpg\"\n",
    "# images_path = r\"D:\\NLP 1\\Sat_object_detection\\Test_images\\debug_images_3\\2_2.jpg\"\n",
    "images_path = r\"D:\\NLP 1\\Sat_object_detection\\sentinel-concat\\2023-07-05_2023-09-25-[58.7, 23.6, 58.9, 23.8]-res5-(2500, 2500)-mostRecent-sentinel-2-l1c-maxcc0.8.jpg\"\n",
    "img = Image.open(images_path)\n",
    "print(type(img))\n",
    "coord = [58.4893887115,23.6396684794,58.4961460224,23.6487324542]\n",
    "bbox_coords = [58.7, 23.6, 58.9, 23.8]\n",
    "\n",
    "result = ship_detection(images=img, bbox_coord_wgs84=bbox_coords, annotations=[\"length\", \"coord\"], nms_iou_threshold=0.15,scale_down_factor= \"adaptive\",\n",
    "                        adaptive_scale_down_parameters = {'a': 0.3, 'b': 1, 'threshold': 1.5}, confidence_threshold=0.9, sahi_overlap_ratio=0.33,\n",
    "                        output_annotated_image=True, save_annotated_image=False, output_original_image=True)"
   ]
  },
  {
   "cell_type": "code",
   "execution_count": 7,
   "metadata": {},
   "outputs": [
    {
     "data": {
      "text/plain": [
       "{'n_obj': 12,\n",
       " 'bboxes': array([[ 870.2271 , 1200.6638 ,  907.55164, 1242.7515 ],\n",
       "        [ 307.841  ,  724.79175,  369.17755,  947.27185],\n",
       "        [ 571.80225, 1284.5826 ,  743.38477, 1463.3835 ],\n",
       "        [ 721.8714 ,  601.0584 ,  738.96906,  653.2425 ],\n",
       "        [ 728.7779 , 1022.656  ,  769.42334, 1071.8563 ],\n",
       "        [1462.383  ,  551.0234 , 1485.6593 ,  631.4449 ],\n",
       "        [ 732.8922 ,  537.0385 ,  784.9386 ,  556.9904 ],\n",
       "        [1414.4629 ,  558.73627, 1429.0151 ,  602.21216],\n",
       "        [1428.4951 ,  642.0514 , 1445.8538 ,  710.02576],\n",
       "        [1430.1279 ,  549.92633, 1443.0115 ,  605.79504],\n",
       "        [1371.1829 ,  543.43524, 1419.4663 ,  560.76465],\n",
       "        [1435.1926 ,  611.4829 , 1443.9192 ,  642.8814 ]], dtype=float32),\n",
       " 'scores': array([0.99852556, 0.99786985, 0.9977182 , 0.9966708 , 0.9935874 ,\n",
       "        0.99181503, 0.9881153 , 0.98557925, 0.983603  , 0.98101085,\n",
       "        0.9630907 , 0.9152051 ], dtype=float32),\n",
       " 'original_image': <PIL.Image.Image image mode=RGB size=1653x1653>,\n",
       " 'ships_long_lat': [(58.807548627259, 23.747817016528),\n",
       "  (58.740956960356, 23.701153272755),\n",
       "  (58.779563642572, 23.766241155995),\n",
       "  (58.788375103091, 23.675880272433),\n",
       "  (58.790635279605, 23.726709752391),\n",
       "  (58.878344977645, 23.67153468008),\n",
       "  (58.791822795556, 23.666184448316),\n",
       "  (58.872019239404, 23.67023281829),\n",
       "  (58.873886804413, 23.681795350783),\n",
       "  (58.873813636074, 23.669916602271),\n",
       "  (58.868823301266, 23.666799755062),\n",
       "  (58.874174943521, 23.675884105131)],\n",
       " 'ships_lengths': [729.6,\n",
       "  2993.2,\n",
       "  3203.3,\n",
       "  702.1,\n",
       "  830.2,\n",
       "  1082.0,\n",
       "  695.6,\n",
       "  584.9,\n",
       "  914.5,\n",
       "  751.6,\n",
       "  639.3,\n",
       "  422.4],\n",
       " 'ships_bbox_dimensions': [(566.2, 460.2),\n",
       "  (2993.2, 756.2),\n",
       "  (2405.5, 2115.4),\n",
       "  (702.1, 210.8),\n",
       "  (661.9, 501.1),\n",
       "  (1082.0, 287.0),\n",
       "  (641.7, 268.4),\n",
       "  (584.9, 179.4),\n",
       "  (914.5, 214.0),\n",
       "  (751.6, 158.8),\n",
       "  (595.3, 233.1),\n",
       "  (422.4, 107.6)],\n",
       " 'annotated_image': <PIL.Image.Image image mode=RGB size=1653x1653>}"
      ]
     },
     "execution_count": 7,
     "metadata": {},
     "output_type": "execute_result"
    }
   ],
   "source": [
    "result"
   ]
  },
  {
   "cell_type": "code",
   "execution_count": null,
   "metadata": {},
   "outputs": [],
   "source": [
    "result[\"annotated_image\"]\n",
    "# result[\"original_image\"]"
   ]
  },
  {
   "cell_type": "code",
   "execution_count": null,
   "metadata": {},
   "outputs": [],
   "source": [
    "from imageutils import draw_bbox_torchvision\n",
    "\n",
    "image = result\n",
    "annotated_image = draw_bbox_torchvision(image=image[\"original_image\"], bboxes=image[\"bboxes\"], scores=image[\"scores\"], lengths=image[\"ships_lengths\"], \n",
    "                        ships_coords=image[\"ships_long_lat\"], annotations=[\"score\", \"length\", \"coord\"], save=False, image_save_name=r\"C:\\Users\\user2\\Desktop\\b.jpg\",\n",
    "                        output_annotated_image=True, font_size=20, font=r\"calibri.ttf\", bbox_width=2)\n",
    "annotated_image"
   ]
  },
  {
   "cell_type": "markdown",
   "metadata": {},
   "source": [
    "Use draw_bbox_torchvision separately"
   ]
  },
  {
   "cell_type": "code",
   "execution_count": null,
   "metadata": {},
   "outputs": [],
   "source": [
    "from imageutils import draw_bbox_torchvision\n",
    "annotated_image = draw_bbox_torchvision(image=result[\"original_image\"], bboxes=result[\"bboxes\"], scores=result[\"scores\"], lengths=result[\"ships_length\"], \n",
    "                        ships_coords=result[\"ships_long_lat\"], annotations=[\"score\"], save=True, image_save_name=r\"C:\\Users\\user2\\Desktop\\b.jpg\", output_annotated_image=True)\n",
    "annotated_image"
   ]
  },
  {
   "cell_type": "markdown",
   "metadata": {},
   "source": [
    "Drafts"
   ]
  },
  {
   "cell_type": "code",
   "execution_count": null,
   "metadata": {},
   "outputs": [],
   "source": [
    "images_names = [\"Image{0:03}\".format(i) for i in range(100)]\n",
    "images = [i for i in range(100)]\n",
    "\n",
    "images_dict = {images_names[i]:{\"image\": images[i]} for i in range(len(images_names))}\n",
    "images_dict"
   ]
  },
  {
   "cell_type": "code",
   "execution_count": null,
   "metadata": {},
   "outputs": [],
   "source": [
    "from scipy.optimize import curve_fit\n",
    "def func(x, a, b, c):\n",
    "    return (a * x**2 + b*x + c) # a and d are redundant\n",
    "\n",
    "dim_c =  [2   , 3   ,  4   , 5   , 6  , 7   ,  8  ,  9  , 10 , ]\n",
    "dim_c2 = [1.2 , 1.4 , 1.6  , 1.8 , 2  , 2.2 , 2.4 , 2.6 ,  3 , ]\n",
    "p , _ = curve_fit(func, dim_c, dim_c2)"
   ]
  },
  {
   "cell_type": "code",
   "execution_count": null,
   "metadata": {},
   "outputs": [],
   "source": [
    "print(f\"y = {p[0]:.2f}x**2 + {p[1]:.2f}*x + {p[2]:.2f}\")"
   ]
  },
  {
   "cell_type": "code",
   "execution_count": null,
   "metadata": {},
   "outputs": [],
   "source": []
  }
 ],
 "metadata": {
  "kernelspec": {
   "display_name": "Python 3 (ipykernel)",
   "language": "python",
   "name": "python3"
  },
  "orig_nbformat": 4
 },
 "nbformat": 4,
 "nbformat_minor": 2
}
