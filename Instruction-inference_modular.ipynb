{
 "cells": [
  {
   "cell_type": "code",
   "execution_count": 12,
   "metadata": {},
   "outputs": [],
   "source": [
    "import os, math\n",
    "from slicing_inference import sahi_slicing_inference\n",
    "from inference_modular import ship_detection\n",
    "from PIL import Image \n",
    "import numpy as np\n",
    "from imageutils import resize_img\n",
    "import torch"
   ]
  },
  {
   "cell_type": "code",
   "execution_count": null,
   "metadata": {},
   "outputs": [],
   "source": [
    "image_path=r\"D:\\NLP 1\\Sat_object_detection\\debug_images\\2.jpg\"\n",
    "image_path=r\"D:\\NLP 1\\Sat_object_detection\\inference_images\\dd4ffcb5c.jpg\"\n",
    "images_path = r\"D:\\NLP 1\\Sat_object_detection\\inference_images\"\n",
    "images_path = r\"D:\\NLP 1\\Sat_object_detection\\debug_images_2\""
   ]
  },
  {
   "cell_type": "markdown",
   "metadata": {},
   "source": [
    "Directory mode"
   ]
  },
  {
   "cell_type": "code",
   "execution_count": null,
   "metadata": {},
   "outputs": [],
   "source": [
    "from inference_modular import ship_detection\n",
    "\n",
    "# images_dir = r\"D:\\NLP 1\\Sat_object_detection\\Test_images\\debug_images_2\"\n",
    "images_dir = r\"D:\\NLP 1\\Sat_object_detection\\Test_images\\debug_images_3\"\n",
    "# images_dir = r\"D:\\NLP 1\\Sat_object_detection\\Test_images\\inference_images\"\n",
    "# images_dir = r\"D:\\NLP 1\\Sat_object_detection\\Test_images\\ship\"\n",
    "\n",
    "coord = {\"0c0d90d8d.jpg\": [58.4893887115, 23.6396684794, 58.4961460224, 23.6487324542],\n",
    "         \"2d1b074cb.jpg\": [47.3562147890, 26.3220918742, 47.3646843251, 26.3311658917],}\n",
    "\n",
    "result = ship_detection(images=images_dir, bbox_coord_wgs84=coord, annotations=[\"length\", \"coord\"], nms_iou_threshold=0.15, scale_down_factor= \"adaptive\",\n",
    "                        adaptive_scale_down_parameters = {'a': 0.2, 'b': 0.5, 'threshold': 3}, model_input_dim=768, confidence_threshold=0.7, sahi_overlap_ratio=0.33,\n",
    "                        output_annotated_image=True, save_annotated_image=True, annotation_font_size=15, annotation_font=r\"calibri.ttf\", annotation_bbox_width=1, \n",
    "                        output_original_image=True, output_dir=None, output_name=\"prediction\",)"
   ]
  },
  {
   "cell_type": "code",
   "execution_count": null,
   "metadata": {},
   "outputs": [],
   "source": [
    "result[\"2d1b074cb.jpg\"]"
   ]
  },
  {
   "cell_type": "code",
   "execution_count": null,
   "metadata": {},
   "outputs": [],
   "source": [
    "# result[\"2d1b074cb.jpg\"][\"original_image\"]\n",
    "result[\"2d1b074cb.jpg\"][\"annotated_image\"]"
   ]
  },
  {
   "cell_type": "code",
   "execution_count": null,
   "metadata": {},
   "outputs": [],
   "source": [
    "from imageutils import draw_bbox_torchvision\n",
    "\n",
    "image = result[\"2d1b074cb.jpg\"]\n",
    "annotated_image = draw_bbox_torchvision(image=image[\"original_image\"], bboxes=image[\"bboxes\"], scores=image[\"scores\"], lengths=image[\"ships_lengths\"], \n",
    "                        ships_coords=image[\"ships_long_lat\"], annotations=[\"score\", \"length\", \"coord\"], save=False, image_save_name=r\"C:\\Users\\user2\\Desktop\\b.jpg\",\n",
    "                        output_annotated_image=True, font_size=20, font=r\"calibri.ttf\", bbox_width=1)\n",
    "annotated_image"
   ]
  },
  {
   "cell_type": "code",
   "execution_count": null,
   "metadata": {},
   "outputs": [],
   "source": [
    "result[\"2d1b074cb.jpg\"][\"ships_long_lat\"]"
   ]
  },
  {
   "cell_type": "code",
   "execution_count": null,
   "metadata": {},
   "outputs": [],
   "source": [
    "result[\"dad047800.jpg\"]"
   ]
  },
  {
   "cell_type": "markdown",
   "metadata": {},
   "source": [
    "Images dictionary mode"
   ]
  },
  {
   "cell_type": "code",
   "execution_count": null,
   "metadata": {},
   "outputs": [],
   "source": [
    "from PIL import Image\n",
    "images_paths = [r\"D:\\NLP 1\\Sat_object_detection\\inference_images\\dd4ffcb5c.jpg\",\n",
    "                r\"D:\\NLP 1\\Sat_object_detection\\debug_images_2\\2_2.jpg\",\n",
    "                r\"D:\\NLP 1\\Sat_object_detection\\debug_images_2\\e0b6f0185.jpg\"\n",
    "                ]\n",
    "coords = [[58.4893887115, 23.6396684794, 58.4961460224, 23.6487324542], \n",
    "          [47.3562147890, 26.3220918742, 47.3646843251, 26.3311658917],\n",
    "          [62.5293887115, 18.9696684794, 62.5361460224, 18.9787324542],]\n",
    "images_dict = {}\n",
    "coords_dict = {}\n",
    "for idx, img_path in enumerate(images_paths):\n",
    "    img_name = \"image{0:03}\".format(idx+1)\n",
    "    images_dict[img_name] = {}\n",
    "    images_dict[img_name]['image'] = Image.open(img_path)\n",
    "\n",
    "    coords_dict[img_name] = coords[idx]\n",
    "\n",
    "print(images_dict)\n",
    "print(coords_dict)\n"
   ]
  },
  {
   "cell_type": "code",
   "execution_count": null,
   "metadata": {},
   "outputs": [],
   "source": [
    "from inference_modular import ship_detection\n",
    "result = ship_detection(images=images_dict, bbox_coord_wgs84=coords_dict)"
   ]
  },
  {
   "cell_type": "code",
   "execution_count": null,
   "metadata": {},
   "outputs": [],
   "source": [
    "result['image001']"
   ]
  },
  {
   "cell_type": "code",
   "execution_count": null,
   "metadata": {},
   "outputs": [],
   "source": [
    "result['image001']['ships_bbox_dimensions']"
   ]
  },
  {
   "cell_type": "markdown",
   "metadata": {},
   "source": [
    "Single image mode"
   ]
  },
  {
   "cell_type": "code",
   "execution_count": 4,
   "metadata": {},
   "outputs": [
    {
     "name": "stdout",
     "output_type": "stream",
     "text": [
      "<class 'PIL.PngImagePlugin.PngImageFile'>\n",
      "\n",
      "The model takes a while to load for the first inference.\n",
      "Processing prediction\n",
      "Performing prediction on 63 number of slices.\n",
      "12 bboxes found in prediction\n"
     ]
    }
   ],
   "source": [
    "from inference_modular import ship_detection\n",
    "from PIL import Image\n",
    "# image_path = r\"D:\\NLP 1\\Sat_object_detection\\inference_images\"\n",
    "# image_path = r\"D:\\NLP 1\\Sat_object_detection\\debug_images_2\\e7e24507a.jpg\"\n",
    "# image_path = r\"D:\\NLP 1\\Sat_object_detection\\Test_images\\debug_images_3\\2_2.jpg\"\n",
    "# image_path = r\"C:\\Users\\user2\\Desktop\\concated_tests\\x(21370_21390)-y(14030_14050)-z(15)-2023-10-24_2023-11-07.png\"\n",
    "image_path = r\"D:\\SatteliteImages_db_concat\\x(10156_10178)-y(7600_7618)-z(14)-2023-11-15_2023-11-25.png\"\n",
    "img = Image.open(image_path)\n",
    "print(type(img))\n",
    "coords = [43.15, 12.5, 43.65, 12.9]\n",
    "# bbox_coords = [58.7, 23.6, 58.9, 23.8]\n",
    "\n",
    "result = ship_detection(images=img, bbox_coord_wgs84=coords, annotations=[\"length\", \"coord\"], nms_iou_threshold=0.15,scale_down_factor= 1,\n",
    "                        # adaptive_scale_down_parameters = {'a': 0.3, 'b': 1, 'threshold': 1.5}, \n",
    "                        confidence_threshold=0.9, sahi_overlap_ratio=0.1,\n",
    "                        output_annotated_image=True, save_annotated_image=False, output_original_image=True)"
   ]
  },
  {
   "cell_type": "code",
   "execution_count": 11,
   "metadata": {},
   "outputs": [
    {
     "data": {
      "text/plain": [
       "array([4003.1875, 4006.658 , 4032.0159, 4019.739 ], dtype=float32)"
      ]
     },
     "execution_count": 11,
     "metadata": {},
     "output_type": "execute_result"
    }
   ],
   "source": [
    "result[\"bboxes\"][0]"
   ]
  },
  {
   "cell_type": "code",
   "execution_count": 7,
   "metadata": {},
   "outputs": [
    {
     "data": {
      "text/plain": [
       "{1: {'long_lat': (43.491168610946, 12.830032770257),\n",
       "  'length': 291.5,\n",
       "  'confidence': 0.99080807},\n",
       " 2: {'long_lat': (43.63115299059, 12.887141900314),\n",
       "  'length': 213.1,\n",
       "  'confidence': 0.990724},\n",
       " 3: {'long_lat': (43.227490314193, 12.590032135813),\n",
       "  'length': 212.0,\n",
       "  'confidence': 0.99054366},\n",
       " 4: {'long_lat': (43.52292928281, 12.893151132684),\n",
       "  'length': 244.7,\n",
       "  'confidence': 0.98785305},\n",
       " 5: {'long_lat': (43.18310972193, 12.501099916508),\n",
       "  'length': 238.3,\n",
       "  'confidence': 0.97492325},\n",
       " 6: {'long_lat': (43.45074909459, 12.812011517976),\n",
       "  'length': 271.5,\n",
       "  'confidence': 0.9688271},\n",
       " 7: {'long_lat': (43.270551938596, 12.680808940687),\n",
       "  'length': 229.1,\n",
       "  'confidence': 0.9577218},\n",
       " 8: {'long_lat': (43.295615183789, 12.77441125167),\n",
       "  'length': 771.0,\n",
       "  'confidence': 0.94356436},\n",
       " 9: {'long_lat': (43.228563617623, 12.504695406086),\n",
       "  'length': 220.8,\n",
       "  'confidence': 0.93966633},\n",
       " 10: {'long_lat': (43.337263861946, 12.799675630268),\n",
       "  'length': 158.0,\n",
       "  'confidence': 0.9236591},\n",
       " 11: {'long_lat': (43.203829659586, 12.770107289364),\n",
       "  'length': 708.6,\n",
       "  'confidence': 0.91062754},\n",
       " 12: {'long_lat': (43.413655538144, 12.710792581659),\n",
       "  'length': 76.0,\n",
       "  'confidence': 0.91030157}}"
      ]
     },
     "execution_count": 7,
     "metadata": {},
     "output_type": "execute_result"
    }
   ],
   "source": [
    "result[\"ships_data\"]"
   ]
  },
  {
   "cell_type": "code",
   "execution_count": null,
   "metadata": {},
   "outputs": [],
   "source": [
    "result[\"annotated_image\"]\n",
    "# result[\"original_image\"]"
   ]
  },
  {
   "cell_type": "code",
   "execution_count": null,
   "metadata": {},
   "outputs": [],
   "source": [
    "from imageutils import draw_bbox_torchvision\n",
    "\n",
    "image = result\n",
    "annotated_image = draw_bbox_torchvision(image=image[\"original_image\"], bboxes=image[\"bboxes\"], scores=image[\"scores\"], lengths=image[\"ships_lengths\"], \n",
    "                        ships_coords=image[\"ships_long_lat\"], annotations=[\"score\", \"length\", \"coord\"], save=False, image_save_name=r\"C:\\Users\\user2\\Desktop\\b.jpg\",\n",
    "                        output_annotated_image=True, font_size=20, font=r\"calibri.ttf\", bbox_width=2)\n",
    "annotated_image"
   ]
  },
  {
   "cell_type": "markdown",
   "metadata": {},
   "source": [
    "Use draw_bbox_torchvision separately"
   ]
  },
  {
   "cell_type": "code",
   "execution_count": null,
   "metadata": {},
   "outputs": [],
   "source": [
    "from imageutils import draw_bbox_torchvision\n",
    "annotated_image = draw_bbox_torchvision(image=result[\"original_image\"], bboxes=result[\"bboxes\"], scores=result[\"scores\"], lengths=result[\"ships_length\"], \n",
    "                        ships_coords=result[\"ships_long_lat\"], annotations=[\"score\"], save=True, image_save_name=r\"C:\\Users\\user2\\Desktop\\b.jpg\", output_annotated_image=True)\n",
    "annotated_image"
   ]
  },
  {
   "cell_type": "markdown",
   "metadata": {},
   "source": [
    "Drafts"
   ]
  },
  {
   "cell_type": "code",
   "execution_count": null,
   "metadata": {},
   "outputs": [],
   "source": [
    "images_names = [\"Image{0:03}\".format(i) for i in range(100)]\n",
    "images = [i for i in range(100)]\n",
    "\n",
    "images_dict = {images_names[i]:{\"image\": images[i]} for i in range(len(images_names))}\n",
    "images_dict"
   ]
  },
  {
   "cell_type": "code",
   "execution_count": null,
   "metadata": {},
   "outputs": [],
   "source": [
    "from scipy.optimize import curve_fit\n",
    "def func(x, a, b, c):\n",
    "    return (a * x**2 + b*x + c) # a and d are redundant\n",
    "\n",
    "dim_c =  [2   , 3   ,  4   , 5   , 6  , 7   ,  8  ,  9  , 10 , ]\n",
    "dim_c2 = [1.2 , 1.4 , 1.6  , 1.8 , 2  , 2.2 , 2.4 , 2.6 ,  3 , ]\n",
    "p , _ = curve_fit(func, dim_c, dim_c2)"
   ]
  },
  {
   "cell_type": "code",
   "execution_count": null,
   "metadata": {},
   "outputs": [],
   "source": [
    "print(f\"y = {p[0]:.2f}x**2 + {p[1]:.2f}*x + {p[2]:.2f}\")"
   ]
  },
  {
   "cell_type": "code",
   "execution_count": null,
   "metadata": {},
   "outputs": [],
   "source": []
  }
 ],
 "metadata": {
  "kernelspec": {
   "display_name": "Python 3 (ipykernel)",
   "language": "python",
   "name": "python3"
  },
  "language_info": {
   "codemirror_mode": {
    "name": "ipython",
    "version": 3
   },
   "file_extension": ".py",
   "mimetype": "text/x-python",
   "name": "python",
   "nbconvert_exporter": "python",
   "pygments_lexer": "ipython3",
   "version": "3.11.4"
  },
  "orig_nbformat": 4
 },
 "nbformat": 4,
 "nbformat_minor": 2
}
