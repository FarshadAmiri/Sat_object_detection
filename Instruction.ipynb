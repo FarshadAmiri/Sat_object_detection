{
 "cells": [
  {
   "cell_type": "code",
   "execution_count": null,
   "metadata": {},
   "outputs": [],
   "source": [
    "import os, math\n",
    "from slicing_inference import sahi_slicing_inference\n",
    "from inference_modular import ship_detection\n",
    "from PIL import Image \n",
    "import numpy as np\n",
    "from imageutils import resize_img\n",
    "import torch"
   ]
  },
  {
   "cell_type": "code",
   "execution_count": null,
   "metadata": {},
   "outputs": [],
   "source": [
    "image_path=r\"D:\\NLP 1\\Sat_object_detection\\debug_images\\2.jpg\"\n",
    "image_path=r\"D:\\NLP 1\\Sat_object_detection\\inference_images\\dd4ffcb5c.jpg\"\n",
    "images_path = r\"D:\\NLP 1\\Sat_object_detection\\inference_images\"\n",
    "images_path = r\"D:\\NLP 1\\Sat_object_detection\\debug_images_2\""
   ]
  },
  {
   "cell_type": "markdown",
   "metadata": {},
   "source": [
    "Directory mode"
   ]
  },
  {
   "cell_type": "code",
   "execution_count": null,
   "metadata": {},
   "outputs": [],
   "source": [
    "from inference_modular import ship_detection\n",
    "\n",
    "# images_dir = r\"D:\\NLP 1\\Sat_object_detection\\debug_images_2\"\n",
    "images_dir = r\"D:\\NLP 1\\Sat_object_detection\\debug_images_3\"\n",
    "# images_dir = r\"D:\\NLP 1\\Sat_object_detection\\inference_images\"\n",
    "\n",
    "coord = {\"0c0d90d8d.jpg\": [58.4893887115, 23.6396684794, 58.4961460224, 23.6487324542],\n",
    "         \"2d1b074cb.jpg\": [47.3562147890, 26.3220918742, 47.3646843251, 26.3311658917],}\n",
    "\n",
    "result = ship_detection(images=images_dir, bbox_coord_wgs84=coord, annotations=[\"score\", \"length\", \"coord\"], nms_iou_threshold=0.15, scale_down_factor= \"adaptive\",\n",
    "                        adaptive_scale_down_parameters = {'a': 0.3, 'b': 1, 'threshold': 1.5}, model_input_dim=768, confidence_threshold=0.95, sahi_overlap_ratio=0.33,\n",
    "                        output_annotated_image=True, save_annotated_image=True, annotation_font_size=17, annotation_bbox_width=3, output_original_image=True)"
   ]
  },
  {
   "cell_type": "code",
   "execution_count": null,
   "metadata": {},
   "outputs": [],
   "source": [
    "result[\"2d1b074cb.jpg\"]"
   ]
  },
  {
   "cell_type": "code",
   "execution_count": null,
   "metadata": {},
   "outputs": [],
   "source": [
    "# result[\"2d1b074cb.jpg\"][\"original_image\"]\n",
    "result[\"2d1b074cb.jpg\"][\"annotated_image\"]"
   ]
  },
  {
   "cell_type": "code",
   "execution_count": null,
   "metadata": {},
   "outputs": [],
   "source": [
    "from imageutils import draw_bbox_torchvision\n",
    "\n",
    "image = result[\"2d1b074cb.jpg\"]\n",
    "annotated_image = draw_bbox_torchvision(image=image[\"original_image\"], bboxes=image[\"bboxes\"], scores=image[\"scores\"], lengths=image[\"ships_lengths\"], \n",
    "                        ships_coords=image[\"ships_long_lat\"], annotations=[\"score\", \"length\", \"coord\"], save=False, image_save_name=r\"C:\\Users\\user2\\Desktop\\b.jpg\",\n",
    "                        output_annotated_image=True, font_size=15, font=r\"calibri.ttf\", bbox_width=1)\n",
    "annotated_image"
   ]
  },
  {
   "cell_type": "code",
   "execution_count": null,
   "metadata": {},
   "outputs": [],
   "source": [
    "result[\"2d1b074cb.jpg\"][\"ships_long_lat\"]"
   ]
  },
  {
   "cell_type": "code",
   "execution_count": null,
   "metadata": {},
   "outputs": [],
   "source": [
    "result[\"dad047800.jpg\"]"
   ]
  },
  {
   "cell_type": "markdown",
   "metadata": {},
   "source": [
    "Images dictionary mode"
   ]
  },
  {
   "cell_type": "code",
   "execution_count": null,
   "metadata": {},
   "outputs": [],
   "source": [
    "from PIL import Image\n",
    "images_paths = [r\"D:\\NLP 1\\Sat_object_detection\\inference_images\\dd4ffcb5c.jpg\",\n",
    "                r\"D:\\NLP 1\\Sat_object_detection\\debug_images_2\\2_2.jpg\",\n",
    "                r\"D:\\NLP 1\\Sat_object_detection\\debug_images_2\\e0b6f0185.jpg\"\n",
    "                ]\n",
    "coords = [[58.4893887115, 23.6396684794, 58.4961460224, 23.6487324542], \n",
    "          [47.3562147890, 26.3220918742, 47.3646843251, 26.3311658917],\n",
    "          [62.5293887115, 18.9696684794, 62.5361460224, 18.9787324542],]\n",
    "images_dict = {}\n",
    "coords_dict = {}\n",
    "for idx, img_path in enumerate(images_paths):\n",
    "    img_name = \"image{0:03}\".format(idx+1)\n",
    "    images_dict[img_name] = {}\n",
    "    images_dict[img_name]['image'] = Image.open(img_path)\n",
    "\n",
    "    coords_dict[img_name] = coords[idx]\n",
    "\n",
    "print(images_dict)\n",
    "print(coords_dict)\n"
   ]
  },
  {
   "cell_type": "code",
   "execution_count": null,
   "metadata": {},
   "outputs": [],
   "source": [
    "from inference_modular import ship_detection\n",
    "result = ship_detection(images=images_dict, bbox_coord_wgs84=coords_dict)"
   ]
  },
  {
   "cell_type": "code",
   "execution_count": null,
   "metadata": {},
   "outputs": [],
   "source": [
    "result['image001']"
   ]
  },
  {
   "cell_type": "code",
   "execution_count": null,
   "metadata": {},
   "outputs": [],
   "source": [
    "result['image001']['annotated_image']"
   ]
  },
  {
   "cell_type": "markdown",
   "metadata": {},
   "source": [
    "Single image mode"
   ]
  },
  {
   "cell_type": "code",
   "execution_count": null,
   "metadata": {},
   "outputs": [],
   "source": [
    "from inference_modular import ship_detection\n",
    "from PIL import Image\n",
    "# images_path = r\"D:\\NLP 1\\Sat_object_detection\\inference_images\"\n",
    "# images_path = r\"D:\\NLP 1\\Sat_object_detection\\debug_images_2\\e7e24507a.jpg\"\n",
    "images_path = r\"D:\\NLP 1\\Sat_object_detection\\debug_images_3\\2_2.jpg\"\n",
    "img = Image.open(images_path)\n",
    "print(type(img))\n",
    "coord = [58.4893887115,23.6396684794,58.4961460224,23.6487324542]\n",
    "\n",
    "result = ship_detection(images=img, bbox_coord_wgs84=coord, annotations=[\"length\", \"coord\"], nms_iou_threshold=0.15,scale_down_factor= \"adaptive\",\n",
    "                        adaptive_scale_down_parameters = {'a': 0.3, 'b': 1, 'threshold': 1.5}, confidence_threshold=0.9, sahi_overlap_ratio=0.33,\n",
    "                        output_annotated_image=True, save_annotated_image=False, output_original_image=True)"
   ]
  },
  {
   "cell_type": "code",
   "execution_count": null,
   "metadata": {},
   "outputs": [],
   "source": [
    "result.keys()"
   ]
  },
  {
   "cell_type": "code",
   "execution_count": null,
   "metadata": {},
   "outputs": [],
   "source": [
    "result[\"annotated_image\"]\n",
    "# result[\"original_image\"]"
   ]
  },
  {
   "cell_type": "code",
   "execution_count": null,
   "metadata": {},
   "outputs": [],
   "source": [
    "from imageutils import draw_bbox_torchvision\n",
    "\n",
    "image = result\n",
    "annotated_image = draw_bbox_torchvision(image=image[\"original_image\"], bboxes=image[\"bboxes\"], scores=image[\"scores\"], lengths=image[\"ships_lengths\"], \n",
    "                        ships_coords=image[\"ships_long_lat\"], annotations=[\"score\", \"length\", \"coord\"], save=False, image_save_name=r\"C:\\Users\\user2\\Desktop\\b.jpg\",\n",
    "                        output_annotated_image=True, font_size=20, font=r\"calibri.ttf\", bbox_width=2)\n",
    "annotated_image"
   ]
  },
  {
   "cell_type": "markdown",
   "metadata": {},
   "source": [
    "Use draw_bbox_torchvision separately"
   ]
  },
  {
   "cell_type": "code",
   "execution_count": null,
   "metadata": {},
   "outputs": [],
   "source": [
    "from imageutils import draw_bbox_torchvision\n",
    "annotated_image = draw_bbox_torchvision(image=result[\"original_image\"], bboxes=result[\"bboxes\"], scores=result[\"scores\"], lengths=result[\"ships_length\"], \n",
    "                        ships_coords=result[\"ships_long_lat\"], annotations=[\"score\"], save=True, image_save_name=r\"C:\\Users\\user2\\Desktop\\b.jpg\", output_annotated_image=True)\n",
    "annotated_image"
   ]
  },
  {
   "cell_type": "markdown",
   "metadata": {},
   "source": [
    "Drafts"
   ]
  },
  {
   "cell_type": "code",
   "execution_count": null,
   "metadata": {},
   "outputs": [],
   "source": [
    "images_names = [\"Image{0:03}\".format(i) for i in range(100)]\n",
    "images = [i for i in range(100)]\n",
    "\n",
    "images_dict = {images_names[i]:{\"image\": images[i]} for i in range(len(images_names))}\n",
    "images_dict"
   ]
  },
  {
   "cell_type": "code",
   "execution_count": null,
   "metadata": {},
   "outputs": [],
   "source": [
    "from scipy.optimize import curve_fit\n",
    "def func(x, a, b, c):\n",
    "    return (a * x**2 + b*x + c) # a and d are redundant\n",
    "\n",
    "dim_c =  [2   , 3   ,  4   , 5   , 6  , 7   ,  8  ,  9  , 10 , ]\n",
    "dim_c2 = [1.2 , 1.4 , 1.6  , 1.8 , 2  , 2.2 , 2.4 , 2.6 ,  3 , ]\n",
    "p , _ = curve_fit(func, dim_c, dim_c2)"
   ]
  },
  {
   "cell_type": "code",
   "execution_count": null,
   "metadata": {},
   "outputs": [],
   "source": [
    "print(f\"y = {p[0]:.2f}x**2 + {p[1]:.2f}*x + {p[2]:.2f}\")"
   ]
  },
  {
   "cell_type": "code",
   "execution_count": null,
   "metadata": {},
   "outputs": [],
   "source": []
  }
 ],
 "metadata": {
  "kernelspec": {
   "display_name": "Python 3 (ipykernel)",
   "language": "python",
   "name": "python3"
  },
  "language_info": {
   "codemirror_mode": {
    "name": "ipython",
    "version": 3
   },
   "file_extension": ".py",
   "mimetype": "text/x-python",
   "name": "python",
   "nbconvert_exporter": "python",
   "pygments_lexer": "ipython3",
   "version": "3.11.4"
  },
  "orig_nbformat": 4
 },
 "nbformat": 4,
 "nbformat_minor": 2
}
