{
 "cells": [
  {
   "cell_type": "code",
   "execution_count": 1,
   "id": "54a825ad-1ed1-4079-9162-90a9c4cf4eb8",
   "metadata": {},
   "outputs": [],
   "source": [
    "import logging\n",
    "from sentinelhub import DataCollection\n",
    "from sentinelhub import SHConfig\n",
    "from sentinel_api import sentinel_single_image, sentinel_territory\n",
    "import numpy as np\n",
    "from PIL import Image\n",
    "import os"
   ]
  },
  {
   "cell_type": "markdown",
   "id": "fe17b938",
   "metadata": {},
   "source": [
    "### Logging in sentinel account"
   ]
  },
  {
   "cell_type": "code",
   "execution_count": 2,
   "id": "99e6d1e1",
   "metadata": {},
   "outputs": [],
   "source": [
    "logging.basicConfig(level=logging.INFO)\n",
    "\n",
    "# Your client credentials\n",
    "client_id = 'e0b127dc-fbb5-4151-8946-96d8728003c7'\n",
    "client_secret = '4Xy2[Bc#?&L!xbha(XB6*%Xbry,BU-cZA0Dd9n,W'\n",
    "\n",
    "config = SHConfig(instance_id='',\n",
    "         sh_client_id = client_id,\n",
    "         sh_client_secret = client_secret,\n",
    "         sh_base_url='https://services.sentinel-hub.com',\n",
    "         sh_token_url='https://services.sentinel-hub.com/oauth/token',)"
   ]
  },
  {
   "cell_type": "markdown",
   "id": "f718f6c9",
   "metadata": {},
   "source": [
    "### Download an image from Sentinel-hub API (fn: sentinel_single_image)"
   ]
  },
  {
   "cell_type": "code",
   "execution_count": null,
   "id": "7c5b36d2",
   "metadata": {},
   "outputs": [],
   "source": [
    "# fn input\n",
    "bbox = [58.50, 23.65, 58.60, 23.75]\n",
    "timeline = ('2023-07-05', '2023-09-25')\n",
    "\n",
    "# Parameters\n",
    "mosaicking_order_modes = ['mostRecent', 'leastCC', 'leastRecent']\n",
    "data_collection_modes = [DataCollection.SENTINEL2_L2A, DataCollection.SENTINEL2_L1C]\n",
    "\n",
    "img = sentinel_single_image(bbox, timeline, config=config, data_collection=data_collection_modes[1], mosaicking_order = mosaicking_order_modes[0],\n",
    "                            resolution=10, maxcc=0.8, img_size=(2500,2500), return_numpy=False, verbose=True, save_image=False, save_dir=\"sentinel-hub\")\n",
    "img.save(r\"C:\\Users\\user2\\Desktop\\sentinel-3.png\")\n",
    "img"
   ]
  },
  {
   "cell_type": "markdown",
   "id": "14ec6a44",
   "metadata": {},
   "source": [
    "### Download images of a vast area from Sentinel-hub API (fn: sentinel_territory)"
   ]
  },
  {
   "cell_type": "markdown",
   "id": "190988c8",
   "metadata": {},
   "source": [
    "#### In disk"
   ]
  },
  {
   "cell_type": "code",
   "execution_count": 3,
   "id": "e1ac7e34",
   "metadata": {},
   "outputs": [
    {
     "name": "stdout",
     "output_type": "stream",
     "text": [
      "Territory dimensions: 30,568m x 33,358m | Area: 1,020 km^2\n",
      "Concatenated image will be in size of 14999 x 14999 p\n",
      "There are 36 bboxes to download\n",
      "\n"
     ]
    },
    {
     "name": "stderr",
     "output_type": "stream",
     "text": [
      "dl from sentinel-hub | bbox: [58.75, 23.85, 58.8, 23.9]: 100%|█████████████████████████| 36/36 [00:41<00:00,  1.15s/it]"
     ]
    },
    {
     "name": "stdout",
     "output_type": "stream",
     "text": [
      "All images are downloaded into disk - concatenating images is in progress...\n",
      "Done!\n",
      "concatenated image saved in sentinel-concat\n"
     ]
    },
    {
     "name": "stderr",
     "output_type": "stream",
     "text": [
      "\n"
     ]
    }
   ],
   "source": [
    "# fn inputs:\n",
    "bbox_coords = [58.5, 23.6, 59, 24.1]\n",
    "bbox_coords = [58.5, 23.6, 58.8, 23.9]\n",
    "timeline = ('2023-07-05', '2023-09-25')\n",
    "\n",
    "# Parameters\n",
    "mosaicking_order_modes = ['mostRecent', 'leastCC', 'leastRecent']\n",
    "data_collection_modes = [DataCollection.SENTINEL2_L2A, DataCollection.SENTINEL2_L1C]\n",
    "\n",
    "final_image = sentinel_territory(bbox_coords, timeline, config, data_collection=data_collection_modes[1], mosaicking_order = 'mostRecent', maxcc=0.8,\n",
    "                                resolution=5, img_size=(128, 128), save_concat_image=True, in_memory=False, temp_dir=r\"sentinel-tmp\",\n",
    "                                concat_image_dir=r\"sentinel-concat\", concat_image_name=\"default\", delete_temp=True)"
   ]
  },
  {
   "cell_type": "markdown",
   "id": "df25fb06",
   "metadata": {},
   "source": [
    "#### In memory"
   ]
  },
  {
   "cell_type": "code",
   "execution_count": null,
   "id": "e6c8b002",
   "metadata": {},
   "outputs": [],
   "source": [
    "# fn inputs\n",
    "bbox_coords = [58.5, 23.6, 59, 24.1]\n",
    "timeline = ('2023-07-05', '2023-09-25')\n",
    "\n",
    "# Parameters\n",
    "mosaicking_order_modes = ['mostRecent', 'leastCC', 'leastRecent']\n",
    "data_collection_modes = [DataCollection.SENTINEL2_L2A, DataCollection.SENTINEL2_L1C]\n",
    "\n",
    "img_array, final_image = sentinel_territory(bbox_coords, timeline, config, data_collection=data_collection_modes[1], mosaicking_order = 'mostRecent', maxcc=0.8,\n",
    "                        resolution=10, save_images=False, data_folder=\"sentinel-hub\", subfolder_name=\"default\", img_size=(64, 64))"
   ]
  },
  {
   "cell_type": "markdown",
   "id": "df6ee9f4",
   "metadata": {},
   "source": [
    "### Integrated Inference (sentinel and inference modules integration)"
   ]
  },
  {
   "cell_type": "markdown",
   "id": "7de23f54",
   "metadata": {},
   "source": []
  },
  {
   "cell_type": "code",
   "execution_count": null,
   "id": "715da3f5",
   "metadata": {},
   "outputs": [],
   "source": []
  },
  {
   "cell_type": "code",
   "execution_count": null,
   "id": "27bd8d55",
   "metadata": {},
   "outputs": [],
   "source": []
  },
  {
   "cell_type": "markdown",
   "id": "52a30bf4",
   "metadata": {},
   "source": [
    "### Drafts"
   ]
  },
  {
   "cell_type": "code",
   "execution_count": null,
   "id": "8809dd3c",
   "metadata": {},
   "outputs": [],
   "source": []
  },
  {
   "cell_type": "code",
   "execution_count": null,
   "id": "a4c4e5e2",
   "metadata": {},
   "outputs": [],
   "source": []
  },
  {
   "cell_type": "code",
   "execution_count": null,
   "id": "ee30fb36",
   "metadata": {},
   "outputs": [],
   "source": []
  },
  {
   "cell_type": "code",
   "execution_count": null,
   "id": "3cdd5212",
   "metadata": {},
   "outputs": [],
   "source": []
  },
  {
   "cell_type": "code",
   "execution_count": null,
   "id": "884ef33d",
   "metadata": {},
   "outputs": [],
   "source": []
  }
 ],
 "metadata": {
  "kernelspec": {
   "display_name": "Python 3 (ipykernel)",
   "language": "python",
   "name": "python3"
  },
  "language_info": {
   "codemirror_mode": {
    "name": "ipython",
    "version": 3
   },
   "file_extension": ".py",
   "mimetype": "text/x-python",
   "name": "python",
   "nbconvert_exporter": "python",
   "pygments_lexer": "ipython3",
   "version": "3.11.4"
  }
 },
 "nbformat": 4,
 "nbformat_minor": 5
}
