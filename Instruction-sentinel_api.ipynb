{
 "cells": [
  {
   "cell_type": "code",
   "execution_count": null,
   "id": "54a825ad-1ed1-4079-9162-90a9c4cf4eb8",
   "metadata": {},
   "outputs": [],
   "source": [
    "import logging\n",
    "from sentinelhub import DataCollection\n",
    "from sentinelhub import SHConfig\n",
    "from sentinel_api import sentinel_single_image, sentinel_territory\n",
    "import numpy as np\n",
    "from PIL import Image\n",
    "import os"
   ]
  },
  {
   "cell_type": "markdown",
   "id": "fe17b938",
   "metadata": {},
   "source": [
    "### Logging in sentinel account"
   ]
  },
  {
   "cell_type": "code",
   "execution_count": null,
   "id": "99e6d1e1",
   "metadata": {},
   "outputs": [],
   "source": [
    "logging.basicConfig(level=logging.INFO)\n",
    "\n",
    "# Your client credentials\n",
    "client_id = 'e0b127dc-fbb5-4151-8946-96d8728003c7'\n",
    "client_secret = '4Xy2[Bc#?&L!xbha(XB6*%Xbry,BU-cZA0Dd9n,W'\n",
    "\n",
    "config = SHConfig(instance_id='',\n",
    "         sh_client_id = client_id,\n",
    "         sh_client_secret = client_secret,\n",
    "         sh_base_url='https://services.sentinel-hub.com',\n",
    "         sh_token_url='https://services.sentinel-hub.com/oauth/token',)"
   ]
  },
  {
   "cell_type": "markdown",
   "id": "f718f6c9",
   "metadata": {},
   "source": [
    "### Download an image from Sentinel-hub API (fn: sentinel_single_image)"
   ]
  },
  {
   "cell_type": "code",
   "execution_count": null,
   "id": "7c5b36d2",
   "metadata": {},
   "outputs": [],
   "source": [
    "# fn input\n",
    "bbox = [58.50, 23.65, 58.60, 23.75]\n",
    "timeline = ('2023-07-05', '2023-09-25')\n",
    "\n",
    "# Parameters\n",
    "mosaicking_order_modes = ['mostRecent', 'leastCC', 'leastRecent']\n",
    "data_collection_modes = [DataCollection.SENTINEL2_L2A, DataCollection.SENTINEL2_L1C]\n",
    "\n",
    "img = sentinel_single_image(bbox, timeline, config=config, data_collection=data_collection_modes[1], mosaicking_order = mosaicking_order_modes[0],\n",
    "                            resolution=10, maxcc=0.8, img_size=(2500,2500), return_numpy=False, verbose=True, save_image=False, save_dir=\"sentinel-hub\")\n",
    "img.save(r\"C:\\Users\\user2\\Desktop\\sentinel-3.png\")\n",
    "img"
   ]
  },
  {
   "cell_type": "markdown",
   "id": "14ec6a44",
   "metadata": {},
   "source": [
    "### Download images of a vast area from Sentinel-hub API (fn: sentinel_territory)"
   ]
  },
  {
   "cell_type": "markdown",
   "id": "190988c8",
   "metadata": {},
   "source": [
    "#### In disk"
   ]
  },
  {
   "cell_type": "code",
   "execution_count": null,
   "id": "e1ac7e34",
   "metadata": {},
   "outputs": [],
   "source": [
    "# fn inputs:\n",
    "bbox_coords = [58.5, 23.6, 59, 24.1]\n",
    "bbox_coords = [58.5, 23.6, 58.8, 23.9]\n",
    "timeline = ('2023-07-05', '2023-09-25')\n",
    "\n",
    "# Parameters\n",
    "mosaicking_order_modes = ['mostRecent', 'leastCC', 'leastRecent']\n",
    "data_collection_modes = [DataCollection.SENTINEL2_L2A, DataCollection.SENTINEL2_L1C]\n",
    "\n",
    "final_image = sentinel_territory(bbox_coords, timeline, config, data_collection=data_collection_modes[1], mosaicking_order = 'mostRecent', maxcc=0.8,\n",
    "                                resolution=5, img_size=(2500, 2500), save_concat_image=True, in_memory=False, temp_dir=r\"sentinel-tmp\",\n",
    "                                concat_image_dir=r\"sentinel-concat\", concat_image_name=\"default\", delete_temp=True)"
   ]
  },
  {
   "cell_type": "markdown",
   "id": "df25fb06",
   "metadata": {},
   "source": [
    "#### In memory"
   ]
  },
  {
   "cell_type": "code",
   "execution_count": null,
   "id": "e6c8b002",
   "metadata": {},
   "outputs": [],
   "source": [
    "# fn inputs\n",
    "bbox_coords = [58.7, 23.6, 58.9, 23.8]\n",
    "timeline = ('2023-07-05', '2023-09-25')\n",
    "\n",
    "# Parameters\n",
    "mosaicking_order_modes = ['mostRecent', 'leastCC', 'leastRecent']\n",
    "data_collection_modes = [DataCollection.SENTINEL2_L2A, DataCollection.SENTINEL2_L1C]\n",
    "\n",
    "concat_image = sentinel_territory(bbox_coords, timeline, config, data_collection=data_collection_modes[1], mosaicking_order = 'mostRecent', maxcc=0.8,\n",
    "                      resolution=5, img_size=(2500,2500), lon_lat_step=(0.05, 0.05), in_memory=True, save_concat_image=True,\n",
    "                      concat_image_dir=r\"sentinel-concat\", concat_image_name=\"default\", delete_temp=False)"
   ]
  },
  {
   "cell_type": "markdown",
   "id": "df6ee9f4",
   "metadata": {},
   "source": [
    "### Integrated Inference (sentinel and inference modules integration)"
   ]
  },
  {
   "cell_type": "code",
   "execution_count": null,
   "id": "e8cf2ff5",
   "metadata": {},
   "outputs": [],
   "source": [
    "print(type(concat_image))\n",
    "print(concat_image.size)"
   ]
  },
  {
   "cell_type": "code",
   "execution_count": null,
   "id": "715da3f5",
   "metadata": {},
   "outputs": [],
   "source": [
    "from inference_modular import ship_detection\n",
    "from PIL import Image\n",
    "# images_path = r\"D:\\NLP 1\\Sat_object_detection\\inference_images\"\n",
    "# images_path = r\"D:\\NLP 1\\Sat_object_detection\\debug_images_2\\e7e24507a.jpg\"\n",
    "# images_path = r\"D:\\NLP 1\\Sat_object_detection\\sentinel-concat\\2023-07-05_2023-09-25-[58.5, 23.6, 58.7, 23.8]-res5-(2500, 2500)-mostRecent-sentinel-2-l1c-maxcc0.8.jpg\"\n",
    "# images_path = r\"D:\\NLP 1\\Sat_object_detection\\sentinel-concat\\2023-07-05_2023-09-25-[58.7, 23.6, 58.9, 23.8]-res5-(2500, 2500)-mostRecent-sentinel-2-l1c-maxcc0.8.jpg\"\n",
    "images_path = r\"D:\\NLP 1\\Sat_object_detection\\sentinel-concat\\2023-07-05_2023-09-25-[58.5, 23.6, 58.7, 23.8]-res5-(2500, 2500)-mostRecent-sentinel-2-l1c-maxcc0.8.jpg\"\n",
    "img = Image.open(images_path)\n",
    "bbox_coords = [58.7, 23.6, 58.9, 23.8]\n",
    "\n",
    "result_pred = ship_detection(images=img, bbox_coord_wgs84=bbox_coords, annotations=[\"score\", \"length\", \"coord\"], nms_iou_threshold=0.15, scale_down_factor= 7,\n",
    "                        adaptive_scale_down_parameters = {'a': 0.3, 'b': 1, 'threshold': 1.5}, confidence_threshold=0.85, sahi_overlap_ratio=0.05,\n",
    "                        output_annotated_image=True, save_annotated_image=False, output_original_image=True\n",
    "                        # , output_dir=r\"D:\\NLP 1\\Sat_object_detection\\sentinel-concat\",\n",
    "                        # output_name=\"prediction\", annotation_font_size=12, annotation_font=r\"calibri.ttf\", annotation_bbox_width=1,\n",
    "                        )\n"
   ]
  },
  {
   "cell_type": "code",
   "execution_count": null,
   "id": "7ca7d872",
   "metadata": {},
   "outputs": [],
   "source": [
    "result_pred"
   ]
  },
  {
   "cell_type": "code",
   "execution_count": null,
   "id": "e71b7cbb",
   "metadata": {},
   "outputs": [],
   "source": [
    "result_pred"
   ]
  },
  {
   "cell_type": "code",
   "execution_count": null,
   "id": "947ec0e2",
   "metadata": {},
   "outputs": [],
   "source": [
    "# result_pred[\"original_image\"]\n",
    "result_pred[\"annotated_image\"]"
   ]
  },
  {
   "cell_type": "code",
   "execution_count": null,
   "id": "27bd8d55",
   "metadata": {},
   "outputs": [],
   "source": [
    "from PIL import Image\n",
    "images_path = r\"D:\\NLP 1\\Sat_object_detection\\sentinel-concat\\2023-07-05_2023-09-25-[58.5, 23.6, 59, 24.1]-res5-(2500, 2500)-mostRecent-sentinel-2-l1c-maxcc0.8.jpg\"\n",
    "img = Image.open(images_path)"
   ]
  },
  {
   "cell_type": "markdown",
   "id": "52a30bf4",
   "metadata": {},
   "source": [
    "### Drafts"
   ]
  },
  {
   "cell_type": "code",
   "execution_count": null,
   "id": "8809dd3c",
   "metadata": {},
   "outputs": [],
   "source": []
  },
  {
   "cell_type": "code",
   "execution_count": null,
   "id": "a4c4e5e2",
   "metadata": {},
   "outputs": [],
   "source": []
  },
  {
   "cell_type": "code",
   "execution_count": null,
   "id": "ee30fb36",
   "metadata": {},
   "outputs": [],
   "source": []
  },
  {
   "cell_type": "code",
   "execution_count": null,
   "id": "3cdd5212",
   "metadata": {},
   "outputs": [],
   "source": []
  },
  {
   "cell_type": "code",
   "execution_count": null,
   "id": "884ef33d",
   "metadata": {},
   "outputs": [],
   "source": []
  }
 ],
 "metadata": {
  "kernelspec": {
   "display_name": "Python 3 (ipykernel)",
   "language": "python",
   "name": "python3"
  }
 },
 "nbformat": 4,
 "nbformat_minor": 5
}
