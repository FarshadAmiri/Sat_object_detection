{
 "cells": [
  {
   "cell_type": "code",
   "execution_count": 7,
   "id": "54a825ad-1ed1-4079-9162-90a9c4cf4eb8",
   "metadata": {},
   "outputs": [],
   "source": [
    "import logging\n",
    "from sentinelhub import DataCollection\n",
    "from sentinelhub import SHConfig\n",
    "from sentinel_api import sentinel_single_image, sentinel_territory\n",
    "import numpy as np\n",
    "from PIL import Image\n",
    "import os"
   ]
  },
  {
   "cell_type": "markdown",
   "id": "fe17b938",
   "metadata": {},
   "source": [
    "### Logging in sentinel account"
   ]
  },
  {
   "cell_type": "code",
   "execution_count": 8,
   "id": "99e6d1e1",
   "metadata": {},
   "outputs": [],
   "source": [
    "logging.basicConfig(level=logging.INFO)\n",
    "\n",
    "# Your client credentials\n",
    "client_id = 'e0b127dc-fbb5-4151-8946-96d8728003c7'\n",
    "client_secret = '4Xy2[Bc#?&L!xbha(XB6*%Xbry,BU-cZA0Dd9n,W'\n",
    "\n",
    "config = SHConfig(instance_id='',\n",
    "         sh_client_id = client_id,\n",
    "         sh_client_secret = client_secret,\n",
    "         sh_base_url='https://services.sentinel-hub.com',\n",
    "         sh_token_url='https://services.sentinel-hub.com/oauth/token',)"
   ]
  },
  {
   "cell_type": "code",
   "execution_count": 9,
   "id": "2ad7e0f4",
   "metadata": {},
   "outputs": [],
   "source": [
    "evalscript = \"\"\"\n",
    "            //VERSION=3\n",
    "\n",
    "            function setup() {\n",
    "                return {\n",
    "                    input: [{\n",
    "                        bands: [\"B02\", \"B03\", \"B04\"]\n",
    "                    }],\n",
    "                    output: {\n",
    "                        bands: 3\n",
    "                    },\n",
    "                };\n",
    "            }\n",
    "\n",
    "            function evaluatePixel(sample) {\n",
    "                return [3.5*sample.B04, 3.5*sample.B03, 3.5*sample.B02];\n",
    "\n",
    "            }\n",
    "        \"\"\""
   ]
  },
  {
   "cell_type": "code",
   "execution_count": null,
   "id": "5ae15f7f",
   "metadata": {},
   "outputs": [],
   "source": [
    "evalscript = \"\"\"\n",
    "            //VERSION=3\n",
    "            let minVal = 0.0;\n",
    "            let maxVal = 0.4;\n",
    "\n",
    "            let viz = new HighlightCompressVisualizer(minVal, maxVal);\n",
    "\n",
    "            function setup() {\n",
    "            return {\n",
    "                input: [\"B04\", \"B03\", \"B02\",\"dataMask\"],\n",
    "                output: { bands: 4 }\n",
    "            };\n",
    "            }\n",
    "\n",
    "            function evaluatePixel(samples) {\n",
    "                let val = [samples.B04, samples.B03, samples.B02,samples.dataMask];\n",
    "                return viz.processList(val);\n",
    "            }\n",
    "\"\"\"\n"
   ]
  },
  {
   "cell_type": "markdown",
   "id": "f718f6c9",
   "metadata": {},
   "source": [
    "### Download an image from Sentinel-hub API (fn: sentinel_single_image)"
   ]
  },
  {
   "cell_type": "code",
   "execution_count": null,
   "id": "7c5b36d2",
   "metadata": {},
   "outputs": [],
   "source": [
    "# fn input\n",
    "bbox = [58.50, 23.65, 58.60, 23.75]\n",
    "timeline = ('2023-07-05', '2023-09-25')\n",
    "\n",
    "# Parameters\n",
    "mosaicking_order_modes = ['mostRecent', 'leastCC', 'leastRecent']\n",
    "data_collection_modes = [DataCollection.SENTINEL2_L2A, DataCollection.SENTINEL2_L1C]\n",
    "\n",
    "img = sentinel_single_image(bbox, timeline, config=config, data_collection=data_collection_modes[1], mosaicking_order = mosaicking_order_modes[0],evalscript=evalscript,\n",
    "                            resolution=10, maxcc=0.8, img_size=(2500,2500), return_numpy=False, verbose=True, save_image=False, save_dir=\"sentinel-hub\")\n",
    "img.save(r\"C:\\Users\\user2\\Desktop\\sentinel-3.png\")\n",
    "img"
   ]
  },
  {
   "cell_type": "markdown",
   "id": "14ec6a44",
   "metadata": {},
   "source": [
    "### Download images of a vast area from Sentinel-hub API (fn: sentinel_territory)"
   ]
  },
  {
   "cell_type": "markdown",
   "id": "190988c8",
   "metadata": {},
   "source": [
    "#### In disk"
   ]
  },
  {
   "cell_type": "code",
   "execution_count": 10,
   "id": "e1ac7e34",
   "metadata": {},
   "outputs": [
    {
     "name": "stdout",
     "output_type": "stream",
     "text": [
      "Territory dimensions: 10,080m x 5,560m | Area: 56 km^2\n",
      "Concatenated image will be in size of 2560 x 1280 p (if all of its area is supported by sentinel-hub)\n",
      "There are 66 bboxes to download\n",
      "\n"
     ]
    },
    {
     "name": "stderr",
     "output_type": "stream",
     "text": [
      "dl from sentinel-hub | bbox: [55.1, 25.02, 55.11, 25.03]: 100%|████████████████████████| 66/66 [01:18<00:00,  1.01s/it]"
     ]
    },
    {
     "name": "stdout",
     "output_type": "stream",
     "text": [
      "All images are downloaded into disk - concatenating images is in progress...\n"
     ]
    },
    {
     "name": "stderr",
     "output_type": "stream",
     "text": [
      "dl from sentinel-hub | bbox: [55.1, 25.02, 55.11, 25.03]: 100%|████████████████████████| 66/66 [01:19<00:00,  1.20s/it]"
     ]
    },
    {
     "name": "stdout",
     "output_type": "stream",
     "text": [
      "Done!\n",
      "concatenated image saved in sentinel-concat\n"
     ]
    },
    {
     "name": "stderr",
     "output_type": "stream",
     "text": [
      "\n"
     ]
    }
   ],
   "source": [
    "# fn inputs:\n",
    "# bbox_coords = [58.5, 23.6, 59, 24.1]\n",
    "# bbox_coords = [58.5, 23.6, 58.8, 23.9]\n",
    "bbox_coords = [55.0 , 24.97, 55.1, 25.02]\n",
    "# bbox_coords = [55.0 , 25.12, 55.15, 25.27]\n",
    "timeline = ('2023-10-10', '2023-10-28')\n",
    "\n",
    "# Parameters\n",
    "mosaicking_order_modes = ['mostRecent', 'leastCC', 'leastRecent']\n",
    "data_collection_modes = [DataCollection.SENTINEL2_L2A, DataCollection.SENTINEL2_L1C]\n",
    "\n",
    "final_image = sentinel_territory(bbox_coords, timeline, config, lon_lat_step=(0.01, 0.01), data_collection=data_collection_modes[0], mosaicking_order = 'mostRecent', maxcc=0.8,\n",
    "                                resolution=10, img_size=(256, 256), save_concat_image=True, in_memory=False, temp_dir=r\"sentinel-tmp\",evalscript=evalscript,\n",
    "                                concat_image_dir=r\"sentinel-concat\", concat_image_name=\"default\", delete_temp=False, ignore_inference_size_error=True)"
   ]
  },
  {
   "cell_type": "markdown",
   "id": "df25fb06",
   "metadata": {},
   "source": [
    "#### In memory"
   ]
  },
  {
   "cell_type": "code",
   "execution_count": null,
   "id": "e6c8b002",
   "metadata": {},
   "outputs": [],
   "source": [
    "# fn inputs\n",
    "bbox_coords = [58.7, 23.6, 58.9, 23.8]\n",
    "timeline = ('2023-07-05', '2023-09-25')\n",
    "\n",
    "# Parameters\n",
    "mosaicking_order_modes = ['mostRecent', 'leastCC', 'leastRecent']\n",
    "data_collection_modes = [DataCollection.SENTINEL2_L2A, DataCollection.SENTINEL2_L1C]\n",
    "\n",
    "concat_image = sentinel_territory(bbox_coords, timeline, config, data_collection=data_collection_modes[1], mosaicking_order = 'mostRecent', maxcc=0.8,evalscript=evalscript,\n",
    "                      resolution=5, img_size=(2500,2500), lon_lat_step=(0.05, 0.05), in_memory=True, save_concat_image=True, evalscript=evalscript ,\n",
    "                      concat_image_dir=r\"sentinel-concat\", concat_image_name=\"default\", delete_temp=False)"
   ]
  },
  {
   "cell_type": "markdown",
   "id": "df6ee9f4",
   "metadata": {},
   "source": [
    "### Integrated Inference (sentinel and inference modules integration)"
   ]
  },
  {
   "cell_type": "code",
   "execution_count": null,
   "id": "e8cf2ff5",
   "metadata": {},
   "outputs": [],
   "source": [
    "print(type(concat_image))\n",
    "print(concat_image.size)"
   ]
  },
  {
   "cell_type": "code",
   "execution_count": null,
   "id": "715da3f5",
   "metadata": {},
   "outputs": [],
   "source": [
    "from inference_modular import ship_detection\n",
    "from PIL import Image\n",
    "# images_path = r\"D:\\NLP 1\\Sat_object_detection\\inference_images\"\n",
    "# images_path = r\"D:\\NLP 1\\Sat_object_detection\\debug_images_2\\e7e24507a.jpg\"\n",
    "# images_path = r\"D:\\NLP 1\\Sat_object_detection\\sentinel-concat\\2023-07-05_2023-09-25-[58.5, 23.6, 58.7, 23.8]-res5-(2500, 2500)-mostRecent-sentinel-2-l1c-maxcc0.8.jpg\"\n",
    "# images_path = r\"D:\\NLP 1\\Sat_object_detection\\sentinel-concat\\2023-07-05_2023-09-25-[58.7, 23.6, 58.9, 23.8]-res5-(2500, 2500)-mostRecent-sentinel-2-l1c-maxcc0.8.jpg\"\n",
    "images_path = r\"D:\\NLP 1\\Sat_object_detection\\sentinel-concat\\2023-07-05_2023-09-25-[58.5, 23.6, 58.7, 23.8]-res5-(2500, 2500)-mostRecent-sentinel-2-l1c-maxcc0.8.jpg\"\n",
    "img = Image.open(images_path)\n",
    "bbox_coords = [58.7, 23.6, 58.9, 23.8]\n",
    "\n",
    "result_pred = ship_detection(images=img, bbox_coord_wgs84=bbox_coords, annotations=[\"score\", \"length\", \"coord\"], nms_iou_threshold=0.15, scale_down_factor= 3,\n",
    "                        adaptive_scale_down_parameters = {'a': 0.3, 'b': 1, 'threshold': 1.5}, confidence_threshold=0.85, sahi_overlap_ratio=0.05,\n",
    "                        output_annotated_image=True, save_annotated_image=True, output_original_image=True\n",
    "                        , output_dir=r\"D:\\NLP 1\\Sat_object_detection\\sentinel-concat-annotations\", \n",
    "                        # output_name=\"prediction\", annotation_font_size=12, annotation_font=r\"calibri.ttf\", annotation_bbox_width=1,\n",
    "                        )\n"
   ]
  },
  {
   "cell_type": "code",
   "execution_count": null,
   "id": "7ca7d872",
   "metadata": {},
   "outputs": [],
   "source": [
    "result_pred[]"
   ]
  },
  {
   "cell_type": "code",
   "execution_count": null,
   "id": "e71b7cbb",
   "metadata": {},
   "outputs": [],
   "source": [
    "result_pred[\"annotated_image\"]"
   ]
  },
  {
   "cell_type": "code",
   "execution_count": null,
   "id": "947ec0e2",
   "metadata": {},
   "outputs": [],
   "source": [
    "# result_pred[\"original_image\"]\n",
    "result_pred[\"annotated_image\"]"
   ]
  },
  {
   "cell_type": "code",
   "execution_count": null,
   "id": "27bd8d55",
   "metadata": {},
   "outputs": [],
   "source": [
    "from PIL import Image\n",
    "images_path = r\"D:\\NLP 1\\Sat_object_detection\\sentinel-concat\\2023-07-05_2023-09-25-[58.5, 23.6, 59, 24.1]-res5-(2500, 2500)-mostRecent-sentinel-2-l1c-maxcc0.8.jpg\"\n",
    "img = Image.open(images_path)"
   ]
  },
  {
   "cell_type": "markdown",
   "id": "52a30bf4",
   "metadata": {},
   "source": [
    "### Drafts"
   ]
  },
  {
   "cell_type": "code",
   "execution_count": null,
   "id": "8809dd3c",
   "metadata": {},
   "outputs": [],
   "source": []
  },
  {
   "cell_type": "code",
   "execution_count": null,
   "id": "a4c4e5e2",
   "metadata": {},
   "outputs": [],
   "source": []
  },
  {
   "cell_type": "code",
   "execution_count": null,
   "id": "ee30fb36",
   "metadata": {},
   "outputs": [],
   "source": []
  },
  {
   "cell_type": "code",
   "execution_count": null,
   "id": "3cdd5212",
   "metadata": {},
   "outputs": [],
   "source": []
  },
  {
   "cell_type": "code",
   "execution_count": null,
   "id": "884ef33d",
   "metadata": {},
   "outputs": [],
   "source": []
  }
 ],
 "metadata": {
  "kernelspec": {
   "display_name": "Python 3 (ipykernel)",
   "language": "python",
   "name": "python3"
  },
  "language_info": {
   "codemirror_mode": {
    "name": "ipython",
    "version": 3
   },
   "file_extension": ".py",
   "mimetype": "text/x-python",
   "name": "python",
   "nbconvert_exporter": "python",
   "pygments_lexer": "ipython3",
   "version": "3.11.4"
  }
 },
 "nbformat": 4,
 "nbformat_minor": 5
}
